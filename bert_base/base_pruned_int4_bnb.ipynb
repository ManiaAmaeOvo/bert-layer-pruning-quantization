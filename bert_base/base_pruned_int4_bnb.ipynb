{
 "cells": [
  {
   "cell_type": "code",
   "execution_count": 1,
   "id": "ce79d87f-4448-4878-a269-46cf78cdef3d",
   "metadata": {},
   "outputs": [
    {
     "name": "stdout",
     "output_type": "stream",
     "text": [
      "Input model (FP32): ./models/bert_pruned_8_layers_finetuned/best_model\n",
      "Output path for INT4 model: ./models/bert_pruned_8L_int4_bnb\n",
      "\n",
      "Loading model with INT4 quantization...\n",
      "Model loaded in INT4 on GPU.\n",
      "Saving model to ./models/bert_pruned_8L_int4_bnb...\n",
      "\n",
      "--- INT4 Model for 8L Bert-Base Saved Successfully! ---\n"
     ]
    }
   ],
   "source": [
    "\n",
    "import torch\n",
    "from transformers import AutoTokenizer, AutoModelForSequenceClassification, BitsAndBytesConfig\n",
    "import os\n",
    "\n",
    "# --- 1. 配置 ---\n",
    "# 输入模型：我们剪枝并微调好的8层FP32 Bert-Base模型\n",
    "PRUNED_FP32_MODEL_PATH = \"./models/bert_pruned_8_layers_finetuned/best_model\"\n",
    "\n",
    "# 输出目录：保存INT4量化配置和FP16权重的新路径\n",
    "QUANTIZED_INT4_SAVE_PATH = \"./models/bert_pruned_8L_int4_bnb\"\n",
    "\n",
    "print(f\"Input model (FP32): {PRUNED_FP32_MODEL_PATH}\")\n",
    "print(f\"Output path for INT4 model: {QUANTIZED_INT4_SAVE_PATH}\")\n",
    "\n",
    "# --- 2. 定义INT4量化配置 ---\n",
    "quantization_config = BitsAndBytesConfig(\n",
    "    load_in_4bit=True,\n",
    "    bnb_4bit_quant_type=\"nf4\",\n",
    "    bnb_4bit_compute_dtype=torch.bfloat16,\n",
    "    bnb_4bit_use_double_quant=True,\n",
    ")\n",
    "\n",
    "# --- 3. 加载、量化并保存模型 ---\n",
    "print(\"\\nLoading model with INT4 quantization...\")\n",
    "\n",
    "if not torch.cuda.is_available():\n",
    "    raise RuntimeError(\"BitsAndBytes INT4 quantization requires a GPU!\")\n",
    "\n",
    "model = AutoModelForSequenceClassification.from_pretrained(\n",
    "    PRUNED_FP32_MODEL_PATH,\n",
    "    quantization_config=quantization_config,\n",
    "    device_map=\"auto\",\n",
    ")\n",
    "\n",
    "tokenizer = AutoTokenizer.from_pretrained(PRUNED_FP32_MODEL_PATH)\n",
    "\n",
    "print(\"Model loaded in INT4 on GPU.\")\n",
    "\n",
    "os.makedirs(QUANTIZED_INT4_SAVE_PATH, exist_ok=True)\n",
    "\n",
    "print(f\"Saving model to {QUANTIZED_INT4_SAVE_PATH}...\")\n",
    "model.save_pretrained(QUANTIZED_INT4_SAVE_PATH)\n",
    "tokenizer.save_pretrained(QUANTIZED_INT4_SAVE_PATH)\n",
    "\n",
    "print(\"\\n--- INT4 Model for 8L Bert-Base Saved Successfully! ---\")"
   ]
  },
  {
   "cell_type": "code",
   "execution_count": null,
   "id": "a7f4dc6a-30b5-44bd-827e-be1d205eea6f",
   "metadata": {},
   "outputs": [],
   "source": []
  }
 ],
 "metadata": {
  "kernelspec": {
   "display_name": "Python 3 (ipykernel)",
   "language": "python",
   "name": "python3"
  },
  "language_info": {
   "codemirror_mode": {
    "name": "ipython",
    "version": 3
   },
   "file_extension": ".py",
   "mimetype": "text/x-python",
   "name": "python",
   "nbconvert_exporter": "python",
   "pygments_lexer": "ipython3",
   "version": "3.12.9"
  }
 },
 "nbformat": 4,
 "nbformat_minor": 5
}
