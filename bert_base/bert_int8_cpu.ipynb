{
 "cells": [
  {
   "cell_type": "code",
   "execution_count": 1,
   "id": "e3f9300e-381b-427d-b59f-8791f86ec76e",
   "metadata": {},
   "outputs": [
    {
     "name": "stdout",
     "output_type": "stream",
     "text": [
      "所有库已导入，配置完成！\n",
      "将使用设备: cpu\n"
     ]
    }
   ],
   "source": [
    "import torch\n",
    "from transformers import AutoTokenizer, AutoModelForSequenceClassification\n",
    "import time\n",
    "import numpy as np\n",
    "import os\n",
    "import evaluate\n",
    "from torch.utils.data import DataLoader\n",
    "from tqdm.auto import tqdm\n",
    "\n",
    "# --- 配置 ---\n",
    "FP32_MODEL_PATH = \"./my_bert_sst2_finetuned/checkpoint-1800\"\n",
    "TOKENIZER_NAME = \"bert-base-uncased\"\n",
    "# PyTorch的动态量化主要在CPU上进行优化和运行，所以我们在这里指定CPU\n",
    "# 这样可以和FP32模型在CPU上的表现进行公平对比\n",
    "DEVICE = torch.device(\"cpu\") \n",
    "\n",
    "print(\"所有库已导入，配置完成！\")\n",
    "print(f\"将使用设备: {DEVICE}\")"
   ]
  },
  {
   "cell_type": "code",
   "execution_count": 2,
   "id": "b2ef946d-3b6f-47b8-8a09-400dd678ee55",
   "metadata": {},
   "outputs": [
    {
     "name": "stdout",
     "output_type": "stream",
     "text": [
      "正在从 './my_bert_sst2_finetuned/checkpoint-1800' 加载FP32基线模型...\n",
      "FP32模型加载完成！\n"
     ]
    }
   ],
   "source": [
    "print(f\"正在从 '{FP32_MODEL_PATH}' 加载FP32基线模型...\")\n",
    "tokenizer = AutoTokenizer.from_pretrained(TOKENIZER_NAME)\n",
    "model_fp32 = AutoModelForSequenceClassification.from_pretrained(FP32_MODEL_PATH)\n",
    "model_fp32.to(DEVICE)\n",
    "model_fp32.eval() # 切换到评估模式\n",
    "print(\"FP32模型加载完成！\")"
   ]
  },
  {
   "cell_type": "code",
   "execution_count": 3,
   "id": "1de198d2-ffff-483d-ac5a-ba7e022af5de",
   "metadata": {},
   "outputs": [
    {
     "name": "stdout",
     "output_type": "stream",
     "text": [
      "正在应用后训练动态量化 (PTQ)...\n",
      "INT8模型创建成功！\n"
     ]
    }
   ],
   "source": [
    "print(\"正在应用后训练动态量化 (PTQ)...\")\n",
    "# 'torch.quantization.quantize_dynamic' 会返回一个全新的、已量化的模型\n",
    "model_int8 = torch.quantization.quantize_dynamic(\n",
    "    model_fp32,\n",
    "    {torch.nn.Linear}, # 指定要对哪些类型的层进行量化\n",
    "    dtype=torch.qint8  # 指定量化的目标数据类型为INT8\n",
    ")\n",
    "print(\"INT8模型创建成功！\")"
   ]
  },
  {
   "cell_type": "code",
   "execution_count": 4,
   "id": "a5c1a7b6-8792-455e-b544-8c2c5b6e484f",
   "metadata": {},
   "outputs": [
    {
     "name": "stdout",
     "output_type": "stream",
     "text": [
      "==============================\n",
      "模型大小对比:\n",
      "  - FP32 模型大小: 417.72 MB\n",
      "  - INT8 模型大小: 173.09 MB\n",
      "  - 体积减小了: 58.56%\n",
      "==============================\n"
     ]
    }
   ],
   "source": [
    "# 我们通过临时保存模型权重文件来测量它们的大小\n",
    "fp32_temp_path = \"fp32_weights.pt\"\n",
    "int8_temp_path = \"int8_weights.pt\"\n",
    "\n",
    "torch.save(model_fp32.state_dict(), fp32_temp_path)\n",
    "torch.save(model_int8.state_dict(), int8_temp_path)\n",
    "\n",
    "# 计算文件大小（MB）\n",
    "fp32_mb = os.path.getsize(fp32_temp_path) / (1024 * 1024)\n",
    "int8_mb = os.path.getsize(int8_temp_path) / (1024 * 1024)\n",
    "\n",
    "print(\"=\"*30)\n",
    "print(\"模型大小对比:\")\n",
    "print(f\"  - FP32 模型大小: {fp32_mb:.2f} MB\")\n",
    "print(f\"  - INT8 模型大小: {int8_mb:.2f} MB\")\n",
    "print(f\"  - 体积减小了: {(1 - int8_mb / fp32_mb) * 100:.2f}%\")\n",
    "print(\"=\"*30)\n",
    "\n",
    "# 删除临时文件\n",
    "os.remove(fp32_temp_path)\n",
    "os.remove(int8_temp_path)"
   ]
  },
  {
   "cell_type": "code",
   "execution_count": 5,
   "id": "045c0a03-7b3a-43c2-bcab-facd3d5fc03a",
   "metadata": {},
   "outputs": [
    {
     "name": "stdout",
     "output_type": "stream",
     "text": [
      "正在测量INT8模型的推理延迟 (在CPU上)...\n",
      "==============================\n",
      "INT8 模型推理延迟 (在 cpu 上):\n",
      "  - 平均: 70.02 ms\n",
      "  - 标准差: 47.48 ms\n",
      "==============================\n"
     ]
    }
   ],
   "source": [
    "print(\"正在测量INT8模型的推理延迟 (在CPU上)...\")\n",
    "TEST_SENTENCE = \"This is a great movie, I really enjoyed it.\"\n",
    "WARMUP_RUNS = 10\n",
    "MEASURE_RUNS = 100\n",
    "\n",
    "# 准备输入\n",
    "inputs = tokenizer(TEST_SENTENCE, return_tensors=\"pt\").to(DEVICE)\n",
    "\n",
    "# 预热\n",
    "with torch.no_grad():\n",
    "    for _ in range(WARMUP_RUNS):\n",
    "        _ = model_int8(**inputs)\n",
    "\n",
    "# 测量\n",
    "timings = []\n",
    "with torch.no_grad():\n",
    "    for _ in range(MEASURE_RUNS):\n",
    "        start_time = time.perf_counter()\n",
    "        _ = model_int8(**inputs)\n",
    "        end_time = time.perf_counter()\n",
    "        timings.append(end_time - start_time)\n",
    "\n",
    "# 计算并报告结果\n",
    "avg_latency_ms = np.mean(timings) * 1000\n",
    "std_latency_ms = np.std(timings) * 1000\n",
    "\n",
    "print(\"=\"*30)\n",
    "print(f\"INT8 模型推理延迟 (在 {DEVICE} 上):\")\n",
    "print(f\"  - 平均: {avg_latency_ms:.2f} ms\")\n",
    "print(f\"  - 标准差: {std_latency_ms:.2f} ms\")\n",
    "print(\"=\"*30)"
   ]
  },
  {
   "cell_type": "code",
   "execution_count": 12,
   "id": "b2688b48-cb84-4171-86c8-4aec65ef61bd",
   "metadata": {},
   "outputs": [
    {
     "name": "stdout",
     "output_type": "stream",
     "text": [
      "正在测量FP32模型的推理延迟 (在CPU上)...\n",
      "==============================\n",
      "fp32 模型推理延迟 (在 cpu 上):\n",
      "  - 平均: 172.98 ms\n",
      "  - 标准差: 59.00 ms\n",
      "==============================\n"
     ]
    }
   ],
   "source": [
    "print(\"正在测量FP32模型的推理延迟 (在CPU上)...\")\n",
    "TEST_SENTENCE = \"This is a great movie, I really enjoyed it.\"\n",
    "WARMUP_RUNS = 10\n",
    "MEASURE_RUNS = 100\n",
    "\n",
    "# 准备输入\n",
    "inputs = tokenizer(TEST_SENTENCE, return_tensors=\"pt\").to(DEVICE)\n",
    "\n",
    "# 预热\n",
    "with torch.no_grad():\n",
    "    for _ in range(WARMUP_RUNS):\n",
    "        _ = model_fp32(**inputs)\n",
    "\n",
    "# 测量\n",
    "timings = []\n",
    "with torch.no_grad():\n",
    "    for _ in range(MEASURE_RUNS):\n",
    "        start_time = time.perf_counter()\n",
    "        _ = model_fp32(**inputs)\n",
    "        end_time = time.perf_counter()\n",
    "        timings.append(end_time - start_time)\n",
    "\n",
    "# 计算并报告结果\n",
    "avg_latency_ms = np.mean(timings) * 1000\n",
    "std_latency_ms = np.std(timings) * 1000\n",
    "\n",
    "print(\"=\"*30)\n",
    "print(f\"fp32 模型推理延迟 (在 {DEVICE} 上):\")\n",
    "print(f\"  - 平均: {avg_latency_ms:.2f} ms\")\n",
    "print(f\"  - 标准差: {std_latency_ms:.2f} ms\")\n",
    "print(\"=\"*30)"
   ]
  },
  {
   "cell_type": "code",
   "execution_count": 8,
   "id": "5c6808d2-41f2-479f-88a8-245b6eab9bb4",
   "metadata": {},
   "outputs": [
    {
     "name": "stdout",
     "output_type": "stream",
     "text": [
      "\n",
      "正在加载'glue', 'sst2'数据集...\n",
      "数据集加载成功！\n",
      "正在加载分词器...\n",
      "正在对数据集进行分词预处理...\n",
      "预处理完成！\n"
     ]
    }
   ],
   "source": [
    "from datasets import load_dataset\n",
    "print(\"\\n正在加载'glue', 'sst2'数据集...\")\n",
    "# 注意：如果服务器网络访问Hugging Face Hub有问题，\n",
    "# 你可能需要像之前一样设置HF_ENDPOINT环境变量来使用镜像\n",
    "raw_datasets = load_dataset(\"glue\", \"sst2\")\n",
    "print(\"数据集加载成功！\")\n",
    "\n",
    "print(\"正在加载分词器...\")\n",
    "tokenizer = AutoTokenizer.from_pretrained(TOKENIZER_NAME)\n",
    "\n",
    "def tokenize_function(examples):\n",
    "    return tokenizer(examples[\"sentence\"], padding=\"max_length\", truncation=True)\n",
    "\n",
    "print(\"正在对数据集进行分词预处理...\")\n",
    "tokenized_datasets = raw_datasets.map(tokenize_function, batched=True)\n",
    "print(\"预处理完成！\")\n",
    "    \n",
    "eval_dataset = tokenized_datasets[\"validation\"]"
   ]
  },
  {
   "cell_type": "code",
   "execution_count": 11,
   "id": "e2cf0831-596c-4d54-b4f3-eb6fbf8664e3",
   "metadata": {},
   "outputs": [
    {
     "name": "stdout",
     "output_type": "stream",
     "text": [
      "正在评估INT8模型的准确率...\n"
     ]
    },
    {
     "data": {
      "application/vnd.jupyter.widget-view+json": {
       "model_id": "fddfe0b77768460cb59915bd282cd86b",
       "version_major": 2,
       "version_minor": 0
      },
      "text/plain": [
       "Evaluating INT8 Model:   0%|          | 0/14 [00:00<?, ?it/s]"
      ]
     },
     "metadata": {},
     "output_type": "display_data"
    },
    {
     "name": "stdout",
     "output_type": "stream",
     "text": [
      "\n",
      "========================================\n",
      "       INT8 模型性能评估结果\n",
      "========================================\n",
      "  - 在验证集上的准确率: 91.51%\n",
      "========================================\n"
     ]
    }
   ],
   "source": [
    "# --- 单元格 6 (修正版) ---\n",
    "\n",
    "print(\"正在评估INT8模型的准确率...\")\n",
    "\n",
    "# 确保你的验证数据集 'tokenized_datasets[\"validation\"]' 已经被加载\n",
    "eval_dataset = tokenized_datasets[\"validation\"]\n",
    "\n",
    "# 创建一个数据加载器\n",
    "eval_dataloader = DataLoader(eval_dataset.with_format(\"torch\"), batch_size=64)\n",
    "\n",
    "# 加载评估指标\n",
    "metric = evaluate.load(\"accuracy\")\n",
    "\n",
    "model_int8.eval()\n",
    "for batch in tqdm(eval_dataloader, desc=\"Evaluating INT8 Model\"):\n",
    "    # (调试技巧) 如果不确定batch里有什么，可以取消下面这行的注释来查看\n",
    "    # print(batch.keys()) \n",
    "    \n",
    "    batch = {k: v.to(DEVICE) for k, v in batch.items() if k in ['input_ids', 'attention_mask', 'label']}\n",
    "    \n",
    "    with torch.no_grad():\n",
    "        outputs = model_int8(input_ids=batch['input_ids'], attention_mask=batch['attention_mask'])\n",
    "\n",
    "    logits = outputs.logits\n",
    "    predictions = torch.argmax(logits, dim=-1)\n",
    "    \n",
    "    # <-- 关键修正：将 \"labels\" 改为 \"label\"\n",
    "    metric.add_batch(predictions=predictions, references=batch[\"label\"]) \n",
    "\n",
    "eval_metric = metric.compute()\n",
    "accuracy = eval_metric[\"accuracy\"]\n",
    "\n",
    "print(\"\\n\" + \"=\"*40)\n",
    "print(\"       INT8 模型性能评估结果\")\n",
    "print(\"=\"*40)\n",
    "print(f\"  - 在验证集上的准确率: {accuracy * 100:.2f}%\")\n",
    "print(\"=\"*40)"
   ]
  },
  {
   "cell_type": "code",
   "execution_count": 13,
   "id": "f531fcc5-dd93-4900-8a11-650674a3a04d",
   "metadata": {},
   "outputs": [
    {
     "name": "stdout",
     "output_type": "stream",
     "text": [
      "INT8 模型已成功保存到: ./saved_models/bert_sst2_int8_ptq.pt\n"
     ]
    }
   ],
   "source": [
    "# --- 保存 INT8 模型的代码 ---\n",
    "\n",
    "import os\n",
    "\n",
    "# 1. 定义一个清晰的保存路径和文件名\n",
    "#    建议专门创建一个 'models' 文件夹来存放\n",
    "save_directory = \"./saved_models\"\n",
    "int8_model_filename = \"bert_sst2_int8_ptq.pt\"\n",
    "int8_model_save_path = os.path.join(save_directory, int8_model_filename)\n",
    "\n",
    "# 2. 确保目录存在 (这是一个好习惯)\n",
    "os.makedirs(save_directory, exist_ok=True)\n",
    "\n",
    "# 3. 保存模型的状态字典 (state_dict)\n",
    "#    model_int8 是你上一步在内存中创建的量化模型对象\n",
    "torch.save(model_int8.state_dict(), int8_model_save_path)\n",
    "\n",
    "print(f\"INT8 模型已成功保存到: {int8_model_save_path}\")"
   ]
  },
  {
   "cell_type": "code",
   "execution_count": null,
   "id": "aea14215-f201-43d6-9528-b82f236ebf8a",
   "metadata": {},
   "outputs": [],
   "source": []
  }
 ],
 "metadata": {
  "kernelspec": {
   "display_name": "Python 3 (ipykernel)",
   "language": "python",
   "name": "python3"
  },
  "language_info": {
   "codemirror_mode": {
    "name": "ipython",
    "version": 3
   },
   "file_extension": ".py",
   "mimetype": "text/x-python",
   "name": "python",
   "nbconvert_exporter": "python",
   "pygments_lexer": "ipython3",
   "version": "3.12.7"
  }
 },
 "nbformat": 4,
 "nbformat_minor": 5
}
