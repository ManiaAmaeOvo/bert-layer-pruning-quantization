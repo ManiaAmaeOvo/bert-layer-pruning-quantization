{
 "cells": [
  {
   "cell_type": "code",
   "execution_count": 7,
   "id": "84e4339a-6d33-49c6-a16e-f5e2145ccd01",
   "metadata": {
    "scrolled": true
   },
   "outputs": [
    {
     "name": "stdout",
     "output_type": "stream",
     "text": [
      "Libraries imported successfully.\n"
     ]
    }
   ],
   "source": [
    "# =======================================================\n",
    "# Cell 1: Imports\n",
    "# =======================================================\n",
    "import torch\n",
    "from transformers import AutoTokenizer, AutoModelForSequenceClassification\n",
    "from datasets import load_dataset\n",
    "from torch.utils.data import DataLoader\n",
    "from tqdm.auto import tqdm\n",
    "import numpy as np\n",
    "import matplotlib.pyplot as plt\n",
    "import operator\n",
    "import os\n",
    "plt.rcParams['pdf.fonttype'] = 42\n",
    "plt.rcParams['ps.fonttype'] = 42\n",
    "plt.rcParams['svg.fonttype'] = 'none'\n",
    "print(\"Libraries imported successfully.\")"
   ]
  },
  {
   "cell_type": "code",
   "execution_count": 2,
   "id": "e59a96d7-0a69-4c0d-857f-4f9756a19337",
   "metadata": {},
   "outputs": [
    {
     "name": "stdout",
     "output_type": "stream",
     "text": [
      "Configuration:\n",
      "  Model Path: ./my_bert_sst2_finetuned/checkpoint-1800\n",
      "  Tokenizer: bert-base-uncased\n",
      "  Batch Size: 32\n",
      "  Using Device: cuda\n"
     ]
    }
   ],
   "source": [
    "# =======================================================\n",
    "# Cell 2: Configuration\n",
    "# =======================================================\n",
    "# 你已经微调好的、保存在本地的 FP32 BERT-SST2 模型的路径\n",
    "MODEL_PATH = \"./my_bert_sst2_finetuned/checkpoint-1800\" \n",
    "# 用来加载分词器的基础模型名称，应与你微调时使用的一致\n",
    "TOKENIZER_NAME = \"bert-base-uncased\" \n",
    "# -------------------------\n",
    "\n",
    "BATCH_SIZE = 32\n",
    "DEVICE = torch.device(\"cuda\" if torch.cuda.is_available() else \"cpu\")\n",
    "\n",
    "print(f\"Configuration:\")\n",
    "print(f\"  Model Path: {MODEL_PATH}\")\n",
    "print(f\"  Tokenizer: {TOKENIZER_NAME}\")\n",
    "print(f\"  Batch Size: {BATCH_SIZE}\")\n",
    "print(f\"  Using Device: {DEVICE}\")"
   ]
  },
  {
   "cell_type": "code",
   "execution_count": 3,
   "id": "f5ac7092-8bee-4734-8fe4-db807dea356b",
   "metadata": {},
   "outputs": [
    {
     "name": "stdout",
     "output_type": "stream",
     "text": [
      "Helper functions defined: load_fp32_model_and_tokenizer, evaluate_accuracy\n"
     ]
    }
   ],
   "source": [
    "# =======================================================\n",
    "# Cell 3: Helper Functions (Corrected)\n",
    "# =======================================================\n",
    "\n",
    "def load_fp32_model_and_tokenizer(model_path, tokenizer_name, device):\n",
    "    \"\"\"\n",
    "    加载 FP32 模型和分词器。\n",
    "    这个函数专门用于加载标准的、未经量化的 Hugging Face 模型。\n",
    "    \"\"\"\n",
    "    print(f\"Loading tokenizer from '{tokenizer_name}'...\")\n",
    "    tokenizer = AutoTokenizer.from_pretrained(tokenizer_name)\n",
    "    \n",
    "    print(f\"Loading FP32 model from '{model_path}'...\")\n",
    "    model = AutoModelForSequenceClassification.from_pretrained(model_path)\n",
    "    model.to(device)\n",
    "    model.eval() # 设置为评估模式\n",
    "    \n",
    "    print(\"Model and tokenizer loaded.\")\n",
    "    return model, tokenizer\n",
    "\n",
    "def evaluate_accuracy(model, dataloader, device):\n",
    "    \"\"\"\n",
    "    在给定的数据集上评估模型的准确率。\n",
    "    \"\"\"\n",
    "    total_correct = 0\n",
    "    total_samples = 0\n",
    "    \n",
    "    model.eval()\n",
    "    with torch.no_grad():\n",
    "        for batch in tqdm(dataloader, desc=\"Evaluating Accuracy\"):\n",
    "            # 将数据移动到模型所在的设备\n",
    "            batch = {k: v.to(device) for k, v in batch.items()}\n",
    "            \n",
    "            # 模型推理\n",
    "            outputs = model(input_ids=batch['input_ids'], attention_mask=batch['attention_mask'])\n",
    "            \n",
    "            # 获取预测结果\n",
    "            predictions = torch.argmax(outputs.logits, dim=-1)\n",
    "            \n",
    "            # ######################################\n",
    "            #  修正处：将 batch[\"labels\"] 修改为 batch[\"label\"]\n",
    "            # ######################################\n",
    "            labels = batch[\"label\"] \n",
    "            \n",
    "            total_correct += (predictions == labels).sum().item()\n",
    "            total_samples += len(labels)\n",
    "            \n",
    "    return total_correct / total_samples\n",
    "\n",
    "print(\"Helper functions defined: load_fp32_model_and_tokenizer, evaluate_accuracy\")"
   ]
  },
  {
   "cell_type": "code",
   "execution_count": 4,
   "id": "0ea55411-7159-46af-b174-091c50d91c2d",
   "metadata": {},
   "outputs": [
    {
     "name": "stdout",
     "output_type": "stream",
     "text": [
      "Preparing dataset...\n",
      "Dataset prepared and DataLoader created.\n"
     ]
    }
   ],
   "source": [
    "# =======================================================\n",
    "# Cell 4: Data Preparation\n",
    "# =======================================================\n",
    "print(\"Preparing dataset...\")\n",
    "# 1. 加载原始数据集\n",
    "raw_datasets = load_dataset(\"glue\", \"sst2\")\n",
    "eval_dataset = raw_datasets[\"validation\"]\n",
    "\n",
    "# 2. 定义分词函数\n",
    "# 注意：这里我们使用一个临时的分词器实例，以避免和主分词器混淆\n",
    "tokenizer_for_map = AutoTokenizer.from_pretrained(TOKENIZER_NAME)\n",
    "def tokenize_function(examples):\n",
    "    return tokenizer_for_map(examples[\"sentence\"], padding=\"max_length\", truncation=True, max_length=128)\n",
    "\n",
    "# 3. 对数据集进行分词和格式化\n",
    "tokenized_eval_dataset = eval_dataset.map(tokenize_function, batched=True)\n",
    "tokenized_eval_dataset = tokenized_eval_dataset.remove_columns([\"sentence\", \"idx\"])\n",
    "tokenized_eval_dataset.set_format(\"torch\", columns=[\"input_ids\", \"attention_mask\", \"label\"])\n",
    "\n",
    "# 4. 创建 DataLoader\n",
    "eval_dataloader = DataLoader(tokenized_eval_dataset, batch_size=BATCH_SIZE)\n",
    "\n",
    "print(\"Dataset prepared and DataLoader created.\")"
   ]
  },
  {
   "cell_type": "code",
   "execution_count": 5,
   "id": "042cf05b-7b16-4220-875c-73da98703c2f",
   "metadata": {},
   "outputs": [
    {
     "name": "stdout",
     "output_type": "stream",
     "text": [
      "Loading tokenizer from 'bert-base-uncased'...\n",
      "Loading FP32 model from './my_bert_sst2_finetuned/checkpoint-1800'...\n",
      "Model and tokenizer loaded.\n",
      "\n",
      "Calculating baseline accuracy...\n"
     ]
    },
    {
     "data": {
      "application/vnd.jupyter.widget-view+json": {
       "model_id": "de58e39e00544c7cb42745038f700fb4",
       "version_major": 2,
       "version_minor": 0
      },
      "text/plain": [
       "Evaluating Accuracy:   0%|          | 0/28 [00:00<?, ?it/s]"
      ]
     },
     "metadata": {},
     "output_type": "display_data"
    },
    {
     "name": "stdout",
     "output_type": "stream",
     "text": [
      "\n",
      "Baseline Model Accuracy: 0.9300\n",
      "\n",
      "Starting ablation study for 12 layers...\n",
      "--- Analyzing Layer 0 ---\n"
     ]
    },
    {
     "data": {
      "application/vnd.jupyter.widget-view+json": {
       "model_id": "582edde45f394f079651dd552e777d06",
       "version_major": 2,
       "version_minor": 0
      },
      "text/plain": [
       "Evaluating Accuracy:   0%|          | 0/28 [00:00<?, ?it/s]"
      ]
     },
     "metadata": {},
     "output_type": "display_data"
    },
    {
     "name": "stdout",
     "output_type": "stream",
     "text": [
      "Accuracy after removing layer 0: 0.9243\n",
      "Sensitivity (Accuracy Drop): 0.0057\n",
      "--- Analyzing Layer 1 ---\n"
     ]
    },
    {
     "data": {
      "application/vnd.jupyter.widget-view+json": {
       "model_id": "3e2c05059a48435abd64c3c735c10eec",
       "version_major": 2,
       "version_minor": 0
      },
      "text/plain": [
       "Evaluating Accuracy:   0%|          | 0/28 [00:00<?, ?it/s]"
      ]
     },
     "metadata": {},
     "output_type": "display_data"
    },
    {
     "name": "stdout",
     "output_type": "stream",
     "text": [
      "Accuracy after removing layer 1: 0.9335\n",
      "Sensitivity (Accuracy Drop): -0.0034\n",
      "--- Analyzing Layer 2 ---\n"
     ]
    },
    {
     "data": {
      "application/vnd.jupyter.widget-view+json": {
       "model_id": "fe9009253d384a3691923ba1ed7ec228",
       "version_major": 2,
       "version_minor": 0
      },
      "text/plain": [
       "Evaluating Accuracy:   0%|          | 0/28 [00:00<?, ?it/s]"
      ]
     },
     "metadata": {},
     "output_type": "display_data"
    },
    {
     "name": "stdout",
     "output_type": "stream",
     "text": [
      "Accuracy after removing layer 2: 0.9255\n",
      "Sensitivity (Accuracy Drop): 0.0046\n",
      "--- Analyzing Layer 3 ---\n"
     ]
    },
    {
     "data": {
      "application/vnd.jupyter.widget-view+json": {
       "model_id": "690e58a162cd4acf95e60870d4e87999",
       "version_major": 2,
       "version_minor": 0
      },
      "text/plain": [
       "Evaluating Accuracy:   0%|          | 0/28 [00:00<?, ?it/s]"
      ]
     },
     "metadata": {},
     "output_type": "display_data"
    },
    {
     "name": "stdout",
     "output_type": "stream",
     "text": [
      "Accuracy after removing layer 3: 0.9243\n",
      "Sensitivity (Accuracy Drop): 0.0057\n",
      "--- Analyzing Layer 4 ---\n"
     ]
    },
    {
     "data": {
      "application/vnd.jupyter.widget-view+json": {
       "model_id": "e9bd4d2224d8403bab359762151bc8d8",
       "version_major": 2,
       "version_minor": 0
      },
      "text/plain": [
       "Evaluating Accuracy:   0%|          | 0/28 [00:00<?, ?it/s]"
      ]
     },
     "metadata": {},
     "output_type": "display_data"
    },
    {
     "name": "stdout",
     "output_type": "stream",
     "text": [
      "Accuracy after removing layer 4: 0.9278\n",
      "Sensitivity (Accuracy Drop): 0.0023\n",
      "--- Analyzing Layer 5 ---\n"
     ]
    },
    {
     "data": {
      "application/vnd.jupyter.widget-view+json": {
       "model_id": "5bf7d3c9971e4dd49ff8453be72211e1",
       "version_major": 2,
       "version_minor": 0
      },
      "text/plain": [
       "Evaluating Accuracy:   0%|          | 0/28 [00:00<?, ?it/s]"
      ]
     },
     "metadata": {},
     "output_type": "display_data"
    },
    {
     "name": "stdout",
     "output_type": "stream",
     "text": [
      "Accuracy after removing layer 5: 0.9220\n",
      "Sensitivity (Accuracy Drop): 0.0080\n",
      "--- Analyzing Layer 6 ---\n"
     ]
    },
    {
     "data": {
      "application/vnd.jupyter.widget-view+json": {
       "model_id": "4f81015e6bc243dcba9bc27652a0f2c8",
       "version_major": 2,
       "version_minor": 0
      },
      "text/plain": [
       "Evaluating Accuracy:   0%|          | 0/28 [00:00<?, ?it/s]"
      ]
     },
     "metadata": {},
     "output_type": "display_data"
    },
    {
     "name": "stdout",
     "output_type": "stream",
     "text": [
      "Accuracy after removing layer 6: 0.9071\n",
      "Sensitivity (Accuracy Drop): 0.0229\n",
      "--- Analyzing Layer 7 ---\n"
     ]
    },
    {
     "data": {
      "application/vnd.jupyter.widget-view+json": {
       "model_id": "0c3e7cc78cd54c34823da836f56ee90e",
       "version_major": 2,
       "version_minor": 0
      },
      "text/plain": [
       "Evaluating Accuracy:   0%|          | 0/28 [00:00<?, ?it/s]"
      ]
     },
     "metadata": {},
     "output_type": "display_data"
    },
    {
     "name": "stdout",
     "output_type": "stream",
     "text": [
      "Accuracy after removing layer 7: 0.9128\n",
      "Sensitivity (Accuracy Drop): 0.0172\n",
      "--- Analyzing Layer 8 ---\n"
     ]
    },
    {
     "data": {
      "application/vnd.jupyter.widget-view+json": {
       "model_id": "54849df2718540f7b9f3e59679f9ad0b",
       "version_major": 2,
       "version_minor": 0
      },
      "text/plain": [
       "Evaluating Accuracy:   0%|          | 0/28 [00:00<?, ?it/s]"
      ]
     },
     "metadata": {},
     "output_type": "display_data"
    },
    {
     "name": "stdout",
     "output_type": "stream",
     "text": [
      "Accuracy after removing layer 8: 0.8991\n",
      "Sensitivity (Accuracy Drop): 0.0310\n",
      "--- Analyzing Layer 9 ---\n"
     ]
    },
    {
     "data": {
      "application/vnd.jupyter.widget-view+json": {
       "model_id": "ea83d0350a1b4d588f11e56c7a91549c",
       "version_major": 2,
       "version_minor": 0
      },
      "text/plain": [
       "Evaluating Accuracy:   0%|          | 0/28 [00:00<?, ?it/s]"
      ]
     },
     "metadata": {},
     "output_type": "display_data"
    },
    {
     "name": "stdout",
     "output_type": "stream",
     "text": [
      "Accuracy after removing layer 9: 0.9232\n",
      "Sensitivity (Accuracy Drop): 0.0069\n",
      "--- Analyzing Layer 10 ---\n"
     ]
    },
    {
     "data": {
      "application/vnd.jupyter.widget-view+json": {
       "model_id": "93fe549c87df4a25829cdce030621be3",
       "version_major": 2,
       "version_minor": 0
      },
      "text/plain": [
       "Evaluating Accuracy:   0%|          | 0/28 [00:00<?, ?it/s]"
      ]
     },
     "metadata": {},
     "output_type": "display_data"
    },
    {
     "name": "stdout",
     "output_type": "stream",
     "text": [
      "Accuracy after removing layer 10: 0.9266\n",
      "Sensitivity (Accuracy Drop): 0.0034\n",
      "--- Analyzing Layer 11 ---\n"
     ]
    },
    {
     "data": {
      "application/vnd.jupyter.widget-view+json": {
       "model_id": "41bf0c7b93654339824fdcdf02c60742",
       "version_major": 2,
       "version_minor": 0
      },
      "text/plain": [
       "Evaluating Accuracy:   0%|          | 0/28 [00:00<?, ?it/s]"
      ]
     },
     "metadata": {},
     "output_type": "display_data"
    },
    {
     "name": "stdout",
     "output_type": "stream",
     "text": [
      "Accuracy after removing layer 11: 0.9289\n",
      "Sensitivity (Accuracy Drop): 0.0011\n",
      "\n",
      "--- Sensitivity Analysis Complete ---\n"
     ]
    }
   ],
   "source": [
    "# =======================================================\n",
    "# Cell 5: Main Ablation Study Workflow\n",
    "# =======================================================\n",
    "\n",
    "# --- 5.1 加载 Baseline 模型 ---\n",
    "model, tokenizer = load_fp32_model_and_tokenizer(MODEL_PATH, TOKENIZER_NAME, DEVICE)\n",
    "\n",
    "# --- 5.2 计算 Baseline 准确率 ---\n",
    "print(\"\\nCalculating baseline accuracy...\")\n",
    "baseline_accuracy = evaluate_accuracy(model, eval_dataloader, DEVICE)\n",
    "print(f\"\\nBaseline Model Accuracy: {baseline_accuracy:.4f}\")\n",
    "\n",
    "# --- 5.3 执行逐层消融实验 ---\n",
    "sensitivity_scores = {}\n",
    "num_layers = model.config.num_hidden_layers\n",
    "\n",
    "# 定义一个空的 forward 函数，用于“屏蔽”层\n",
    "def identity_forward(hidden_states, *args, **kwargs):\n",
    "    return (hidden_states,)\n",
    "\n",
    "print(f\"\\nStarting ablation study for {num_layers} layers...\")\n",
    "for i in range(num_layers):\n",
    "    print(f\"--- Analyzing Layer {i} ---\")\n",
    "    \n",
    "    # 保存原始层的 forward 方法\n",
    "    original_forward = model.bert.encoder.layer[i].forward\n",
    "    \n",
    "    # 替换为 identity_forward 来“屏蔽”该层\n",
    "    model.bert.encoder.layer[i].forward = identity_forward\n",
    "    \n",
    "    # 评估修改后模型的性能\n",
    "    acc_after_ablation = evaluate_accuracy(model, eval_dataloader, DEVICE)\n",
    "    \n",
    "    # 计算敏感度（准确率下降值）\n",
    "    sensitivity = baseline_accuracy - acc_after_ablation\n",
    "    sensitivity_scores[f\"Layer {i}\"] = sensitivity\n",
    "    print(f\"Accuracy after removing layer {i}: {acc_after_ablation:.4f}\")\n",
    "    print(f\"Sensitivity (Accuracy Drop): {sensitivity:.4f}\")\n",
    "    \n",
    "    # ！！！恢复原始的 forward 方法，确保下一轮分析的独立性！！！\n",
    "    model.bert.encoder.layer[i].forward = original_forward\n",
    "\n",
    "print(\"\\n--- Sensitivity Analysis Complete ---\")"
   ]
  },
  {
   "cell_type": "code",
   "execution_count": 8,
   "id": "2bb6e008-0a4b-4b45-bad5-565edc3eccd1",
   "metadata": {},
   "outputs": [
    {
     "name": "stdout",
     "output_type": "stream",
     "text": [
      "\n",
      "--- Layer Sensitivity Ranking (from least to most important) ---\n",
      "Layer 1: -0.0034\n",
      "Layer 11: 0.0011\n",
      "Layer 4: 0.0023\n",
      "Layer 10: 0.0034\n",
      "Layer 2: 0.0046\n",
      "Layer 0: 0.0057\n",
      "Layer 3: 0.0057\n",
      "Layer 9: 0.0069\n",
      "Layer 5: 0.0080\n",
      "Layer 7: 0.0172\n",
      "Layer 6: 0.0229\n",
      "Layer 8: 0.0310\n",
      "\n",
      "Chart saved as an editable SVG file: figure/bert_layer_sensitivity_analysis.svg\n"
     ]
    },
    {
     "data": {
      "image/png": "[encoded data removed]",
      "text/plain": [
       "<Figure size 1200x1000 with 1 Axes>"
      ]
     },
     "metadata": {},
     "output_type": "display_data"
    }
   ],
   "source": [
    "# =======================================================\n",
    "# Cell 6: Analyze and Visualize Results\n",
    "# =======================================================\n",
    "\n",
    "# 1. 对结果按敏感度（值越小越不重要）进行排序\n",
    "sorted_sensitivity = sorted(sensitivity_scores.items(), key=operator.itemgetter(1))\n",
    "\n",
    "print(\"\\n--- Layer Sensitivity Ranking (from least to most important) ---\")\n",
    "for layer_name, score in sorted_sensitivity:\n",
    "    print(f\"{layer_name}: {score:.4f}\")\n",
    "\n",
    "# 2. 准备数据进行可视化\n",
    "layers = [item[0] for item in sorted_sensitivity]\n",
    "scores = [item[1] for item in sorted_sensitivity]\n",
    "\n",
    "# =======================================================\n",
    "# 4. Define Gradient Color Scheme\n",
    "# =======================================================\n",
    "# Define start (light) and end (dark) colors for the gradient\n",
    "start_color = np.array([204, 229, 255]) / 255 # Light Blue\n",
    "end_color = np.array([1, 115, 178]) / 255     # #0173B2 Calm Blue (from our established palette)\n",
    "\n",
    "# Generate a list of colors for each bar\n",
    "num_bars = len(layers)\n",
    "gradient_colors = [start_color + (end_color - start_color) * i / (num_bars - 1) for i in range(num_bars)]\n",
    "\n",
    "# =======================================================\n",
    "# 5. Create the Visualization with New Scheme\n",
    "# =======================================================\n",
    "plt.figure(figsize=(12, 10)) # Increased height for better readability\n",
    "\n",
    "# Create horizontal bar chart with the new gradient colors\n",
    "bars = plt.barh(layers, scores, color=gradient_colors)\n",
    "\n",
    "# Set labels and title in English as requested\n",
    "plt.xlabel('Accuracy Drop (Higher is More Important)', fontsize=12)\n",
    "plt.ylabel('Transformer Layer', fontsize=12)\n",
    "plt.title('BERT Layer Sensitivity Analysis on SST-2', fontsize=16)\n",
    "plt.gca().invert_yaxis()  # Place least important layer at the top\n",
    "\n",
    "# Add numerical labels to each bar\n",
    "for bar in bars:\n",
    "    plt.text(bar.get_width() + (max(scores) * 0.01), # Add slight offset for clarity\n",
    "             bar.get_y() + bar.get_height()/2,\n",
    "             f'{bar.get_width():.4f}',\n",
    "             va='center', ha='left')\n",
    "\n",
    "plt.grid(axis='x', linestyle='--', alpha=0.6)\n",
    "plt.xlim(right=max(scores) * 1.15) # Adjust x-axis limit to fit text labels\n",
    "\n",
    "# =======================================================\n",
    "# 6. Apply New Saving Logic\n",
    "# =======================================================\n",
    "# Define output directory and filename\n",
    "output_dir = 'figure'\n",
    "output_filename = 'bert_layer_sensitivity_analysis.svg'\n",
    "\n",
    "# Create the directory if it does not exist\n",
    "if not os.path.exists(output_dir):\n",
    "    os.makedirs(output_dir)\n",
    "\n",
    "# Save as a transparent, editable SVG file\n",
    "plt.savefig(os.path.join(output_dir, output_filename), format='svg', bbox_inches='tight', transparent=True)\n",
    "print(f\"\\nChart saved as an editable SVG file: {os.path.join(output_dir, output_filename)}\")\n",
    "\n",
    "plt.show()"
   ]
  },
  {
   "cell_type": "code",
   "execution_count": null,
   "id": "80117fd1-d7ba-474c-80f6-59b8ca0b1482",
   "metadata": {},
   "outputs": [],
   "source": []
  },
  {
   "cell_type": "code",
   "execution_count": null,
   "id": "e66b15e5-b759-4583-96da-4becfe00f169",
   "metadata": {},
   "outputs": [],
   "source": []
  }
 ],
 "metadata": {
  "kernelspec": {
   "display_name": "Python 3 (ipykernel)",
   "language": "python",
   "name": "python3"
  },
  "language_info": {
   "codemirror_mode": {
    "name": "ipython",
    "version": 3
   },
   "file_extension": ".py",
   "mimetype": "text/x-python",
   "name": "python",
   "nbconvert_exporter": "python",
   "pygments_lexer": "ipython3",
   "version": "3.12.7"
  }
 },
 "nbformat": 4,
 "nbformat_minor": 5
}
