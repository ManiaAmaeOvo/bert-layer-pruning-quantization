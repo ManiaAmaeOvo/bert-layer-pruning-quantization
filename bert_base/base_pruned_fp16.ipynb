{
 "cells": [
  {
   "cell_type": "code",
   "execution_count": 1,
   "id": "8072f275-3006-4735-b474-5b4a6314d8e0",
   "metadata": {},
   "outputs": [],
   "source": [
    "import torch\n",
    "from transformers import AutoTokenizer, AutoModelForSequenceClassification\n",
    "from datasets import load_dataset\n",
    "import evaluate\n",
    "from torch.utils.data import DataLoader\n",
    "from tqdm.auto import tqdm\n",
    "import time\n",
    "import numpy as np\n",
    "import os\n",
    "import pandas as pd\n",
    "import matplotlib.pyplot as plt"
   ]
  },
  {
   "cell_type": "code",
   "execution_count": 2,
   "id": "aebdc0bc-aafb-43a2-aa54-38cad8725e68",
   "metadata": {},
   "outputs": [
    {
     "name": "stdout",
     "output_type": "stream",
     "text": [
      "Configuration set. Using GPU for conversion and evaluation.\n"
     ]
    }
   ],
   "source": [
    "# --- 1. 配置 ---\n",
    "BASELINE_FP32_MODEL_PATH = \"./my_bert_sst2_finetuned/checkpoint-1800\"\n",
    "PRUNED_FP32_MODEL_PATH = \"./models/bert_pruned_8_layers_finetuned/best_model\"\n",
    "PRUNED_FP16_MODEL_SAVE_PATH = \"./models/bert_pruned_fp16_gpu\"\n",
    "\n",
    "# --- 修改点 1: 我们将使用这个统一的名称来加载分词器 ---\n",
    "TOKENIZER_NAME = \"bert-base-uncased\" \n",
    "TEST_SENTENCE = \"This movie is not bad at all, in fact it is surprisingly good!\"\n",
    "LATENCY_RUNS = 100\n",
    "EVAL_BATCH_SIZE = 32\n",
    "\n",
    "if not torch.cuda.is_available():\n",
    "    raise RuntimeError(\"This experiment requires a GPU!\")\n",
    "DEVICE = torch.device(\"cuda\")\n",
    "print(\"Configuration set. Using GPU for conversion and evaluation.\")\n",
    "os.makedirs(PRUNED_FP16_MODEL_SAVE_PATH, exist_ok=True)"
   ]
  },
  {
   "cell_type": "code",
   "execution_count": 3,
   "id": "671ebe61-3e18-478f-b35e-ef8c57413475",
   "metadata": {},
   "outputs": [
    {
     "name": "stdout",
     "output_type": "stream",
     "text": [
      "Loading FP32 model from './models/bert_pruned_8_layers_finetuned/best_model' and converting to FP16...\n",
      "Model successfully converted to FP16 and moved to GPU.\n",
      "Saving FP16 model to './models/bert_pruned_fp16_gpu'...\n",
      "FP16 model and tokenizer saved successfully.\n"
     ]
    }
   ],
   "source": [
    "# =======================================================\n",
    "# 步骤 2: 将剪枝后的FP32模型转换为FP16并保存\n",
    "# =======================================================\n",
    "print(f\"Loading FP32 model from '{PRUNED_FP32_MODEL_PATH}' and converting to FP16...\")\n",
    "model_fp16 = AutoModelForSequenceClassification.from_pretrained(\n",
    "    PRUNED_FP32_MODEL_PATH,\n",
    "    torch_dtype=torch.float16\n",
    ").to(DEVICE)\n",
    "print(\"Model successfully converted to FP16 and moved to GPU.\")\n",
    "\n",
    "print(f\"Saving FP16 model to '{PRUNED_FP16_MODEL_SAVE_PATH}'...\")\n",
    "model_fp16.save_pretrained(PRUNED_FP16_MODEL_SAVE_PATH)\n",
    "\n",
    "# --- 修改点 2: 加载一次分词器并用它来保存，确保一致性 ---\n",
    "tokenizer_to_save = AutoTokenizer.from_pretrained(PRUNED_FP32_MODEL_PATH)\n",
    "tokenizer_to_save.save_pretrained(PRUNED_FP16_MODEL_SAVE_PATH)\n",
    "print(\"FP16 model and tokenizer saved successfully.\")\n",
    "\n",
    "del model_fp16, tokenizer_to_save\n",
    "torch.cuda.empty_cache()"
   ]
  },
  {
   "cell_type": "code",
   "execution_count": 4,
   "id": "1e867e33-0cb5-40f1-a633-ce12832dcdda",
   "metadata": {},
   "outputs": [],
   "source": [
    "# =======================================================\n",
    "# 步骤 3: 辅助函数定义 (无变化)\n",
    "# =======================================================\n",
    "def get_model_size(path):\n",
    "    # ... (函数内容保持不变) ...\n",
    "    total_size = 0\n",
    "    for dirpath, _, filenames in os.walk(path):\n",
    "        for f in filenames:\n",
    "            fp = os.path.join(dirpath, f)\n",
    "            total_size += os.path.getsize(fp)\n",
    "    return total_size / (1024 * 1024)\n",
    "\n",
    "def measure_latency(model, tokenizer, device, runs=100):\n",
    "    # ... (函数内容保持不变) ...\n",
    "    inputs = tokenizer(TEST_SENTENCE, return_tensors=\"pt\").to(device)\n",
    "    timings = []\n",
    "    with torch.no_grad():\n",
    "        for _ in range(20): _ = model(**inputs)\n",
    "        for _ in range(runs):\n",
    "            torch.cuda.synchronize()\n",
    "            start_time = time.perf_counter()\n",
    "            _ = model(**inputs)\n",
    "            torch.cuda.synchronize()\n",
    "            end_time = time.perf_counter()\n",
    "            timings.append(end_time - start_time)\n",
    "    return np.mean(timings) * 1000\n",
    "\n",
    "def evaluate_accuracy(model, tokenizer, device, eval_dataloader):\n",
    "    # ... (函数内容保持不变) ...\n",
    "    metric = evaluate.load(\"accuracy\")\n",
    "    model.eval()\n",
    "    for batch in tqdm(eval_dataloader, desc=f\"Evaluating Accuracy\"):\n",
    "        batch = {k: v.to(device) for k, v in batch.items() if k in ['input_ids', 'attention_mask', 'label']}\n",
    "        with torch.no_grad():\n",
    "            outputs = model(input_ids=batch['input_ids'], attention_mask=batch['attention_mask'])\n",
    "        predictions = torch.argmax(outputs.logits, dim=-1)\n",
    "        metric.add_batch(predictions=predictions, references=batch[\"label\"])\n",
    "    return metric.compute()[\"accuracy\"]"
   ]
  },
  {
   "cell_type": "code",
   "execution_count": 5,
   "id": "4084d216-27ea-4c4f-a88c-2c38ea4c12a7",
   "metadata": {},
   "outputs": [
    {
     "name": "stdout",
     "output_type": "stream",
     "text": [
      "Preparing dataset for evaluation...\n",
      "Dataset ready.\n"
     ]
    }
   ],
   "source": [
    "# =======================================================\n",
    "# 步骤 4: 准备评估数据集\n",
    "# =======================================================\n",
    "print(\"Preparing dataset for evaluation...\")\n",
    "# --- 修改点 3: 在这里统一加载分词器，供所有后续步骤使用 ---\n",
    "tokenizer = AutoTokenizer.from_pretrained(TOKENIZER_NAME)\n",
    "\n",
    "raw_datasets = load_dataset(\"glue\", \"sst2\")\n",
    "def tokenize_function(examples):\n",
    "    return tokenizer(examples[\"sentence\"], padding=\"max_length\", truncation=True, max_length=128)\n",
    "tokenized_datasets = raw_datasets.map(tokenize_function, batched=True)\n",
    "tokenized_datasets.set_format('torch')\n",
    "eval_dataset = tokenized_datasets[\"validation\"]\n",
    "eval_dataloader = DataLoader(eval_dataset, batch_size=EVAL_BATCH_SIZE)\n",
    "print(\"Dataset ready.\")"
   ]
  },
  {
   "cell_type": "code",
   "execution_count": 6,
   "id": "6eba52f3-c70c-4386-91f8-3c8a76e43407",
   "metadata": {},
   "outputs": [
    {
     "name": "stdout",
     "output_type": "stream",
     "text": [
      "\n",
      "==================== EVALUATING: 1. FP32 Baseline (12L) ====================\n"
     ]
    },
    {
     "data": {
      "application/vnd.jupyter.widget-view+json": {
       "model_id": "8296d3c796914bcda93f5bebfc4f5bfa",
       "version_major": 2,
       "version_minor": 0
      },
      "text/plain": [
       "Evaluating Accuracy:   0%|          | 0/28 [00:00<?, ?it/s]"
      ]
     },
     "metadata": {},
     "output_type": "display_data"
    },
    {
     "name": "stdout",
     "output_type": "stream",
     "text": [
      "\n",
      "==================== EVALUATING: 5. Pruned FP32 (8L) ====================\n"
     ]
    },
    {
     "data": {
      "application/vnd.jupyter.widget-view+json": {
       "model_id": "cbeecef7dc6442bfb1201f529ca0c8fb",
       "version_major": 2,
       "version_minor": 0
      },
      "text/plain": [
       "Evaluating Accuracy:   0%|          | 0/28 [00:00<?, ?it/s]"
      ]
     },
     "metadata": {},
     "output_type": "display_data"
    },
    {
     "name": "stdout",
     "output_type": "stream",
     "text": [
      "\n",
      "==================== EVALUATING: 6. Pruned FP16 (8L, GPU-Only) ====================\n"
     ]
    },
    {
     "data": {
      "application/vnd.jupyter.widget-view+json": {
       "model_id": "b6e2ca7cd9af489d847ca3708ef0127c",
       "version_major": 2,
       "version_minor": 0
      },
      "text/plain": [
       "Evaluating Accuracy:   0%|          | 0/28 [00:00<?, ?it/s]"
      ]
     },
     "metadata": {},
     "output_type": "display_data"
    },
    {
     "name": "stdout",
     "output_type": "stream",
     "text": [
      "\n",
      "========================= FINAL RESULTS =========================\n",
      "| Model                         |   Size (MB) |   Peak GPU Mem (MB) |   Latency (GPU, ms) |   Accuracy (GPU) |\n",
      "|:------------------------------|------------:|--------------------:|--------------------:|-----------------:|\n",
      "| 1. FP32 Baseline (12L)        |     1253.16 |              428.26 |                3.23 |           0.93   |\n",
      "| 5. Pruned FP32 (8L)           |      310.42 |              320.98 |                2.25 |           0.9278 |\n",
      "| 6. Pruned FP16 (8L, GPU-Only) |      155.66 |              169.25 |                2.26 |           0.9266 |\n"
     ]
    }
   ],
   "source": [
    "# =======================================================\n",
    "# 步骤 5: 评估三个模型的 尺寸、显存、延迟和精度\n",
    "# =======================================================\n",
    "results = []\n",
    "models_to_compare = [\n",
    "    {\"name\": \"1. FP32 Baseline (12L)\", \"path\": BASELINE_FP32_MODEL_PATH, \"dtype\": torch.float32},\n",
    "    {\"name\": \"5. Pruned FP32 (8L)\", \"path\": PRUNED_FP32_MODEL_PATH, \"dtype\": torch.float32},\n",
    "    {\"name\": \"6. Pruned FP16 (8L, GPU-Only)\", \"path\": PRUNED_FP16_MODEL_SAVE_PATH, \"dtype\": torch.float16}\n",
    "]\n",
    "\n",
    "for config in models_to_compare:\n",
    "    print(f\"\\n{'='*20} EVALUATING: {config['name']} {'='*20}\")\n",
    "    current_results = {\"Model\": config['name']}\n",
    "    current_results[\"Size (MB)\"] = get_model_size(config['path'])\n",
    "    \n",
    "    # 加载模型\n",
    "    model = AutoModelForSequenceClassification.from_pretrained(config['path'], torch_dtype=config['dtype']).to(DEVICE)\n",
    "    # --- 修改点 4: 移除此处的 tokenizer 加载，使用前面已加载的全局 tokenizer ---\n",
    "    # tokenizer = AutoTokenizer.from_pretrained(config['path']) # <--- 已删除\n",
    "    \n",
    "    # 测量峰值显存\n",
    "    torch.cuda.reset_peak_memory_stats(DEVICE)\n",
    "    inputs_for_mem = tokenizer(TEST_SENTENCE, return_tensors=\"pt\").to(DEVICE)\n",
    "    with torch.no_grad():\n",
    "        _ = model(**inputs_for_mem)\n",
    "    peak_mem_mb = torch.cuda.max_memory_allocated(DEVICE) / (1024 * 1024)\n",
    "    current_results[\"Peak GPU Mem (MB)\"] = peak_mem_mb\n",
    "    \n",
    "    # 测量延迟和精度 (传入全局 tokenizer)\n",
    "    current_results[\"Latency (GPU, ms)\"] = measure_latency(model, tokenizer, DEVICE)\n",
    "    current_results[\"Accuracy (GPU)\"] = evaluate_accuracy(model, tokenizer, DEVICE, eval_dataloader)\n",
    "    \n",
    "    results.append(current_results)\n",
    "    del model\n",
    "    torch.cuda.empty_cache()\n",
    "\n",
    "# 展示对比结果\n",
    "print(f\"\\n{'='*25} FINAL RESULTS {'='*25}\")\n",
    "df = pd.DataFrame(results)\n",
    "for col in [\"Size (MB)\", \"Peak GPU Mem (MB)\", \"Latency (GPU, ms)\"]:\n",
    "    df[col] = df[col].map('{:.2f}'.format)\n",
    "df[\"Accuracy (GPU)\"] = df[\"Accuracy (GPU)\"].map('{:.4f}'.format)\n",
    "print(df.to_markdown(index=False))"
   ]
  },
  {
   "cell_type": "code",
   "execution_count": 7,
   "id": "456baafc-1995-4150-800c-277529fecd84",
   "metadata": {},
   "outputs": [
    {
     "name": "stdout",
     "output_type": "stream",
     "text": [
      "\n",
      "========================= BATCH LATENCY VS THROUGHPUT TEST =========================\n",
      "\n",
      "--- Testing Model: 1. FP32 Baseline (12L) ---\n",
      "  Batch Size:  1 | Latency: 3.24 ms\n",
      "  Batch Size:  2 | Latency: 3.25 ms\n",
      "  Batch Size:  4 | Latency: 3.36 ms\n",
      "  Batch Size:  8 | Latency: 3.24 ms\n",
      "  Batch Size: 16 | Latency: 3.49 ms\n",
      "  Batch Size: 32 | Latency: 4.91 ms\n",
      "  Batch Size: 64 | Latency: 6.56 ms\n",
      "\n",
      "--- Testing Model: 5. Pruned FP32 (8L) ---\n",
      "  Batch Size:  1 | Latency: 2.26 ms\n",
      "  Batch Size:  2 | Latency: 2.28 ms\n",
      "  Batch Size:  4 | Latency: 2.36 ms\n",
      "  Batch Size:  8 | Latency: 2.27 ms\n",
      "  Batch Size: 16 | Latency: 2.43 ms\n",
      "  Batch Size: 32 | Latency: 3.33 ms\n",
      "  Batch Size: 64 | Latency: 4.44 ms\n",
      "\n",
      "--- Testing Model: 6. Pruned FP16 (8L, GPU-Only) ---\n",
      "  Batch Size:  1 | Latency: 2.31 ms\n",
      "  Batch Size:  2 | Latency: 2.32 ms\n",
      "  Batch Size:  4 | Latency: 2.33 ms\n",
      "  Batch Size:  8 | Latency: 2.35 ms\n",
      "  Batch Size: 16 | Latency: 2.32 ms\n",
      "  Batch Size: 32 | Latency: 2.25 ms\n",
      "  Batch Size: 64 | Latency: 2.23 ms\n"
     ]
    }
   ],
   "source": [
    "# ==============================================================================\n",
    "# 步骤 6: 批量延迟测试与可视化\n",
    "# ==============================================================================\n",
    "print(f\"\\n{'='*25} BATCH LATENCY VS THROUGHPUT TEST {'='*25}\")\n",
    "BATCH_SIZES = [1, 2, 4, 8, 16, 32, 64]\n",
    "WARMUP_RUNS = 20\n",
    "LATENCY_RUNS_BATCH = 100\n",
    "try:\n",
    "    plt.rcParams['axes.unicode_minus'] = False\n",
    "    plt.rcParams['svg.fonttype'] = 'none' \n",
    "except Exception as e:\n",
    "    print(f\"注意：未能设置中文字体。错误信息: {e}\")\n",
    "    \n",
    "# --- 修改点 2: 定义包含绘图信息在内的模型配置 ---\n",
    "models_for_latency_test = [\n",
    "    {\n",
    "        \"name\": \"1. FP32 Baseline (12L)\",\n",
    "        \"path\": BASELINE_FP32_MODEL_PATH,\n",
    "        \"dtype\": torch.float32,\n",
    "        \"color\": '#0173B2',\n",
    "        \"marker\": 'x'\n",
    "    },\n",
    "    {\n",
    "        \"name\": \"5. Pruned FP32 (8L)\",\n",
    "        \"path\": PRUNED_FP32_MODEL_PATH,\n",
    "        \"dtype\": torch.float32,\n",
    "        \"color\": '#CC78BC',\n",
    "        \"marker\": 'o'\n",
    "    },\n",
    "    {\n",
    "        \"name\": \"6. Pruned FP16 (8L, GPU-Only)\",\n",
    "        \"path\": PRUNED_FP16_MODEL_SAVE_PATH,\n",
    "        \"dtype\": torch.float16,\n",
    "        \"color\": '#D55E00',\n",
    "        \"marker\": 's'\n",
    "    }\n",
    "]\n",
    "latency_results = []\n",
    "test_sentences = [TEST_SENTENCE] * max(BATCH_SIZES)\n",
    "\n",
    "for model_config in models_for_latency_test:\n",
    "    print(f\"\\n--- Testing Model: {model_config['name']} ---\")\n",
    "    model = AutoModelForSequenceClassification.from_pretrained(\n",
    "        model_config['path'], \n",
    "        torch_dtype=model_config['dtype']\n",
    "    ).to(DEVICE).eval()\n",
    "    # --- 修改点 5: 再次移除此处的 tokenizer 加载 ---\n",
    "    # tokenizer = AutoTokenizer.from_pretrained(model_config['path']) # <--- 已删除\n",
    "\n",
    "    for bs in BATCH_SIZES:\n",
    "        # 使用全局 tokenizer\n",
    "        inputs = tokenizer(test_sentences[:bs], return_tensors=\"pt\", padding=True).to(DEVICE)\n",
    "        \n",
    "        timings = []\n",
    "        with torch.no_grad():\n",
    "            for _ in range(WARMUP_RUNS): _ = model(**inputs)\n",
    "            for _ in range(LATENCY_RUNS_BATCH):\n",
    "                torch.cuda.synchronize()\n",
    "                start = time.perf_counter()\n",
    "                _ = model(**inputs)\n",
    "                torch.cuda.synchronize()\n",
    "                end = time.perf_counter()\n",
    "                timings.append(end - start)\n",
    "        \n",
    "        latency_ms = np.mean(timings) * 1000\n",
    "        print(f\"  Batch Size: {bs:2d} | Latency: {latency_ms:.2f} ms\")\n",
    "        \n",
    "        latency_results.append({\n",
    "            \"Model\": model_config['name'],\n",
    "            \"Batch Size\": bs,\n",
    "            \"Latency (ms)\": latency_ms\n",
    "        })\n",
    "\n",
    "    del model\n",
    "    torch.cuda.empty_cache()\n",
    "\n",
    "# --- 后续的绘图逻辑保持不变 ---\n",
    "df_latency = pd.DataFrame(latency_results)\n",
    "# ... (绘图代码) ..."
   ]
  },
  {
   "cell_type": "code",
   "execution_count": 8,
   "id": "9e4dfc2b-a3f1-450f-8d93-4d5372a1e6b9",
   "metadata": {},
   "outputs": [
    {
     "name": "stdout",
     "output_type": "stream",
     "text": [
      "\n",
      "--- Latency Comparison Table ---\n",
      "| Model                         |   Batch Size |   Latency (ms) |\n",
      "|:------------------------------|-------------:|---------------:|\n",
      "| 1. FP32 Baseline (12L)        |            1 |        3.24184 |\n",
      "| 1. FP32 Baseline (12L)        |            2 |        3.25432 |\n",
      "| 1. FP32 Baseline (12L)        |            4 |        3.35588 |\n",
      "| 1. FP32 Baseline (12L)        |            8 |        3.23836 |\n",
      "| 1. FP32 Baseline (12L)        |           16 |        3.49453 |\n",
      "| 1. FP32 Baseline (12L)        |           32 |        4.91076 |\n",
      "| 1. FP32 Baseline (12L)        |           64 |        6.56136 |\n",
      "| 5. Pruned FP32 (8L)           |            1 |        2.26121 |\n",
      "| 5. Pruned FP32 (8L)           |            2 |        2.28125 |\n",
      "| 5. Pruned FP32 (8L)           |            4 |        2.36047 |\n",
      "| 5. Pruned FP32 (8L)           |            8 |        2.27244 |\n",
      "| 5. Pruned FP32 (8L)           |           16 |        2.42557 |\n",
      "| 5. Pruned FP32 (8L)           |           32 |        3.33406 |\n",
      "| 5. Pruned FP32 (8L)           |           64 |        4.43949 |\n",
      "| 6. Pruned FP16 (8L, GPU-Only) |            1 |        2.30885 |\n",
      "| 6. Pruned FP16 (8L, GPU-Only) |            2 |        2.31642 |\n",
      "| 6. Pruned FP16 (8L, GPU-Only) |            4 |        2.32964 |\n",
      "| 6. Pruned FP16 (8L, GPU-Only) |            8 |        2.34807 |\n",
      "| 6. Pruned FP16 (8L, GPU-Only) |           16 |        2.32266 |\n",
      "| 6. Pruned FP16 (8L, GPU-Only) |           32 |        2.24691 |\n",
      "| 6. Pruned FP16 (8L, GPU-Only) |           64 |        2.22533 |\n",
      "\n",
      "图表已保存为可编辑的SVG文件: figure/model_latency_comparison.svg\n"
     ]
    },
    {
     "data": {
      "image/png": "[encoded data removed]",
      "text/plain": [
       "<Figure size 1000x600 with 1 Axes>"
      ]
     },
     "metadata": {},
     "output_type": "display_data"
    }
   ],
   "source": [
    "# --- 准备可视化数据 ---\n",
    "df_latency = pd.DataFrame(latency_results)\n",
    "print(\"\\n--- Latency Comparison Table ---\")\n",
    "print(df_latency.to_markdown(index=False))\n",
    "\n",
    "# --- 修改点 4: 循环绘图，应用指定配色和图例 ---\n",
    "plt.figure(figsize=(10, 6))\n",
    "\n",
    "for model_config in models_for_latency_test:\n",
    "    model_name = model_config['name']\n",
    "    subset_df = df_latency[df_latency[\"Model\"] == model_name]\n",
    "    plt.plot(\n",
    "        subset_df[\"Batch Size\"], \n",
    "        subset_df[\"Latency (ms)\"], \n",
    "        marker=model_config['marker'], \n",
    "        label=model_name, \n",
    "        color=model_config['color'], \n",
    "        linewidth=2\n",
    "    )\n",
    "\n",
    "# --- 更新图表元素 ---\n",
    "plt.xlabel(\"Batch Size (Log Scale)\", fontsize=12)\n",
    "plt.ylabel(\"Latency per Batch (ms)\", fontsize=12)\n",
    "plt.title(\"Model Latency vs. Batch Size Comparison\", fontsize=16)\n",
    "plt.legend(fontsize=11)\n",
    "plt.grid(True, linestyle='--', alpha=0.6)\n",
    "plt.xscale('log', base=2)\n",
    "plt.xticks(BATCH_SIZES, BATCH_SIZES) # 确保X轴刻度清晰显示所有批量大小\n",
    "\n",
    "# --- 保存图表 ---\n",
    "output_dir = 'figure'\n",
    "output_filename = 'model_latency_comparison.svg'\n",
    "os.makedirs(output_dir, exist_ok=True)\n",
    "plt.savefig(os.path.join(output_dir, output_filename), format='svg', bbox_inches='tight', transparent=True)\n",
    "print(f\"\\n图表已保存为可编辑的SVG文件: {os.path.join(output_dir, output_filename)}\")\n",
    "\n",
    "# 显示图表\n",
    "plt.show()"
   ]
  }
 ],
 "metadata": {
  "kernelspec": {
   "display_name": "Python 3 (ipykernel)",
   "language": "python",
   "name": "python3"
  },
  "language_info": {
   "codemirror_mode": {
    "name": "ipython",
    "version": 3
   },
   "file_extension": ".py",
   "mimetype": "text/x-python",
   "name": "python",
   "nbconvert_exporter": "python",
   "pygments_lexer": "ipython3",
   "version": "3.12.9"
  }
 },
 "nbformat": 4,
 "nbformat_minor": 5
}
