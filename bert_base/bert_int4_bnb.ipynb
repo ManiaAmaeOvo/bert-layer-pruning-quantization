{
 "cells": [
  {
   "cell_type": "code",
   "execution_count": 1,
   "id": "68227d93-4b7b-4b62-b06a-f334bc72739f",
   "metadata": {},
   "outputs": [
    {
     "name": "stdout",
     "output_type": "stream",
     "text": [
      "所有库已导入，配置完成！\n",
      "将使用设备: cuda\n"
     ]
    }
   ],
   "source": [
    "import torch\n",
    "from transformers import AutoTokenizer, AutoModelForSequenceClassification, BitsAndBytesConfig\n",
    "from datasets import load_dataset\n",
    "import evaluate\n",
    "from torch.utils.data import DataLoader\n",
    "from tqdm.auto import tqdm\n",
    "import time\n",
    "import numpy as np\n",
    "import os\n",
    "\n",
    "# --- 配置 ---\n",
    "FP32_MODEL_PATH = \"./my_bert_sst2_finetuned/checkpoint-1800\" \n",
    "TOKENIZER_NAME = \"bert-base-uncased\"\n",
    "# bitsandbytes 量化主要在 GPU 上运行和优化\n",
    "DEVICE = torch.device(\"cuda\" if torch.cuda.is_available() else \"cpu\")\n",
    "\n",
    "print(\"所有库已导入，配置完成！\")\n",
    "print(f\"将使用设备: {DEVICE}\")"
   ]
  },
  {
   "cell_type": "code",
   "execution_count": 2,
   "id": "f64f0f89-0066-4e38-a860-4694882e07d5",
   "metadata": {},
   "outputs": [
    {
     "name": "stdout",
     "output_type": "stream",
     "text": [
      "正在加载分词器: bert-base-uncased\n",
      "正在从 './my_bert_sst2_finetuned/checkpoint-1800' 加载模型并应用INT4量化...\n",
      "INT4模型创建并加载成功！\n"
     ]
    }
   ],
   "source": [
    "# 1. 定义4-bit量化配置\n",
    "quantization_config = BitsAndBytesConfig(\n",
    "    load_in_4bit=True,\n",
    "    bnb_4bit_quant_type=\"nf4\",\n",
    "    bnb_4bit_compute_dtype=torch.float16,\n",
    ")\n",
    "\n",
    "# 2. 加载分词器\n",
    "print(f\"正在加载分词器: {TOKENIZER_NAME}\")\n",
    "tokenizer = AutoTokenizer.from_pretrained(TOKENIZER_NAME)\n",
    "\n",
    "# 3. 加载模型，并在加载时应用量化配置\n",
    "print(f\"正在从 '{FP32_MODEL_PATH}' 加载模型并应用INT4量化...\")\n",
    "model_int4 = AutoModelForSequenceClassification.from_pretrained(\n",
    "    FP32_MODEL_PATH,\n",
    "    quantization_config=quantization_config,\n",
    "    device_map=\"auto\",  # 让 accelerate 自动处理设备放置\n",
    ")\n",
    "\n",
    "print(\"INT4模型创建并加载成功！\")\n"
   ]
  },
  {
   "cell_type": "code",
   "execution_count": 3,
   "id": "bfafd9e2-0521-4243-9d56-106a1dba4d82",
   "metadata": {},
   "outputs": [],
   "source": [
    "#!pip install bitsandbytes"
   ]
  },
  {
   "cell_type": "code",
   "execution_count": 4,
   "id": "1389d430-be6c-4a8f-8abe-b32cdb998d95",
   "metadata": {},
   "outputs": [
    {
     "name": "stdout",
     "output_type": "stream",
     "text": [
      "正在将INT4模型保存到: ./saved_models/bert_sst2_int4_bnb\n",
      "INT4模型保存成功！\n"
     ]
    }
   ],
   "source": [
    "int4_model_save_path = \"./saved_models/bert_sst2_int4_bnb\"\n",
    "\n",
    "print(f\"正在将INT4模型保存到: {int4_model_save_path}\")\n",
    "model_int4.save_pretrained(int4_model_save_path)\n",
    "print(\"INT4模型保存成功！\")"
   ]
  },
  {
   "cell_type": "code",
   "execution_count": 5,
   "id": "2fac5d3f-b71c-49ca-baa4-b3f63f9ad67a",
   "metadata": {},
   "outputs": [
    {
     "name": "stdout",
     "output_type": "stream",
     "text": [
      "正在测量INT4模型的推理延迟 (在GPU上)...\n",
      "==============================\n",
      "INT4 模型推理延迟 (在 cuda 上):\n",
      "  - 平均: 8.57 ms\n",
      "==============================\n"
     ]
    }
   ],
   "source": [
    "print(\"正在测量INT4模型的推理延迟 (在GPU上)...\")\n",
    "TEST_SENTENCE = \"This is a great movie, I really enjoyed it.\"\n",
    "WARMUP_RUNS = 10\n",
    "MEASURE_RUNS = 100\n",
    "\n",
    "# 准备输入\n",
    "inputs = tokenizer(TEST_SENTENCE, return_tensors=\"pt\").to(DEVICE)\n",
    "\n",
    "model_int4.eval()\n",
    "# 预热\n",
    "with torch.no_grad():\n",
    "    for _ in range(WARMUP_RUNS):\n",
    "        _ = model_int4(**inputs)\n",
    "\n",
    "# 测量\n",
    "timings = []\n",
    "with torch.no_grad():\n",
    "    for _ in range(MEASURE_RUNS):\n",
    "        torch.cuda.synchronize()\n",
    "        start_time = time.perf_counter()\n",
    "        _ = model_int4(**inputs)\n",
    "        torch.cuda.synchronize()\n",
    "        end_time = time.perf_counter()\n",
    "        timings.append(end_time - start_time)\n",
    "\n",
    "# 计算并报告结果\n",
    "avg_latency_ms = np.mean(timings) * 1000\n",
    "\n",
    "print(\"=\"*30)\n",
    "print(f\"INT4 模型推理延迟 (在 {DEVICE} 上):\")\n",
    "print(f\"  - 平均: {avg_latency_ms:.2f} ms\")\n",
    "print(\"=\"*30)"
   ]
  },
  {
   "cell_type": "code",
   "execution_count": 7,
   "id": "feb36229-f93d-4860-9f4f-ed1f907a849a",
   "metadata": {},
   "outputs": [
    {
     "name": "stdout",
     "output_type": "stream",
     "text": [
      "\n",
      "正在加载'glue', 'sst2'数据集...\n",
      "数据集加载成功！\n",
      "正在加载分词器...\n",
      "正在对数据集进行分词预处理...\n",
      "预处理完成！\n"
     ]
    }
   ],
   "source": [
    "from datasets import load_dataset\n",
    "print(\"\\n正在加载'glue', 'sst2'数据集...\")\n",
    "raw_datasets = load_dataset(\"glue\", \"sst2\")\n",
    "print(\"数据集加载成功！\")\n",
    "\n",
    "print(\"正在加载分词器...\")\n",
    "tokenizer = AutoTokenizer.from_pretrained(TOKENIZER_NAME)\n",
    "\n",
    "def tokenize_function(examples):\n",
    "    return tokenizer(examples[\"sentence\"], padding=\"max_length\", truncation=True)\n",
    "\n",
    "print(\"正在对数据集进行分词预处理...\")\n",
    "tokenized_datasets = raw_datasets.map(tokenize_function, batched=True)\n",
    "print(\"预处理完成！\")\n",
    "    \n",
    "eval_dataset = tokenized_datasets[\"validation\"]"
   ]
  },
  {
   "cell_type": "code",
   "execution_count": 8,
   "id": "3dd9ee84-b5d5-484c-9317-84a4ed8e5c06",
   "metadata": {},
   "outputs": [
    {
     "name": "stdout",
     "output_type": "stream",
     "text": [
      "正在评估INT4模型的准确率...\n"
     ]
    },
    {
     "data": {
      "application/vnd.jupyter.widget-view+json": {
       "model_id": "2cce41408ee94afab931d67457a4db41",
       "version_major": 2,
       "version_minor": 0
      },
      "text/plain": [
       "Evaluating INT4 Model:   0%|          | 0/28 [00:00<?, ?it/s]"
      ]
     },
     "metadata": {},
     "output_type": "display_data"
    },
    {
     "name": "stdout",
     "output_type": "stream",
     "text": [
      "\n",
      "========================================\n",
      "       INT4 模型性能评估结果\n",
      "========================================\n",
      "  - 在验证集上的准确率: 93.00%\n",
      "========================================\n"
     ]
    }
   ],
   "source": [
    "print(\"正在评估INT4模型的准确率...\")\n",
    "\n",
    "eval_dataset = tokenized_datasets[\"validation\"]\n",
    "eval_dataloader = DataLoader(eval_dataset.with_format(\"torch\"), batch_size=32) # batch size可以根据显存调整\n",
    "metric = evaluate.load(\"accuracy\")\n",
    "\n",
    "model_int4.eval()\n",
    "for batch in tqdm(eval_dataloader, desc=\"Evaluating INT4 Model\"):\n",
    "    # device_map=\"auto\" 已经把模型放到GPU，所以数据也要放到GPU\n",
    "    batch = {k: v.to(DEVICE) for k, v in batch.items() if k in ['input_ids', 'attention_mask', 'label']}\n",
    "    \n",
    "    with torch.no_grad():\n",
    "        outputs = model_int4(input_ids=batch['input_ids'], attention_mask=batch['attention_mask'])\n",
    "\n",
    "    logits = outputs.logits\n",
    "    predictions = torch.argmax(logits, dim=-1)\n",
    "    metric.add_batch(predictions=predictions, references=batch[\"label\"])\n",
    "\n",
    "eval_metric = metric.compute()\n",
    "accuracy = eval_metric[\"accuracy\"]\n",
    "\n",
    "print(\"\\n\" + \"=\"*40)\n",
    "print(\"       INT4 模型性能评估结果\")\n",
    "print(\"=\"*40)\n",
    "print(f\"  - 在验证集上的准确率: {accuracy * 100:.2f}%\")\n",
    "print(\"=\"*40)"
   ]
  },
  {
   "cell_type": "code",
   "execution_count": null,
   "id": "b1dfdea0-348e-4f31-9eec-d719e70322bf",
   "metadata": {},
   "outputs": [],
   "source": []
  }
 ],
 "metadata": {
  "kernelspec": {
   "display_name": "Python 3 (ipykernel)",
   "language": "python",
   "name": "python3"
  },
  "language_info": {
   "codemirror_mode": {
    "name": "ipython",
    "version": 3
   },
   "file_extension": ".py",
   "mimetype": "text/x-python",
   "name": "python",
   "nbconvert_exporter": "python",
   "pygments_lexer": "ipython3",
   "version": "3.12.7"
  }
 },
 "nbformat": 4,
 "nbformat_minor": 5
}
