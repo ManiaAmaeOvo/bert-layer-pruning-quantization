{
 "cells": [
  {
   "cell_type": "code",
   "execution_count": 2,
   "metadata": {
    "collapsed": true,
    "jupyter": {
     "outputs_hidden": true
    }
   },
   "outputs": [
    {
     "name": "stdout",
     "output_type": "stream",
     "text": [
      "<!doctype html><html itemscope=\"\" itemtype=\"http://schema.org/WebPage\" lang=\"zh-HK\"><head><meta content=\"text/html; charset=UTF-8\" http-equiv=\"Content-Type\"><meta content=\"/images/branding/googleg/1x/googleg_standard_color_128dp.png\" itemprop=\"image\"><title>Google</title><script nonce=\"mAGoAkIyJ7bCuqauHtAzhw\">(function(){var _g={kEI:'cxHIaKm5Nrv50PEP54mUgQw',kEXPI:'0,202854,2,83,4037106,14112,34679,390923,290044,5242138,27,172,36811987,25228681,138268,71240,8041,6754,23879,9138,4600,328,6225,37826,26339,15048,49,15586,30376,28339,42883,5407,5916,353,4100,14780,7758,5826,5774,8976,18635,3927,7,12590,6251,35,3420,2115,712,10656,9756,2352,5683,3605,7329,10442,1515,16484,1281,676,14645,550,6022,1,9634,1033,2294,1535,5083,2,5306,1959,2747,2,4,1,320,842,2,979,2270,1010,667,91,12407,519,4035,10588,4425,1280,591,4,1378,32,104,3355,196,861,36,2803,2114,2,1347,5,683,127,1688,1675,474,16,237,840,766,10,552,4,5,1119,1500,1931,1738,1205,3255,1129,2,876,22,1916,291,547,22,3342,585,466,127,19,3007,26,770,27,341,2978,317,409,596,5117,122,116,2515,359,2437,1746,1937,513,24,87,8,646,11,249,246,5,764,21,3,1417,149,94,3676,2,1475,7,1139,571,66,3564,784,76,506,464,218,217,56,548,223,1,2,4,1,983,4,4,77,253,287,276,131,1231,1368,490,619,28,3,2,2,2,1903,2,299,2,253,225,1426,438,377,1532,200,9,27,8,361,282,3,656,534,304,3,912,689,323,118,2,611,144,801,6,63,4,348,284,2,189,85,123,131,8,2,149,228,10,379,61,365,502,1317,273,2,112,66,336,509,158,1921,5,1730,71,267,24,96,1107,227,1,5,1,160,57,66,564,157,13,100,1165,439,11,552,18,64,124,2,435,584,1035,504,2,9,1,34,95,866,57,521,1,253,112,117,73,481,20,1069,292,17,363,200,20,2,176,11,4,111,754,12,786,24,50,2,3,558,877,744,150,45,15,888,15,970,133,2420,1,2,592,1,2,20726582,416080,5,2992,4,2701,259,3,7885,606,2,709,849,3,2446,3,6940,3,1697,7,152,612,420,2635,10,495,114,32,1813,117,3617267,4866676,573900,1077913',kBL:'dIpg',kOPI:89978449};(function(){var a;((a=window.google)==null?0:a.stvsc)?google.kEI=_g.kEI:window.google=_g;}).call(this);})();(function(){google.sn='webhp';google.kHL='zh-HK';})();(function(){\n",
      "var g=this||self;function k(){return window.google&&window.google.kOPI||null};var l,m=[];function n(a){for(var b;a&&(!a.getAttribute||!(b=a.getAttribute(\"eid\")));)a=a.parentNode;return b||l}function p(a){for(var b=null;a&&(!a.getAttribute||!(b=a.getAttribute(\"leid\")));)a=a.parentNode;return b}function q(a){/^http:/i.test(a)&&window.location.protocol===\"https:\"&&(google.ml&&google.ml(Error(\"a\"),!1,{src:a,glmm:1}),a=\"\");return a}\n",
      "function r(a,b,d,c,h){var e=\"\";b.search(\"&ei=\")===-1&&(e=\"&ei=\"+n(c),b.search(\"&lei=\")===-1&&(c=p(c))&&(e+=\"&lei=\"+c));var f=b.search(\"&cshid=\")===-1&&a!==\"slh\";c=\"&zx=\"+Date.now().toString();g._cshid&&f&&(c+=\"&cshid=\"+g._cshid);(d=d())&&(c+=\"&opi=\"+d);return\"/\"+(h||\"gen_204\")+\"?atyp=i&ct=\"+String(a)+\"&cad=\"+(b+e+c)};l=google.kEI;google.getEI=n;google.getLEI=p;google.ml=function(){return null};google.log=function(a,b,d,c,h,e){e=e===void 0?k:e;d||(d=r(a,b,e,c,h));if(d=q(d)){a=new Image;var f=m.length;m[f]=a;a.onerror=a.onload=a.onabort=function(){delete m[f]};a.src=d}};google.logUrl=function(a,b){b=b===void 0?k:b;return r(\"\",a,b)};}).call(this);(function(){google.y={};google.sy={};function e(a,b,c){if(a)var d=a.id;else{do d=Math.random();while(c[d])}c[d]=[a,b]}var f;(f=google).x||(f.x=function(a,b){e(a,b,google.y)});var g;(g=google).sx||(g.sx=function(a,b){e(a,b,google.sy)});google.lm=[];var h;(h=google).plm||(h.plm=function(a){google.lm.push.apply(google.lm,a)});google.lq=[];var k;(k=google).load||(k.load=function(a,b,c){google.lq.push([[a],b,c])});var l;(l=google).loadAll||(l.loadAll=function(a,b){google.lq.push([a,b])});google.bx=!1;var m;(m=google).lx||(m.lx=function(){});var n=[],p;(p=google).fce||(p.fce=function(a,b,c,d){n.push([a,b,c,d])});google.qce=n;google.adl=[];}).call(this);google.f={};(function(){\n",
      "document.documentElement.addEventListener(\"submit\",function(b){var a;if(a=b.target){var c=a.getAttribute(\"data-submitfalse\");a=c===\"1\"||c===\"q\"&&!a.elements.q.value?!0:!1}else a=!1;a&&(b.preventDefault(),b.stopPropagation())},!0);document.documentElement.addEventListener(\"click\",function(b){var a;a:{for(a=b.target;a&&a!==document.documentElement;a=a.parentElement)if(a.tagName===\"A\"){a=a.getAttribute(\"data-nohref\")===\"1\";break a}a=!1}a&&b.preventDefault()},!0);}).call(this);</script><style>#gbar,#guser{font-size:13px;padding-top:1px !important;}#gbar{height:22px}#guser{padding-bottom:7px !important;text-align:right}.gbh,.gbd{border-top:1px solid #c9d7f1;font-size:1px}.gbh{height:0;position:absolute;top:24px;width:100%}@media all{.gb1{height:22px;margin-right:.5em;vertical-align:top}#gbar{float:left}}a.gb1,a.gb4{text-decoration:underline !important}a.gb1,a.gb4{color:#00c !important}.gbi .gb4{color:#dd8e27 !important}.gbf .gb4{color:#900 !important}\n",
      "</style><style>body,td,a,p,.h{font-family:sans-serif}body{margin:0;overflow-y:scroll}#gog{padding:3px 8px 0}td{line-height:.8em}.gac_m td{line-height:17px}form{margin-bottom:20px}.h{color:#1967d2}em{color:#c5221f;font-style:normal;font-weight:normal}a em{text-decoration:underline}.lst{height:25px;width:496px}.gsfi,.lst{font:18px sans-serif}.gsfs{font:17px sans-serif}.ds{display:inline-box;display:inline-block;margin:3px 0 4px;margin-left:4px}input{font-family:inherit}body{background:#fff;color:#1f1f1f}a{color:#681da8;text-decoration:none}a:hover,a:active{text-decoration:underline}.fl a{color:#1967d2}a:visited{color:#681da8}.sblc{padding-top:5px}.sblc a{display:block;margin:2px 0;margin-left:13px;font-size:11px}.lsbb{background:#ecedee;border:solid 1px;border-color:#dadce0 #70757a #70757a #dadce0;height:30px}.lsbb{display:block}#WqQANb a{display:inline-block;margin:0 12px}.lsb{background:url(/images/nav_logo229.png) 0 -261px repeat-x;color:#1f1f1f;border:none;cursor:pointer;height:30px;margin:0;outline:0;font:15px sans-serif;vertical-align:top}.lsb:active{background:#dadce0}.lst:focus{outline:none}</style><script nonce=\"mAGoAkIyJ7bCuqauHtAzhw\">(function(){window.google.erd={jsr:1,bv:2289,de:true};\n",
      "var g=this||self;var k,l=(k=g.mei)!=null?k:1,m,p=(m=g.diel)!=null?m:0,q,r=(q=g.sdo)!=null?q:!0,t=0,u,w=google.erd,x=w.jsr;google.ml=function(a,b,d,n,e){e=e===void 0?2:e;b&&(u=a&&a.message);d===void 0&&(d={});d.cad=\"ple_\"+google.ple+\".aple_\"+google.aple;if(google.dl)return google.dl(a,e,d,!0),null;b=d;if(x<0){window.console&&console.error(a,b);if(x===-2)throw a;b=!1}else b=!a||!a.message||a.message===\"Error loading script\"||t>=l&&!n?!1:!0;if(!b)return null;t++;d=d||{};b=encodeURIComponent;var c=\"/gen_204?atyp=i&ei=\"+b(google.kEI);google.kEXPI&&(c+=\"&jexpid=\"+b(google.kEXPI));c+=\"&srcpg=\"+b(google.sn)+\"&jsr=\"+b(w.jsr)+\n",
      "\"&bver=\"+b(w.bv);w.dpf&&(c+=\"&dpf=\"+b(w.dpf));var f=a.lineNumber;f!==void 0&&(c+=\"&line=\"+f);var h=a.fileName;h&&(h.indexOf(\"-extension:/\")>0&&(e=3),c+=\"&script=\"+b(h),f&&h===window.location.href&&(f=document.documentElement.outerHTML.split(\"\\n\")[f],c+=\"&cad=\"+b(f?f.substring(0,300):\"No script found.\")));google.ple&&google.ple===1&&(e=2);c+=\"&jsel=\"+e;for(var v in d)c+=\"&\",c+=b(v),c+=\"=\",c+=b(d[v]);c=c+\"&emsg=\"+b(a.name+\": \"+a.message);c=c+\"&jsst=\"+b(a.stack||\"N/A\");c.length>=12288&&(c=c.substring(0,12288));a=c;n||google.log(0,\"\",a);return a};window.onerror=function(a,b,d,n,e){u!==a&&(a=e instanceof Error?e:Error(a),d===void 0||\"lineNumber\"in a||(a.lineNumber=d),b===void 0||\"fileName\"in a||(a.fileName=b),google.ml(a,!1,void 0,!1,a.name===\"SyntaxError\"||a.message.substring(0,11)===\"SyntaxError\"||a.message.indexOf(\"Script error\")!==-1?3:p));u=null;r&&t>=l&&(window.onerror=null)};})();</script></head><body bgcolor=\"#fff\"><script nonce=\"mAGoAkIyJ7bCuqauHtAzhw\">(function(){var src='/images/nav_logo229.png';var iesg=false;document.body.onload = function(){window.n && window.n();if (document.images){new Image().src=src;}\n",
      "if (!iesg){document.f&&document.f.q.focus();document.gbqf&&document.gbqf.q.focus();}\n",
      "}\n",
      "})();</script><div id=\"mngb\"><div id=gbar><nobr><b class=gb1>&#25628;&#23563;</b> <a class=gb1 href=\"https://www.google.com/imghp?hl=zh-TW&tab=wi\">&#22294;&#29255;</a> <a class=gb1 href=\"https://maps.google.com.hk/maps?hl=zh-TW&tab=wl\">&#22320;&#22294;</a> <a class=gb1 href=\"https://play.google.com/?hl=zh-TW&tab=w8\">Play</a> <a class=gb1 href=\"https://www.youtube.com/?tab=w1\">YouTube</a> <a class=gb1 href=\"https://news.google.com/?tab=wn\">&#26032;&#32862;</a> <a class=gb1 href=\"https://mail.google.com/mail/?tab=wm\">Gmail</a> <a class=gb1 href=\"https://drive.google.com/?tab=wo\">&#38642;&#31471;&#30828;&#30879;</a> <a class=gb1 style=\"text-decoration:none\" href=\"https://www.google.com.hk/intl/zh-TW/about/products?tab=wh\"><u>&#26356;&#22810;</u> &raquo;</a></nobr></div><div id=guser width=100%><nobr><span id=gbn class=gbi></span><span id=gbf class=gbf></span><span id=gbe></span><a href=\"http://www.google.com.hk/history/optout?hl=zh-TW\" class=gb4>&#32178;&#38913;&#35352;&#37636;</a> | <a  href=\"/preferences?hl=zh-TW\" class=gb4>&#35373;&#23450;</a> | <a target=_top id=gb_70 href=\"https://accounts.google.com/ServiceLogin?hl=zh-TW&passive=true&continue=https://www.google.com/&ec=GAZAAQ\" class=gb4>&#30331;&#20837;</a></nobr></div><div class=gbh style=left:0></div><div class=gbh style=right:0></div></div><center><br clear=\"all\" id=\"lgpd\"><div id=\"XjhHGf\"><img alt=\"Google\" height=\"92\" src=\"/images/branding/googlelogo/1x/googlelogo_white_background_color_272x92dp.png\" style=\"padding:28px 0 14px\" width=\"272\" id=\"hplogo\"><br><br></div><form action=\"/search\" name=\"f\"><table cellpadding=\"0\" cellspacing=\"0\"><tr valign=\"top\"><td width=\"25%\">&nbsp;</td><td align=\"center\" nowrap=\"\"><input name=\"ie\" value=\"ISO-8859-1\" type=\"hidden\"><input value=\"zh-HK\" name=\"hl\" type=\"hidden\"><input name=\"source\" type=\"hidden\" value=\"hp\"><input name=\"biw\" type=\"hidden\"><input name=\"bih\" type=\"hidden\"><div class=\"ds\" style=\"height:32px;margin:4px 0\"><input class=\"lst\" style=\"margin:0;padding:5px 8px 0 6px;vertical-align:top;color:#1f1f1f\" autocomplete=\"off\" value=\"\" title=\"Google &#25628;&#23563;\" maxlength=\"2048\" name=\"q\" size=\"57\"></div><br style=\"line-height:0\"><span class=\"ds\"><span class=\"lsbb\"><input class=\"lsb\" value=\"Google &#25628;&#23563;\" name=\"btnG\" type=\"submit\"></span></span><span class=\"ds\"><span class=\"lsbb\"><input class=\"lsb\" id=\"tsuid_cxHIaKm5Nrv50PEP54mUgQw_1\" value=\"&#22909;&#25163;&#27683;\" name=\"btnI\" type=\"submit\"><script nonce=\"mAGoAkIyJ7bCuqauHtAzhw\">(function(){var id='tsuid_cxHIaKm5Nrv50PEP54mUgQw_1';document.getElementById(id).onclick = function(){if (this.form.q.value){this.checked = 1;if (this.form.iflsig)this.form.iflsig.disabled = false;}\n",
      "else top.location='/doodles/';};})();</script><input value=\"AOw8s4IAAAAAaMgfg5Vw7kaj5fNgPZ9N8D1KK5c4bwwI\" name=\"iflsig\" type=\"hidden\"></span></span></td><td class=\"fl sblc\" align=\"left\" nowrap=\"\" width=\"25%\"><a href=\"/advanced_search?hl=zh-HK&amp;authuser=0\">&#36914;&#38542;&#25628;&#23563;</a></td></tr></table><input id=\"gbv\" name=\"gbv\" type=\"hidden\" value=\"1\"><script nonce=\"mAGoAkIyJ7bCuqauHtAzhw\">(function(){var a,b=\"1\";if(document&&document.getElementById)if(typeof XMLHttpRequest!=\"undefined\")b=\"2\";else if(typeof ActiveXObject!=\"undefined\"){var c,d,e=[\"MSXML2.XMLHTTP.6.0\",\"MSXML2.XMLHTTP.3.0\",\"MSXML2.XMLHTTP\",\"Microsoft.XMLHTTP\"];for(c=0;d=e[c++];)try{new ActiveXObject(d),b=\"2\"}catch(h){}}a=b;if(a==\"2\"&&location.search.indexOf(\"&gbv=2\")==-1){var f=google.gbvu,g=document.getElementById(\"gbv\");g&&(g.value=a);f&&window.setTimeout(function(){location.href=f},0)};}).call(this);</script></form><div style=\"font-size:83%;min-height:3.5em\"><br><div id=\"gws-output-pages-elements-homepage_additional_languages__als\"><style>#gws-output-pages-elements-homepage_additional_languages__als{font-size:small;margin-bottom:24px}#SIvCob{color:#545454;display:inline-block;line-height:28px;}#SIvCob a{}.H6sW5{display:inline-block;margin:0 2px;white-space:nowrap}.z4hgWe{display:inline-block;margin:0 2px}</style><div id=\"SIvCob\">Google &#36879;&#36942;&#20197;&#19979;&#35486;&#35328;&#25552;&#20379;&#65306;  <a href=\"https://www.google.com/setprefs?sig=0_k7G1T7bu3Cin4rnfTB8kYkYawdI%3D&amp;hl=zh-CN&amp;source=homepage&amp;sa=X&amp;ved=0ahUKEwjpvrri7NqPAxW7PDQIHecEJcAQ2ZgBCAY\">&#31616;&#20307;&#20013;&#25991;</a>    <a href=\"https://www.google.com/setprefs?sig=0_k7G1T7bu3Cin4rnfTB8kYkYawdI%3D&amp;hl=en&amp;source=homepage&amp;sa=X&amp;ved=0ahUKEwjpvrri7NqPAxW7PDQIHecEJcAQ2ZgBCAc\">English</a>  </div></div></div><span id=\"footer\"><div style=\"font-size:10pt\"><div style=\"margin:19px auto;text-align:center\" id=\"WqQANb\"><a href=\"/intl/zh-TW/ads/\">&#24291;&#21578;</a><a href=\"/intl/zh-TW/about.html\">&#38364;&#26044; Google</a><a href=\"https://www.google.com/setprefdomain?prefdom=HK&amp;prev=https://www.google.com.hk/&amp;sig=K_Kl7EzYh9xRCRwAlxQ6BgAttp9j0%3D\">Google.com.hk</a></div></div><p style=\"font-size:8pt;color:#636363\">&copy; 2025 - <a href=\"/intl/zh-TW/policies/privacy/\">&#31169;&#38577;&#27402;&#25919;&#31574;</a> - <a href=\"/intl/zh-TW/policies/terms/\">&#26781;&#27454;</a></p></span></center><script nonce=\"mAGoAkIyJ7bCuqauHtAzhw\">(function(){window.google.cdo={height:757,width:1440};(function(){var a=window.innerWidth,b=window.innerHeight;if(!a||!b){var c=window.document,d=c.compatMode==\"CSS1Compat\"?c.documentElement:c.body;a=d.clientWidth;b=d.clientHeight}if(a&&b&&(a!=google.cdo.width||b!=google.cdo.height)){var e=google,f=e.log,g=\"/client_204?&atyp=i&biw=\"+a+\"&bih=\"+b+\"&ei=\"+google.kEI,h=\"\",k=window.google&&window.google.kOPI||null;k&&(h+=\"&opi=\"+k);f.call(e,\"\",\"\",g+h)};}).call(this);})();(function(){google.xjs={basecomb:'/xjs/_/js/k\\x3dxjs.hp.en.4tn0pDYxDIk.es5.O/ck\\x3dxjs.hp.FMQYgtx4MbY.L.X.O/am\\x3dAAIAAAAAAAAgAAAAAAAAAAAAAAAAAAAAAAAAAgAAAAIAAABBQCAAAAAAAAAAAAAAAACAAAAAADAoATgAAAAgABAgAAAAACAAAAYAAAAAQAIAgABAAAAAxHcEAAAAArEIAAAA4AU/d\\x3d1/ed\\x3d1/dg\\x3d0/ujg\\x3d1/rs\\x3dACT90oGsjPMn8Wm7MQfW0NTuYwdnzu_BSw',basecss:'/xjs/_/ss/k\\x3dxjs.hp.FMQYgtx4MbY.L.X.O/am\\x3dAAIAAAAAAAAgAAAAAAAAAAAAAAAAAAAAAAAAAgAAAAIAAABBACAAAAAAAAAAAAAAAACAAAAAADAoAAAAAAAgABAgAAAAACAAAAYAAAAAQAIAgABAAAAAAAAAAAAAAAE/rs\\x3dACT90oFXwAl1eTi3YO3VWHMvEI2BJWGbzg',basejs:'/xjs/_/js/k\\x3dxjs.hp.en.4tn0pDYxDIk.es5.O/am\\x3dAAAAAAAAAAAAAAAAAAAAAAAAAAAAAAAAAAAAAAAAAAAAAAABQAAAAAAAAAAAAAAAAACAAAAAAAAAATgAAAAAAAAAAAAAAAAAAAAAAAAAAAAAAAAAAAAAxHcEAAAAArAIAAAA4AU/dg\\x3d0/rs\\x3dACT90oG6V8xK7r4g5mjAqGfKMhyB3aCdYQ',excm:[]};})();(function(){var u='/xjs/_/js/k\\x3dxjs.hp.en.4tn0pDYxDIk.es5.O/am\\x3dAAAAAAAAAAAAAAAAAAAAAAAAAAAAAAAAAAAAAAAAAAAAAAABQAAAAAAAAAAAAAAAAACAAAAAAAAAATgAAAAAAAAAAAAAAAAAAAAAAAAAAAAAAAAAAAAAxHcEAAAAArAIAAAA4AU/d\\x3d1/ed\\x3d1/dg\\x3d3/rs\\x3dACT90oG6V8xK7r4g5mjAqGfKMhyB3aCdYQ/m\\x3dsb_he,d';var st=1;var amd=1000;var mmd=0;var pop=true;var povp=false;var fp='';\n",
      "var e=this||self;function f(){var a=google.ia&&google.ia.r.B2Jtyd;return a&&[1,5,6].indexOf(a.m)>=0&&a.cbfd&&a.cbvi?a:void 0};function g(a){var b=document.createElement(\"link\");b.as=\"script\";b.href=a;b.rel=\"preload\";document.body.appendChild(b)}function k(){var a=[u];google.dp||(a.forEach(g),google.dp=!0)};google.ps=google.ps||[];function l(){var a=u,b=function(){};google.lx=google.stvsc?b:function(){m(a);google.lx=b};google.bx||google.lx()}function n(a,b){b&&(a.src=b);fp&&google.caft&&google.caft(function(){a.fetchPriority=fp});var h=a.onload;a.onload=function(d){h&&h(d);google.ps=google.ps.filter(function(c){return a!==c})};google.ps.push(a);document.body.appendChild(a)}google.as=n;function m(a){google.tick&&google.tick(\"load\",\"xjsls\");var b=document.createElement(\"script\");b.onerror=function(){google.ple=1};b.onload=function(){google.ple=0};google.xjsus=void 0;n(b,a);google.aple=-1;google.dp=!0};function p(){for(var a=document.getElementsByTagName(\"img\"),b=0,h=a.length;b<h;b++){var d=a[b],c;if(c=d.hasAttribute(\"data-lzy_\")&&Number(d.getAttribute(\"data-atf\"))&1)c=d.getAttribute(\"jscontroller\"),c=!((c===\"UBXHI\"||c===\"R3fhkb\"||c===\"TSZEqd\")&&d.hasAttribute(\"data-src\"));if(c)return!0}return!1};var q,r,t,w,x,y,z,A,B;function C(){google.xjsu=u;e._F_jsUrl=u;x=function(){l()};q=!1;r=(st===1||st===3)&&!!google.caft&&!p();t=f();w=(st===2||st===3)&&!!t&&!p();y=pop;z=povp;A=y&&document.prerendering||z&&document.hidden;B=z?\"visibilitychange\":\"prerenderingchange\"}function D(){q||r||w||A||(x(),q=!0)}\n",
      "setTimeout(function(){google.tick&&google.tick(\"load\",\"xjspls\");C();if(r||w||A){if(r){var a=function(){r=!1;D()};google.caft(a);setTimeout(a,amd)}w&&(a=function(){w=!1;D()},t.cbvi.push(a),setTimeout(a,mmd));if(A){var b=function(){(z?document.hidden:document.prerendering)||(A=!1,D(),document.removeEventListener(B,b))};document.addEventListener(B,b,{passive:!0})}q||k()}else x()},0);})();window._ = window._ || {};window._DumpException = _._DumpException = function(e){throw e;};window._s = window._s || {};_s._DumpException = _._DumpException;window._qs = window._qs || {};_qs._DumpException = _._DumpException;(function(){var t=[512,0,512,0,0,0,0,128,512,25265152,2050,8388608,0,131072,50393216,95289418,2097408,32832,33689600,98304,0,50331657,1056,18739456,33554432,8900,6160384];window._F_toggles = window._xjs_toggles = t;})();window._F_installCss = window._F_installCss || function(css){};(function(){google.jl={bfl:0,dw:false,eli:false,ine:false,ubm:false,uwp:true,vs:false};})();(function(){var pmc='{\\x22d\\x22:{},\\x22sb_he\\x22:{\\x22client\\x22:\\x22heirloom-hp\\x22,\\x22dh\\x22:true,\\x22ds\\x22:\\x22\\x22,\\x22host\\x22:\\x22google.com\\x22,\\x22msgs\\x22:{\\x22cibl\\x22:\\x22\\\\u6e05\\\\u9664\\\\u641c\\\\u5c0b\\x22,\\x22dym\\x22:\\x22\\\\u4f60\\\\u662f\\\\u4e0d\\\\u662f\\\\u8981\\\\u67e5\\\\uff1a\\x22,\\x22lcky\\x22:\\x22\\\\u597d\\\\u624b\\\\u6c23\\x22,\\x22lml\\x22:\\x22\\\\u77ad\\\\u89e3\\\\u8a73\\\\u60c5\\x22,\\x22psrc\\x22:\\x22\\\\u5df2\\\\u5f9e\\\\u60a8\\\\u7684\\\\u300c\\\\u003Ca href\\x3d\\\\\\x22/history\\\\\\x22\\\\u003E\\\\u7db2\\\\u9801\\\\u8a18\\\\u9304\\\\u003C/a\\\\u003E\\\\u300d\\\\u4e2d\\\\u79fb\\\\u9664\\\\u9019\\\\u7b46\\\\u641c\\\\u5c0b\\\\u8a18\\\\u9304\\x22,\\x22psrl\\x22:\\x22\\\\u79fb\\\\u9664\\x22,\\x22sbit\\x22:\\x22\\\\u4ee5\\\\u5716\\\\u641c\\\\u5c0b\\x22,\\x22srch\\x22:\\x22Google \\\\u641c\\\\u5c0b\\x22},\\x22ovr\\x22:{},\\x22pq\\x22:\\x22\\x22,\\x22rfs\\x22:[],\\x22stok\\x22:\\x22jOWTRsPCfwx005nTvw6L_aiZs7E\\x22}}';google.pmc=JSON.parse(pmc);})();</script></body></html>"
     ]
    }
   ],
   "source": [
    "!curl https://www.google.com"
   ]
  },
  {
   "cell_type": "code",
   "execution_count": 3,
   "metadata": {
    "colab": {
     "base_uri": "https://localhost:8080/"
    },
    "id": "VyXSsKzbWGal",
    "outputId": "65e47f84-d76f-4e0c-cf46-a6112e17d6c6"
   },
   "outputs": [
    {
     "name": "stdout",
     "output_type": "stream",
     "text": [
      "Mon Sep 15 21:15:36 2025       \n",
      "+-----------------------------------------------------------------------------------------+\n",
      "| NVIDIA-SMI 570.144                Driver Version: 570.144        CUDA Version: 12.8     |\n",
      "|-----------------------------------------+------------------------+----------------------+\n",
      "| GPU  Name                 Persistence-M | Bus-Id          Disp.A | Volatile Uncorr. ECC |\n",
      "| Fan  Temp   Perf          Pwr:Usage/Cap |           Memory-Usage | GPU-Util  Compute M. |\n",
      "|                                         |                        |               MIG M. |\n",
      "|=========================================+========================+======================|\n",
      "|   0  NVIDIA GeForce RTX 5090        Off |   00000000:01:00.0 Off |                  N/A |\n",
      "|  0%   34C    P8             26W /  575W |       0MiB /  32607MiB |      0%      Default |\n",
      "|                                         |                        |                  N/A |\n",
      "+-----------------------------------------+------------------------+----------------------+\n",
      "                                                                                         \n",
      "+-----------------------------------------------------------------------------------------+\n",
      "| Processes:                                                                              |\n",
      "|  GPU   GI   CI              PID   Type   Process name                        GPU Memory |\n",
      "|        ID   ID                                                               Usage      |\n",
      "|=========================================================================================|\n",
      "|  No running processes found                                                             |\n",
      "+-----------------------------------------------------------------------------------------+\n"
     ]
    }
   ],
   "source": [
    "!nvidia-smi"
   ]
  },
  {
   "cell_type": "code",
   "execution_count": 4,
   "metadata": {
    "id": "6FlJZqOQYXi6",
    "scrolled": true
   },
   "outputs": [],
   "source": [
    "#!pip install transformers datasets evaluate accelerate"
   ]
  },
  {
   "cell_type": "code",
   "execution_count": 5,
   "metadata": {
    "colab": {
     "base_uri": "https://localhost:8080/"
    },
    "id": "Q1G2ev64Yfp2",
    "outputId": "4cf089f7-8793-4a59-ea41-15489323dd4d"
   },
   "outputs": [
    {
     "name": "stdout",
     "output_type": "stream",
     "text": [
      "DatasetDict({\n",
      "    train: Dataset({\n",
      "        features: ['sentence', 'label', 'idx'],\n",
      "        num_rows: 67349\n",
      "    })\n",
      "    validation: Dataset({\n",
      "        features: ['sentence', 'label', 'idx'],\n",
      "        num_rows: 872\n",
      "    })\n",
      "    test: Dataset({\n",
      "        features: ['sentence', 'label', 'idx'],\n",
      "        num_rows: 1821\n",
      "    })\n",
      "})\n"
     ]
    }
   ],
   "source": [
    "from datasets import load_dataset\n",
    "\n",
    "# SST-2 是 GLUE 基准测试的一部分\n",
    "dataset = load_dataset(\"glue\", \"sst2\")\n",
    "\n",
    "# 打印出来看看数据集的结构\n",
    "print(dataset)"
   ]
  },
  {
   "cell_type": "code",
   "execution_count": 6,
   "metadata": {
    "colab": {
     "base_uri": "https://localhost:8080/"
    },
    "id": "fEL0vkfTYuUv",
    "outputId": "57482b04-c18c-4030-ea1d-4f3f988cb684"
   },
   "outputs": [
    {
     "name": "stdout",
     "output_type": "stream",
     "text": [
      "预处理完成！\n"
     ]
    }
   ],
   "source": [
    "from transformers import AutoTokenizer\n",
    "\n",
    "# 加载和 BERT-base-uncased 模型配套的 Tokenizer\n",
    "# 'uncased' 的意思是它会先把所有字母转为小写\n",
    "tokenizer = AutoTokenizer.from_pretrained(\"bert-base-uncased\")\n",
    "\n",
    "# 定义一个函数来处理数据集\n",
    "# 它会接收一批数据，然后用 tokenizer 对 'sentence' 字段进行编码\n",
    "def tokenize_function(examples):\n",
    "    return tokenizer(examples[\"sentence\"], padding=\"max_length\", truncation=True)\n",
    "\n",
    "# 使用 .map() 方法将这个函数应用到整个数据集上\n",
    "# batched=True 表示一次性处理一批数据，速度更快\n",
    "tokenized_datasets = dataset.map(tokenize_function, batched=True)\n",
    "\n",
    "print(\"预处理完成！\")"
   ]
  },
  {
   "cell_type": "code",
   "execution_count": 7,
   "metadata": {
    "colab": {
     "base_uri": "https://localhost:8080/"
    },
    "id": "ALf2uovhY-dH",
    "outputId": "942fb00c-9c1c-47a2-c640-4389a74e5fa2"
   },
   "outputs": [
    {
     "name": "stderr",
     "output_type": "stream",
     "text": [
      "Some weights of BertForSequenceClassification were not initialized from the model checkpoint at bert-base-uncased and are newly initialized: ['classifier.bias', 'classifier.weight']\n",
      "You should probably TRAIN this model on a down-stream task to be able to use it for predictions and inference.\n"
     ]
    }
   ],
   "source": [
    "from transformers import AutoModelForSequenceClassification\n",
    "\n",
    "# 加载 BERT 模型用于序列分类\n",
    "model = AutoModelForSequenceClassification.from_pretrained(\"bert-base-uncased\", num_labels=2)"
   ]
  },
  {
   "cell_type": "code",
   "execution_count": 8,
   "metadata": {
    "colab": {
     "base_uri": "https://localhost:8080/"
    },
    "id": "MqiaPXI0ZIU0",
    "outputId": "fae846b8-ba2d-4929-f37a-027c37bb499f"
   },
   "outputs": [
    {
     "name": "stderr",
     "output_type": "stream",
     "text": [
      "Some weights of BertForSequenceClassification were not initialized from the model checkpoint at bert-base-uncased and are newly initialized: ['classifier.bias', 'classifier.weight']\n",
      "You should probably TRAIN this model on a down-stream task to be able to use it for predictions and inference.\n"
     ]
    }
   ],
   "source": [
    "from transformers import AutoModelForSequenceClassification\n",
    "\n",
    "# 加载 BERT 模型用于序列分类\n",
    "model = AutoModelForSequenceClassification.from_pretrained(\"bert-base-uncased\", num_labels=2)"
   ]
  },
  {
   "cell_type": "code",
   "execution_count": 9,
   "metadata": {
    "id": "4zmgDy2bZVc2"
   },
   "outputs": [],
   "source": [
    "from transformers import TrainingArguments\n",
    "\n",
    "# 定义训练参数\n",
    "# \"test_trainer\" 是输出结果的文件夹名\n",
    "training_args = TrainingArguments(\n",
    "    output_dir=\"my_bert_sst2_finetuned\",\n",
    "    num_train_epochs=3,\n",
    "    per_device_train_batch_size=64,\n",
    "    per_device_eval_batch_size=64,\n",
    "\n",
    "    # --- 日志策略 (用于平滑训练曲线) ---\n",
    "    logging_strategy=\"steps\",\n",
    "    logging_steps=50,                 # 非常频繁地记录训练日志 -> wandb的【训练损失】曲线会很平滑\n",
    "\n",
    "    # --- 评估与保存策略 (用于找到最佳模型并绘制验证曲线) ---\n",
    "    eval_strategy=\"steps\",\n",
    "    save_strategy=\"steps\",            # !! 保持评估和保存策略一致\n",
    "    \n",
    "    # 每200步评估和保存一次。这个频率比日志低，可以节省时间，但又足够密集，\n",
    "    # 足以找到最佳模型，并为wandb的【验证曲线】提供足够的数据点。\n",
    "    eval_steps=200,\n",
    "    save_steps=200,                   # !! 保持评估和保存步数一致\n",
    "\n",
    "    # --- 加载最佳模型 ---\n",
    "    load_best_model_at_end=True,\n",
    "    metric_for_best_model=\"accuracy\",\n",
    "    \n",
    "    # (可选但推荐) 为了防止硬盘被占满，只保留最近的3个检查点\n",
    "    save_total_limit=3,\n",
    "    \n",
    "    report_to=\"wandb\", # 明确指定向wandb报告\n",
    ")\n"
   ]
  },
  {
   "cell_type": "code",
   "execution_count": 10,
   "metadata": {
    "colab": {
     "base_uri": "https://localhost:8080/"
    },
    "id": "ttvUqzs4tRkB",
    "outputId": "fedf814d-5707-44b3-d689-161267a13611",
    "scrolled": true
   },
   "outputs": [
    {
     "name": "stdout",
     "output_type": "stream",
     "text": [
      "评估函数定义完成！\n"
     ]
    }
   ],
   "source": [
    "import numpy as np\n",
    "import evaluate\n",
    "\n",
    "# 加载 accuracy 评估指标\n",
    "metric = evaluate.load(\"accuracy\")\n",
    "\n",
    "# 定义一个函数，告诉 Trainer 如何计算指标\n",
    "# 这个函数会在每次评估时被调用\n",
    "def compute_metrics(eval_pred):\n",
    "    logits, labels = eval_pred\n",
    "    predictions = np.argmax(logits, axis=-1)\n",
    "    return metric.compute(predictions=predictions, references=labels)\n",
    "\n",
    "print(\"评估函数定义完成！\")"
   ]
  },
  {
   "cell_type": "code",
   "execution_count": 11,
   "metadata": {
    "colab": {
     "base_uri": "https://localhost:8080/",
     "height": 75
    },
    "id": "kQC39izGtwof",
    "outputId": "c25e599e-5bd1-4401-cd15-ac4a932fb537"
   },
   "outputs": [
    {
     "name": "stderr",
     "output_type": "stream",
     "text": [
      "\u001b[34m\u001b[1mwandb\u001b[0m: \u001b[32m\u001b[41mERROR\u001b[0m Failed to detect the name of this notebook. You can set it manually with the WANDB_NOTEBOOK_NAME environment variable to enable code saving.\n",
      "\u001b[34m\u001b[1mwandb\u001b[0m: Currently logged in as: \u001b[33mmaniaamaeovo\u001b[0m (\u001b[33mmaniaamaeovo-mania\u001b[0m) to \u001b[32mhttps://api.wandb.ai\u001b[0m. Use \u001b[1m`wandb login --relogin`\u001b[0m to force relogin\n"
     ]
    },
    {
     "data": {
      "text/html": [],
      "text/plain": [
       "<IPython.core.display.HTML object>"
      ]
     },
     "metadata": {},
     "output_type": "display_data"
    },
    {
     "data": {
      "text/html": [
       "Tracking run with wandb version 0.21.4"
      ],
      "text/plain": [
       "<IPython.core.display.HTML object>"
      ]
     },
     "metadata": {},
     "output_type": "display_data"
    },
    {
     "data": {
      "text/html": [
       "Run data is saved locally in <code>/root/demo/wandb/run-20250915_211556-s4r1eq90</code>"
      ],
      "text/plain": [
       "<IPython.core.display.HTML object>"
      ]
     },
     "metadata": {},
     "output_type": "display_data"
    },
    {
     "data": {
      "text/html": [
       "Syncing run <strong><a href='https://wandb.ai/maniaamaeovo-mania/huggingface/runs/s4r1eq90' target=\"_blank\">honest-lake-4</a></strong> to <a href='https://wandb.ai/maniaamaeovo-mania/huggingface' target=\"_blank\">Weights & Biases</a> (<a href='https://wandb.me/developer-guide' target=\"_blank\">docs</a>)<br>"
      ],
      "text/plain": [
       "<IPython.core.display.HTML object>"
      ]
     },
     "metadata": {},
     "output_type": "display_data"
    },
    {
     "data": {
      "text/html": [
       " View project at <a href='https://wandb.ai/maniaamaeovo-mania/huggingface' target=\"_blank\">https://wandb.ai/maniaamaeovo-mania/huggingface</a>"
      ],
      "text/plain": [
       "<IPython.core.display.HTML object>"
      ]
     },
     "metadata": {},
     "output_type": "display_data"
    },
    {
     "data": {
      "text/html": [
       " View run at <a href='https://wandb.ai/maniaamaeovo-mania/huggingface/runs/s4r1eq90' target=\"_blank\">https://wandb.ai/maniaamaeovo-mania/huggingface/runs/s4r1eq90</a>"
      ],
      "text/plain": [
       "<IPython.core.display.HTML object>"
      ]
     },
     "metadata": {},
     "output_type": "display_data"
    },
    {
     "data": {
      "text/html": [
       "\n",
       "    <div>\n",
       "      \n",
       "      <progress value='3159' max='3159' style='width:300px; height:20px; vertical-align: middle;'></progress>\n",
       "      [3159/3159 35:07, Epoch 3/3]\n",
       "    </div>\n",
       "    <table border=\"1\" class=\"dataframe\">\n",
       "  <thead>\n",
       " <tr style=\"text-align: left;\">\n",
       "      <th>Step</th>\n",
       "      <th>Training Loss</th>\n",
       "      <th>Validation Loss</th>\n",
       "      <th>Accuracy</th>\n",
       "    </tr>\n",
       "  </thead>\n",
       "  <tbody>\n",
       "    <tr>\n",
       "      <td>200</td>\n",
       "      <td>0.235400</td>\n",
       "      <td>0.226052</td>\n",
       "      <td>0.910550</td>\n",
       "    </tr>\n",
       "    <tr>\n",
       "      <td>400</td>\n",
       "      <td>0.203300</td>\n",
       "      <td>0.237094</td>\n",
       "      <td>0.901376</td>\n",
       "    </tr>\n",
       "    <tr>\n",
       "      <td>600</td>\n",
       "      <td>0.167000</td>\n",
       "      <td>0.225710</td>\n",
       "      <td>0.917431</td>\n",
       "    </tr>\n",
       "    <tr>\n",
       "      <td>800</td>\n",
       "      <td>0.168900</td>\n",
       "      <td>0.198868</td>\n",
       "      <td>0.924312</td>\n",
       "    </tr>\n",
       "    <tr>\n",
       "      <td>1000</td>\n",
       "      <td>0.150600</td>\n",
       "      <td>0.194370</td>\n",
       "      <td>0.918578</td>\n",
       "    </tr>\n",
       "    <tr>\n",
       "      <td>1200</td>\n",
       "      <td>0.085800</td>\n",
       "      <td>0.222667</td>\n",
       "      <td>0.916284</td>\n",
       "    </tr>\n",
       "    <tr>\n",
       "      <td>1400</td>\n",
       "      <td>0.087300</td>\n",
       "      <td>0.243116</td>\n",
       "      <td>0.918578</td>\n",
       "    </tr>\n",
       "    <tr>\n",
       "      <td>1600</td>\n",
       "      <td>0.094800</td>\n",
       "      <td>0.228022</td>\n",
       "      <td>0.924312</td>\n",
       "    </tr>\n",
       "    <tr>\n",
       "      <td>1800</td>\n",
       "      <td>0.087100</td>\n",
       "      <td>0.237748</td>\n",
       "      <td>0.930046</td>\n",
       "    </tr>\n",
       "    <tr>\n",
       "      <td>2000</td>\n",
       "      <td>0.102500</td>\n",
       "      <td>0.214646</td>\n",
       "      <td>0.927752</td>\n",
       "    </tr>\n",
       "    <tr>\n",
       "      <td>2200</td>\n",
       "      <td>0.055300</td>\n",
       "      <td>0.270226</td>\n",
       "      <td>0.923165</td>\n",
       "    </tr>\n",
       "    <tr>\n",
       "      <td>2400</td>\n",
       "      <td>0.052100</td>\n",
       "      <td>0.292095</td>\n",
       "      <td>0.924312</td>\n",
       "    </tr>\n",
       "    <tr>\n",
       "      <td>2600</td>\n",
       "      <td>0.047200</td>\n",
       "      <td>0.271607</td>\n",
       "      <td>0.924312</td>\n",
       "    </tr>\n",
       "    <tr>\n",
       "      <td>2800</td>\n",
       "      <td>0.057400</td>\n",
       "      <td>0.252278</td>\n",
       "      <td>0.928899</td>\n",
       "    </tr>\n",
       "    <tr>\n",
       "      <td>3000</td>\n",
       "      <td>0.057700</td>\n",
       "      <td>0.250630</td>\n",
       "      <td>0.928899</td>\n",
       "    </tr>\n",
       "  </tbody>\n",
       "</table><p>"
      ],
      "text/plain": [
       "<IPython.core.display.HTML object>"
      ]
     },
     "metadata": {},
     "output_type": "display_data"
    },
    {
     "data": {
      "text/plain": [
       "TrainOutput(global_step=3159, training_loss=0.11688037768086515, metrics={'train_runtime': 2110.5255, 'train_samples_per_second': 95.733, 'train_steps_per_second': 1.497, 'total_flos': 5.316079940232192e+16, 'train_loss': 0.11688037768086515, 'epoch': 3.0})"
      ]
     },
     "execution_count": 11,
     "metadata": {},
     "output_type": "execute_result"
    }
   ],
   "source": [
    "from transformers import Trainer\n",
    "\n",
    "# 创建 Trainer 实例\n",
    "trainer = Trainer(\n",
    "    model=model,\n",
    "    args=training_args,\n",
    "    train_dataset=tokenized_datasets[\"train\"],\n",
    "    eval_dataset=tokenized_datasets[\"validation\"],\n",
    "    compute_metrics=compute_metrics,\n",
    ")\n",
    "\n",
    "trainer.train()"
   ]
  },
  {
   "cell_type": "code",
   "execution_count": null,
   "metadata": {},
   "outputs": [],
   "source": []
  }
 ],
 "metadata": {
  "accelerator": "GPU",
  "colab": {
   "gpuType": "T4",
   "provenance": []
  },
  "kernelspec": {
   "display_name": "Python 3 (ipykernel)",
   "language": "python",
   "name": "python3"
  },
  "language_info": {
   "codemirror_mode": {
    "name": "ipython",
    "version": 3
   },
   "file_extension": ".py",
   "mimetype": "text/x-python",
   "name": "python",
   "nbconvert_exporter": "python",
   "pygments_lexer": "ipython3",
   "version": "3.12.7"
  }
 },
 "nbformat": 4,
 "nbformat_minor": 4
}
