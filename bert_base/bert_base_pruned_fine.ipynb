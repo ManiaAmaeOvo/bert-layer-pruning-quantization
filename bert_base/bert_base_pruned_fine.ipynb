{
 "cells": [
  {
   "cell_type": "code",
   "execution_count": 1,
   "id": "899ae24f-895c-4d88-9d38-4c45be3f76cb",
   "metadata": {},
   "outputs": [
    {
     "name": "stdout",
     "output_type": "stream",
     "text": [
      "Libraries for pruning loaded.\n"
     ]
    }
   ],
   "source": [
    "# =======================================================\n",
    "# Cell 1: Imports for Pruning\n",
    "# =======================================================\n",
    "import torch\n",
    "from transformers import AutoConfig, AutoModelForSequenceClassification, AutoTokenizer\n",
    "import os\n",
    "\n",
    "print(\"Libraries for pruning loaded.\")"
   ]
  },
  {
   "cell_type": "code",
   "execution_count": 2,
   "id": "ec828b72-eaad-4d6e-a74b-b54ccc269894",
   "metadata": {},
   "outputs": [
    {
     "name": "stdout",
     "output_type": "stream",
     "text": [
      "Will remove 4 layers: [1, 4, 10, 11]\n",
      "Pruned model will be saved to: ./saved_models/bert_pruned_8_layers_unfinetuned\n"
     ]
    }
   ],
   "source": [
    "# =======================================================\n",
    "# Cell 2: Pruning Configuration\n",
    "# =======================================================\n",
    "# 原始的、微调好的 12 层 FP32 模型的路径\n",
    "ORIGINAL_MODEL_PATH = \"./my_bert_sst2_finetuned/checkpoint-1800\" \n",
    "\n",
    "# 剪枝后的模型（尚未微调）的保存路径\n",
    "PRUNED_MODEL_SAVE_PATH = \"./saved_models/bert_pruned_8_layers_unfinetuned\"\n",
    "\n",
    "# 用来加载分词器的基础模型名称\n",
    "TOKENIZER_NAME = \"bert-base-uncased\"\n",
    "\n",
    "# 根据敏感度分析结果，决定要移除的层 (从0开始计数)\n",
    "# 这是我们讨论的“保守方案”，移除4个最不重要的层\n",
    "LAYERS_TO_REMOVE = {1, 11, 4, 10} \n",
    "# -------------------------\n",
    "\n",
    "# 确保保存目录存在\n",
    "os.makedirs(PRUNED_MODEL_SAVE_PATH, exist_ok=True)\n",
    "\n",
    "print(f\"Will remove {len(LAYERS_TO_REMOVE)} layers: {sorted(list(LAYERS_TO_REMOVE))}\")\n",
    "print(f\"Pruned model will be saved to: {PRUNED_MODEL_SAVE_PATH}\")"
   ]
  },
  {
   "cell_type": "code",
   "execution_count": 3,
   "id": "eb78c72c-98ed-4bf5-901a-3526b9044372",
   "metadata": {},
   "outputs": [
    {
     "name": "stdout",
     "output_type": "stream",
     "text": [
      "Loading original 12-layer model...\n",
      "Creating new pruned model configuration...\n",
      "Mapping weights from original model to pruned model...\n",
      "Saving pruned model to ./saved_models/bert_pruned_8_layers_unfinetuned...\n",
      "\n",
      "--- Pruning Complete! ---\n",
      "Original model had 12 layers.\n",
      "Pruned model has 8 layers.\n"
     ]
    }
   ],
   "source": [
    "# =======================================================\n",
    "# Cell 3: Pruning Logic and Saving\n",
    "# =======================================================\n",
    "print(\"Loading original 12-layer model...\")\n",
    "original_model = AutoModelForSequenceClassification.from_pretrained(ORIGINAL_MODEL_PATH)\n",
    "original_config = original_model.config\n",
    "original_state_dict = original_model.state_dict()\n",
    "\n",
    "print(\"Creating new pruned model configuration...\")\n",
    "# 1. 创建新的配置，层数减少\n",
    "pruned_config = AutoConfig.from_pretrained(ORIGINAL_MODEL_PATH)\n",
    "pruned_config.num_hidden_layers = original_config.num_hidden_layers - len(LAYERS_TO_REMOVE)\n",
    "\n",
    "# 2. 用新配置初始化一个新模型（此时权重是随机的）\n",
    "pruned_model = AutoModelForSequenceClassification.from_config(pruned_config)\n",
    "pruned_state_dict = pruned_model.state_dict()\n",
    "\n",
    "# 3. 核心：权重映射\n",
    "print(\"Mapping weights from original model to pruned model...\")\n",
    "\n",
    "# 拷贝非 Encoder 层的权重 (embeddings, pooler, classifier)\n",
    "for key in original_state_dict:\n",
    "    if not key.startswith(\"bert.encoder.layer.\"):\n",
    "        if key in pruned_state_dict:\n",
    "            pruned_state_dict[key] = original_state_dict[key]\n",
    "\n",
    "# 拷贝需要保留的 Encoder 层的权重\n",
    "new_layer_idx = 0\n",
    "for old_layer_idx in range(original_config.num_hidden_layers):\n",
    "    if old_layer_idx not in LAYERS_TO_REMOVE:\n",
    "        # 遍历旧层中的所有参数 (attention, output, layernorm等)\n",
    "        for key_suffix in [\n",
    "            \"attention.self.query.weight\", \"attention.self.query.bias\",\n",
    "            \"attention.self.key.weight\", \"attention.self.key.bias\",\n",
    "            \"attention.self.value.weight\", \"attention.self.value.bias\",\n",
    "            \"attention.output.dense.weight\", \"attention.output.dense.bias\",\n",
    "            \"attention.output.LayerNorm.weight\", \"attention.output.LayerNorm.bias\",\n",
    "            \"intermediate.dense.weight\", \"intermediate.dense.bias\",\n",
    "            \"output.dense.weight\", \"output.dense.bias\",\n",
    "            \"output.LayerNorm.weight\", \"output.LayerNorm.bias\"\n",
    "        ]:\n",
    "            old_key = f\"bert.encoder.layer.{old_layer_idx}.{key_suffix}\"\n",
    "            new_key = f\"bert.encoder.layer.{new_layer_idx}.{key_suffix}\"\n",
    "            pruned_state_dict[new_key] = original_state_dict[old_key]\n",
    "        \n",
    "        new_layer_idx += 1\n",
    "\n",
    "# 4. 将映射好的权重加载到新模型中\n",
    "pruned_model.load_state_dict(pruned_state_dict)\n",
    "\n",
    "# 5. 保存剪枝后的模型和分词器，以备微调\n",
    "print(f\"Saving pruned model to {PRUNED_MODEL_SAVE_PATH}...\")\n",
    "pruned_model.save_pretrained(PRUNED_MODEL_SAVE_PATH)\n",
    "tokenizer = AutoTokenizer.from_pretrained(TOKENIZER_NAME)\n",
    "tokenizer.save_pretrained(PRUNED_MODEL_SAVE_PATH)\n",
    "\n",
    "print(\"\\n--- Pruning Complete! ---\")\n",
    "print(f\"Original model had {original_config.num_hidden_layers} layers.\")\n",
    "print(f\"Pruned model has {pruned_config.num_hidden_layers} layers.\")"
   ]
  },
  {
   "cell_type": "code",
   "execution_count": 4,
   "id": "ffff06f3-1fb8-4249-9367-196870e1ceac",
   "metadata": {},
   "outputs": [
    {
     "name": "stdout",
     "output_type": "stream",
     "text": [
      "Libraries for fine-tuning loaded.\n"
     ]
    }
   ],
   "source": [
    "# =======================================================\n",
    "# Cell 4: Imports for Fine-tuning\n",
    "# =======================================================\n",
    "from datasets import load_dataset\n",
    "from transformers import Trainer, TrainingArguments\n",
    "import numpy as np\n",
    "import evaluate # 使用 evaluate 库来计算指标\n",
    "\n",
    "print(\"Libraries for fine-tuning loaded.\")"
   ]
  },
  {
   "cell_type": "code",
   "execution_count": 5,
   "id": "85b19731-a56f-43dc-b0c1-7cd3e5490e93",
   "metadata": {},
   "outputs": [
    {
     "name": "stdout",
     "output_type": "stream",
     "text": [
      "Loading and tokenizing dataset...\n"
     ]
    },
    {
     "data": {
      "application/vnd.jupyter.widget-view+json": {
       "model_id": "4b327ca53e304a679b94af4a4ae9700c",
       "version_major": 2,
       "version_minor": 0
      },
      "text/plain": [
       "Map:   0%|          | 0/1821 [00:00<?, ? examples/s]"
      ]
     },
     "metadata": {},
     "output_type": "display_data"
    },
    {
     "name": "stdout",
     "output_type": "stream",
     "text": [
      "Dataset ready and metrics function defined.\n"
     ]
    }
   ],
   "source": [
    "# =======================================================\n",
    "# Cell 5: Fine-tuning Config and Data Prep\n",
    "# =======================================================\n",
    "# --- 配置 ---\n",
    "# 这就是我们上一步保存的、等待微调的剪枝模型\n",
    "MODEL_CHECKPOINT = PRUNED_MODEL_SAVE_PATH \n",
    "# 微调后最终模型的输出目录\n",
    "OUTPUT_DIR = \"./models/bert_pruned_8_layers_finetuned\"\n",
    "# (可选) Weights & Biases 项目名称，用于记录训练曲线\n",
    "WANDB_PROJECT_NAME = \"bert_pruning_sst2\" \n",
    "\n",
    "# --- 数据准备 ---\n",
    "print(\"Loading and tokenizing dataset...\")\n",
    "# 加载分词器\n",
    "tokenizer = AutoTokenizer.from_pretrained(MODEL_CHECKPOINT)\n",
    "# 加载数据集\n",
    "dataset = load_dataset(\"glue\", \"sst2\")\n",
    "# 定义分词函数\n",
    "def tokenize_function(examples):\n",
    "    return tokenizer(examples[\"sentence\"], padding=\"max_length\", truncation=True)\n",
    "# 对整个数据集进行分词\n",
    "tokenized_datasets = dataset.map(tokenize_function, batched=True)\n",
    "\n",
    "# 定义评估指标计算函数\n",
    "accuracy_metric = evaluate.load(\"accuracy\")\n",
    "def compute_metrics(eval_pred):\n",
    "    predictions, labels = eval_pred\n",
    "    predictions = np.argmax(predictions, axis=1)\n",
    "    return accuracy_metric.compute(predictions=predictions, references=labels)\n",
    "\n",
    "print(\"Dataset ready and metrics function defined.\")"
   ]
  },
  {
   "cell_type": "code",
   "execution_count": 6,
   "id": "9e799d18-21ba-48a8-b7d4-1218fb271912",
   "metadata": {},
   "outputs": [
    {
     "name": "stderr",
     "output_type": "stream",
     "text": [
      "/tmp/ipykernel_6931/754626160.py:30: FutureWarning: `tokenizer` is deprecated and will be removed in version 5.0.0 for `Trainer.__init__`. Use `processing_class` instead.\n",
      "  trainer = Trainer(\n",
      "\u001b[34m\u001b[1mwandb\u001b[0m: \u001b[33mWARNING\u001b[0m The `run_name` is currently set to the same value as `TrainingArguments.output_dir`. If this was not intended, please specify a different run name by setting the `TrainingArguments.run_name` parameter.\n",
      "\u001b[34m\u001b[1mwandb\u001b[0m: \u001b[32m\u001b[41mERROR\u001b[0m Failed to detect the name of this notebook. You can set it manually with the WANDB_NOTEBOOK_NAME environment variable to enable code saving.\n"
     ]
    },
    {
     "name": "stdout",
     "output_type": "stream",
     "text": [
      "Starting fine-tuning of the pruned model...\n"
     ]
    },
    {
     "name": "stderr",
     "output_type": "stream",
     "text": [
      "\u001b[34m\u001b[1mwandb\u001b[0m: Currently logged in as: \u001b[33mmaniaamaeovo\u001b[0m (\u001b[33mmaniaamaeovo-mania\u001b[0m) to \u001b[32mhttps://api.wandb.ai\u001b[0m. Use \u001b[1m`wandb login --relogin`\u001b[0m to force relogin\n"
     ]
    },
    {
     "data": {
      "text/html": [],
      "text/plain": [
       "<IPython.core.display.HTML object>"
      ]
     },
     "metadata": {},
     "output_type": "display_data"
    },
    {
     "data": {
      "text/html": [
       "Tracking run with wandb version 0.21.4"
      ],
      "text/plain": [
       "<IPython.core.display.HTML object>"
      ]
     },
     "metadata": {},
     "output_type": "display_data"
    },
    {
     "data": {
      "text/html": [
       "Run data is saved locally in <code>/root/demo/wandb/run-20250918_092445-np5s6v4g</code>"
      ],
      "text/plain": [
       "<IPython.core.display.HTML object>"
      ]
     },
     "metadata": {},
     "output_type": "display_data"
    },
    {
     "data": {
      "text/html": [
       "Syncing run <strong><a href='https://wandb.ai/maniaamaeovo-mania/bert_pruning_sst2/runs/np5s6v4g' target=\"_blank\">./models/bert_pruned_8_layers_finetuned</a></strong> to <a href='https://wandb.ai/maniaamaeovo-mania/bert_pruning_sst2' target=\"_blank\">Weights & Biases</a> (<a href='https://wandb.me/developer-guide' target=\"_blank\">docs</a>)<br>"
      ],
      "text/plain": [
       "<IPython.core.display.HTML object>"
      ]
     },
     "metadata": {},
     "output_type": "display_data"
    },
    {
     "data": {
      "text/html": [
       " View project at <a href='https://wandb.ai/maniaamaeovo-mania/bert_pruning_sst2' target=\"_blank\">https://wandb.ai/maniaamaeovo-mania/bert_pruning_sst2</a>"
      ],
      "text/plain": [
       "<IPython.core.display.HTML object>"
      ]
     },
     "metadata": {},
     "output_type": "display_data"
    },
    {
     "data": {
      "text/html": [
       " View run at <a href='https://wandb.ai/maniaamaeovo-mania/bert_pruning_sst2/runs/np5s6v4g' target=\"_blank\">https://wandb.ai/maniaamaeovo-mania/bert_pruning_sst2/runs/np5s6v4g</a>"
      ],
      "text/plain": [
       "<IPython.core.display.HTML object>"
      ]
     },
     "metadata": {},
     "output_type": "display_data"
    },
    {
     "data": {
      "text/html": [
       "\n",
       "    <div>\n",
       "      \n",
       "      <progress value='3159' max='3159' style='width:300px; height:20px; vertical-align: middle;'></progress>\n",
       "      [3159/3159 24:14, Epoch 3/3]\n",
       "    </div>\n",
       "    <table border=\"1\" class=\"dataframe\">\n",
       "  <thead>\n",
       " <tr style=\"text-align: left;\">\n",
       "      <th>Step</th>\n",
       "      <th>Training Loss</th>\n",
       "      <th>Validation Loss</th>\n",
       "      <th>Accuracy</th>\n",
       "    </tr>\n",
       "  </thead>\n",
       "  <tbody>\n",
       "    <tr>\n",
       "      <td>200</td>\n",
       "      <td>0.092300</td>\n",
       "      <td>0.257266</td>\n",
       "      <td>0.918578</td>\n",
       "    </tr>\n",
       "    <tr>\n",
       "      <td>400</td>\n",
       "      <td>0.092700</td>\n",
       "      <td>0.253976</td>\n",
       "      <td>0.918578</td>\n",
       "    </tr>\n",
       "    <tr>\n",
       "      <td>600</td>\n",
       "      <td>0.086300</td>\n",
       "      <td>0.272143</td>\n",
       "      <td>0.924312</td>\n",
       "    </tr>\n",
       "    <tr>\n",
       "      <td>800</td>\n",
       "      <td>0.085500</td>\n",
       "      <td>0.247817</td>\n",
       "      <td>0.920872</td>\n",
       "    </tr>\n",
       "    <tr>\n",
       "      <td>1000</td>\n",
       "      <td>0.093600</td>\n",
       "      <td>0.243580</td>\n",
       "      <td>0.927752</td>\n",
       "    </tr>\n",
       "    <tr>\n",
       "      <td>1200</td>\n",
       "      <td>0.050900</td>\n",
       "      <td>0.313513</td>\n",
       "      <td>0.922018</td>\n",
       "    </tr>\n",
       "    <tr>\n",
       "      <td>1400</td>\n",
       "      <td>0.046000</td>\n",
       "      <td>0.332521</td>\n",
       "      <td>0.920872</td>\n",
       "    </tr>\n",
       "    <tr>\n",
       "      <td>1600</td>\n",
       "      <td>0.052600</td>\n",
       "      <td>0.318038</td>\n",
       "      <td>0.928899</td>\n",
       "    </tr>\n",
       "    <tr>\n",
       "      <td>1800</td>\n",
       "      <td>0.055000</td>\n",
       "      <td>0.276302</td>\n",
       "      <td>0.927752</td>\n",
       "    </tr>\n",
       "    <tr>\n",
       "      <td>2000</td>\n",
       "      <td>0.076900</td>\n",
       "      <td>0.245984</td>\n",
       "      <td>0.928899</td>\n",
       "    </tr>\n",
       "    <tr>\n",
       "      <td>2200</td>\n",
       "      <td>0.043200</td>\n",
       "      <td>0.300610</td>\n",
       "      <td>0.927752</td>\n",
       "    </tr>\n",
       "    <tr>\n",
       "      <td>2400</td>\n",
       "      <td>0.027900</td>\n",
       "      <td>0.338055</td>\n",
       "      <td>0.924312</td>\n",
       "    </tr>\n",
       "    <tr>\n",
       "      <td>2600</td>\n",
       "      <td>0.035900</td>\n",
       "      <td>0.323990</td>\n",
       "      <td>0.930046</td>\n",
       "    </tr>\n",
       "    <tr>\n",
       "      <td>2800</td>\n",
       "      <td>0.042100</td>\n",
       "      <td>0.320293</td>\n",
       "      <td>0.928899</td>\n",
       "    </tr>\n",
       "    <tr>\n",
       "      <td>3000</td>\n",
       "      <td>0.044700</td>\n",
       "      <td>0.321913</td>\n",
       "      <td>0.930046</td>\n",
       "    </tr>\n",
       "  </tbody>\n",
       "</table><p>"
      ],
      "text/plain": [
       "<IPython.core.display.HTML object>"
      ]
     },
     "metadata": {},
     "output_type": "display_data"
    },
    {
     "name": "stdout",
     "output_type": "stream",
     "text": [
      "Saving the best fine-tuned model...\n",
      "\n",
      "--- Fine-tuning Complete! ---\n",
      "The final fine-tuned pruned model is saved at: ./models/bert_pruned_8_layers_finetuned/best_model\n"
     ]
    }
   ],
   "source": [
    "# =======================================================\n",
    "# Cell 6: Run Fine-tuning\n",
    "# =======================================================\n",
    "# 1. 加载我们剪枝过的模型\n",
    "model_to_finetune = AutoModelForSequenceClassification.from_pretrained(MODEL_CHECKPOINT)\n",
    "\n",
    "# 2. 设置训练参数\n",
    "training_args = TrainingArguments(\n",
    "    output_dir=OUTPUT_DIR,\n",
    "    num_train_epochs=3, # 重新微调可能需要和原始微调差不多的epoch\n",
    "    per_device_train_batch_size=64,\n",
    "    per_device_eval_batch_size=64,\n",
    "    learning_rate=2e-5,\n",
    "    weight_decay=0.01,\n",
    "    logging_strategy=\"steps\",\n",
    "    logging_steps=50,  \n",
    "    eval_strategy=\"steps\", # 每个epoch结束后在验证集上评估一次\n",
    "    save_strategy=\"steps\",       # 每个epoch结束后保存一次模型\n",
    "    eval_steps=200,\n",
    "    save_steps=200,  \n",
    "    load_best_model_at_end=True, # 训练结束后加载表现最好的模型\n",
    "    push_to_hub=False,\n",
    "    report_to=\"wandb\",           # 启用wandb记录\n",
    ")\n",
    "\n",
    "# 设置WandB项目名\n",
    "os.environ[\"WANDB_PROJECT\"] = WANDB_PROJECT_NAME\n",
    "\n",
    "# 3. 初始化 Trainer\n",
    "trainer = Trainer(\n",
    "    model=model_to_finetune,\n",
    "    args=training_args,\n",
    "    train_dataset=tokenized_datasets[\"train\"],\n",
    "    eval_dataset=tokenized_datasets[\"validation\"],\n",
    "    tokenizer=tokenizer,\n",
    "    compute_metrics=compute_metrics,\n",
    ")\n",
    "\n",
    "# 4. 开始训练！\n",
    "print(\"Starting fine-tuning of the pruned model...\")\n",
    "trainer.train()\n",
    "\n",
    "# 5. 保存最终的最佳模型\n",
    "print(\"Saving the best fine-tuned model...\")\n",
    "trainer.save_model(os.path.join(OUTPUT_DIR, \"best_model\"))\n",
    "\n",
    "print(\"\\n--- Fine-tuning Complete! ---\")\n",
    "print(f\"The final fine-tuned pruned model is saved at: {os.path.join(OUTPUT_DIR, 'best_model')}\")"
   ]
  },
  {
   "cell_type": "code",
   "execution_count": null,
   "id": "0f57ba66-ba2e-480a-b0c5-dd4f665ad06d",
   "metadata": {},
   "outputs": [],
   "source": []
  }
 ],
 "metadata": {
  "kernelspec": {
   "display_name": "Python 3 (ipykernel)",
   "language": "python",
   "name": "python3"
  },
  "language_info": {
   "codemirror_mode": {
    "name": "ipython",
    "version": 3
   },
   "file_extension": ".py",
   "mimetype": "text/x-python",
   "name": "python",
   "nbconvert_exporter": "python",
   "pygments_lexer": "ipython3",
   "version": "3.12.7"
  }
 },
 "nbformat": 4,
 "nbformat_minor": 5
}
