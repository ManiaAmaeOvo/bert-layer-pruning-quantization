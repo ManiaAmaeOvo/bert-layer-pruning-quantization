{
 "cells": [
  {
   "cell_type": "code",
   "execution_count": 1,
   "id": "88419f03-d52b-434a-8f29-4e65f3397794",
   "metadata": {},
   "outputs": [
    {
     "name": "stdout",
     "output_type": "stream",
     "text": [
      "Libraries imported successfully.\n",
      "Configuration:\n",
      "  Model Path: ./bert-large-sst2-finetuned/checkpoint-300/\n",
      "  Tokenizer: bert-large-uncased\n",
      "  Batch Size: 16\n",
      "  Using Device: cuda\n",
      "Helper functions defined: load_fp32_model_and_tokenizer, evaluate_accuracy\n",
      "Preparing dataset...\n",
      "Dataset prepared and DataLoader created.\n",
      "Loading tokenizer from 'bert-large-uncased'...\n",
      "Loading FP32 model from './bert-large-sst2-finetuned/checkpoint-300/'...\n",
      "Model and tokenizer loaded.\n",
      "\n",
      "Calculating baseline accuracy...\n"
     ]
    },
    {
     "data": {
      "application/vnd.jupyter.widget-view+json": {
       "model_id": "40015af8261e4739a4a9f82564526087",
       "version_major": 2,
       "version_minor": 0
      },
      "text/plain": [
       "Evaluating Accuracy:   0%|          | 0/55 [00:00<?, ?it/s]"
      ]
     },
     "metadata": {},
     "output_type": "display_data"
    },
    {
     "name": "stdout",
     "output_type": "stream",
     "text": [
      "\n",
      "Baseline Model Accuracy: 0.9312\n",
      "\n",
      "Starting ablation study for 24 layers...\n",
      "--- Analyzing Layer 0 ---\n"
     ]
    },
    {
     "data": {
      "application/vnd.jupyter.widget-view+json": {
       "model_id": "67ff725201b740588941cc60f26709aa",
       "version_major": 2,
       "version_minor": 0
      },
      "text/plain": [
       "Evaluating Accuracy:   0%|          | 0/55 [00:00<?, ?it/s]"
      ]
     },
     "metadata": {},
     "output_type": "display_data"
    },
    {
     "name": "stdout",
     "output_type": "stream",
     "text": [
      "Accuracy after removing layer 0: 0.8796\n",
      "Sensitivity (Accuracy Drop): 0.0516\n",
      "--- Analyzing Layer 1 ---\n"
     ]
    },
    {
     "data": {
      "application/vnd.jupyter.widget-view+json": {
       "model_id": "78db2ada2bcc40bf8918c4dccd1ad7a9",
       "version_major": 2,
       "version_minor": 0
      },
      "text/plain": [
       "Evaluating Accuracy:   0%|          | 0/55 [00:00<?, ?it/s]"
      ]
     },
     "metadata": {},
     "output_type": "display_data"
    },
    {
     "name": "stdout",
     "output_type": "stream",
     "text": [
      "Accuracy after removing layer 1: 0.9300\n",
      "Sensitivity (Accuracy Drop): 0.0011\n",
      "--- Analyzing Layer 2 ---\n"
     ]
    },
    {
     "data": {
      "application/vnd.jupyter.widget-view+json": {
       "model_id": "f5d21cff06a9478b9bd73a44ccdf6fc3",
       "version_major": 2,
       "version_minor": 0
      },
      "text/plain": [
       "Evaluating Accuracy:   0%|          | 0/55 [00:00<?, ?it/s]"
      ]
     },
     "metadata": {},
     "output_type": "display_data"
    },
    {
     "name": "stdout",
     "output_type": "stream",
     "text": [
      "Accuracy after removing layer 2: 0.9255\n",
      "Sensitivity (Accuracy Drop): 0.0057\n",
      "--- Analyzing Layer 3 ---\n"
     ]
    },
    {
     "data": {
      "application/vnd.jupyter.widget-view+json": {
       "model_id": "20ba91be6f8e4e4cb897a02ceb9b3b76",
       "version_major": 2,
       "version_minor": 0
      },
      "text/plain": [
       "Evaluating Accuracy:   0%|          | 0/55 [00:00<?, ?it/s]"
      ]
     },
     "metadata": {},
     "output_type": "display_data"
    },
    {
     "name": "stdout",
     "output_type": "stream",
     "text": [
      "Accuracy after removing layer 3: 0.9232\n",
      "Sensitivity (Accuracy Drop): 0.0080\n",
      "--- Analyzing Layer 4 ---\n"
     ]
    },
    {
     "data": {
      "application/vnd.jupyter.widget-view+json": {
       "model_id": "8ae6e81cd0fc48bf931e15ddff6be823",
       "version_major": 2,
       "version_minor": 0
      },
      "text/plain": [
       "Evaluating Accuracy:   0%|          | 0/55 [00:00<?, ?it/s]"
      ]
     },
     "metadata": {},
     "output_type": "display_data"
    },
    {
     "name": "stdout",
     "output_type": "stream",
     "text": [
      "Accuracy after removing layer 4: 0.9289\n",
      "Sensitivity (Accuracy Drop): 0.0023\n",
      "--- Analyzing Layer 5 ---\n"
     ]
    },
    {
     "data": {
      "application/vnd.jupyter.widget-view+json": {
       "model_id": "c23cef9b2df9406d91012951f7025f16",
       "version_major": 2,
       "version_minor": 0
      },
      "text/plain": [
       "Evaluating Accuracy:   0%|          | 0/55 [00:00<?, ?it/s]"
      ]
     },
     "metadata": {},
     "output_type": "display_data"
    },
    {
     "name": "stdout",
     "output_type": "stream",
     "text": [
      "Accuracy after removing layer 5: 0.9300\n",
      "Sensitivity (Accuracy Drop): 0.0011\n",
      "--- Analyzing Layer 6 ---\n"
     ]
    },
    {
     "data": {
      "application/vnd.jupyter.widget-view+json": {
       "model_id": "6705849106b54f61bdd893e346d60aef",
       "version_major": 2,
       "version_minor": 0
      },
      "text/plain": [
       "Evaluating Accuracy:   0%|          | 0/55 [00:00<?, ?it/s]"
      ]
     },
     "metadata": {},
     "output_type": "display_data"
    },
    {
     "name": "stdout",
     "output_type": "stream",
     "text": [
      "Accuracy after removing layer 6: 0.9312\n",
      "Sensitivity (Accuracy Drop): 0.0000\n",
      "--- Analyzing Layer 7 ---\n"
     ]
    },
    {
     "data": {
      "application/vnd.jupyter.widget-view+json": {
       "model_id": "b6be1da7781f44db852d42b0f3d397f5",
       "version_major": 2,
       "version_minor": 0
      },
      "text/plain": [
       "Evaluating Accuracy:   0%|          | 0/55 [00:00<?, ?it/s]"
      ]
     },
     "metadata": {},
     "output_type": "display_data"
    },
    {
     "name": "stdout",
     "output_type": "stream",
     "text": [
      "Accuracy after removing layer 7: 0.9312\n",
      "Sensitivity (Accuracy Drop): 0.0000\n",
      "--- Analyzing Layer 8 ---\n"
     ]
    },
    {
     "data": {
      "application/vnd.jupyter.widget-view+json": {
       "model_id": "498ee70182c64623bc693fd22632b9cd",
       "version_major": 2,
       "version_minor": 0
      },
      "text/plain": [
       "Evaluating Accuracy:   0%|          | 0/55 [00:00<?, ?it/s]"
      ]
     },
     "metadata": {},
     "output_type": "display_data"
    },
    {
     "name": "stdout",
     "output_type": "stream",
     "text": [
      "Accuracy after removing layer 8: 0.9266\n",
      "Sensitivity (Accuracy Drop): 0.0046\n",
      "--- Analyzing Layer 9 ---\n"
     ]
    },
    {
     "data": {
      "application/vnd.jupyter.widget-view+json": {
       "model_id": "ffc271d689cb40edbf7d057792ea8e14",
       "version_major": 2,
       "version_minor": 0
      },
      "text/plain": [
       "Evaluating Accuracy:   0%|          | 0/55 [00:00<?, ?it/s]"
      ]
     },
     "metadata": {},
     "output_type": "display_data"
    },
    {
     "name": "stdout",
     "output_type": "stream",
     "text": [
      "Accuracy after removing layer 9: 0.9266\n",
      "Sensitivity (Accuracy Drop): 0.0046\n",
      "--- Analyzing Layer 10 ---\n"
     ]
    },
    {
     "data": {
      "application/vnd.jupyter.widget-view+json": {
       "model_id": "c4ff310a7c9042a5b042e76bd0134795",
       "version_major": 2,
       "version_minor": 0
      },
      "text/plain": [
       "Evaluating Accuracy:   0%|          | 0/55 [00:00<?, ?it/s]"
      ]
     },
     "metadata": {},
     "output_type": "display_data"
    },
    {
     "name": "stdout",
     "output_type": "stream",
     "text": [
      "Accuracy after removing layer 10: 0.9255\n",
      "Sensitivity (Accuracy Drop): 0.0057\n",
      "--- Analyzing Layer 11 ---\n"
     ]
    },
    {
     "data": {
      "application/vnd.jupyter.widget-view+json": {
       "model_id": "173cdf6774ea4eaf958cbc01ebcc12c1",
       "version_major": 2,
       "version_minor": 0
      },
      "text/plain": [
       "Evaluating Accuracy:   0%|          | 0/55 [00:00<?, ?it/s]"
      ]
     },
     "metadata": {},
     "output_type": "display_data"
    },
    {
     "name": "stdout",
     "output_type": "stream",
     "text": [
      "Accuracy after removing layer 11: 0.9243\n",
      "Sensitivity (Accuracy Drop): 0.0069\n",
      "--- Analyzing Layer 12 ---\n"
     ]
    },
    {
     "data": {
      "application/vnd.jupyter.widget-view+json": {
       "model_id": "f4b0bb30cf434839923d9e73381fb124",
       "version_major": 2,
       "version_minor": 0
      },
      "text/plain": [
       "Evaluating Accuracy:   0%|          | 0/55 [00:00<?, ?it/s]"
      ]
     },
     "metadata": {},
     "output_type": "display_data"
    },
    {
     "name": "stdout",
     "output_type": "stream",
     "text": [
      "Accuracy after removing layer 12: 0.9243\n",
      "Sensitivity (Accuracy Drop): 0.0069\n",
      "--- Analyzing Layer 13 ---\n"
     ]
    },
    {
     "data": {
      "application/vnd.jupyter.widget-view+json": {
       "model_id": "b9dbec3a96ed414dac23c0459c85dd72",
       "version_major": 2,
       "version_minor": 0
      },
      "text/plain": [
       "Evaluating Accuracy:   0%|          | 0/55 [00:00<?, ?it/s]"
      ]
     },
     "metadata": {},
     "output_type": "display_data"
    },
    {
     "name": "stdout",
     "output_type": "stream",
     "text": [
      "Accuracy after removing layer 13: 0.9209\n",
      "Sensitivity (Accuracy Drop): 0.0103\n",
      "--- Analyzing Layer 14 ---\n"
     ]
    },
    {
     "data": {
      "application/vnd.jupyter.widget-view+json": {
       "model_id": "0cdab06e47c74ba29cdb0064dd697f62",
       "version_major": 2,
       "version_minor": 0
      },
      "text/plain": [
       "Evaluating Accuracy:   0%|          | 0/55 [00:00<?, ?it/s]"
      ]
     },
     "metadata": {},
     "output_type": "display_data"
    },
    {
     "name": "stdout",
     "output_type": "stream",
     "text": [
      "Accuracy after removing layer 14: 0.9209\n",
      "Sensitivity (Accuracy Drop): 0.0103\n",
      "--- Analyzing Layer 15 ---\n"
     ]
    },
    {
     "data": {
      "application/vnd.jupyter.widget-view+json": {
       "model_id": "3a1ed6c3ce084697aaf9782c813be925",
       "version_major": 2,
       "version_minor": 0
      },
      "text/plain": [
       "Evaluating Accuracy:   0%|          | 0/55 [00:00<?, ?it/s]"
      ]
     },
     "metadata": {},
     "output_type": "display_data"
    },
    {
     "name": "stdout",
     "output_type": "stream",
     "text": [
      "Accuracy after removing layer 15: 0.9220\n",
      "Sensitivity (Accuracy Drop): 0.0092\n",
      "--- Analyzing Layer 16 ---\n"
     ]
    },
    {
     "data": {
      "application/vnd.jupyter.widget-view+json": {
       "model_id": "5005d1935526454cbe99df83fd604e6f",
       "version_major": 2,
       "version_minor": 0
      },
      "text/plain": [
       "Evaluating Accuracy:   0%|          | 0/55 [00:00<?, ?it/s]"
      ]
     },
     "metadata": {},
     "output_type": "display_data"
    },
    {
     "name": "stdout",
     "output_type": "stream",
     "text": [
      "Accuracy after removing layer 16: 0.9209\n",
      "Sensitivity (Accuracy Drop): 0.0103\n",
      "--- Analyzing Layer 17 ---\n"
     ]
    },
    {
     "data": {
      "application/vnd.jupyter.widget-view+json": {
       "model_id": "8a36e8ef72164e0d911ff6701e0dc42e",
       "version_major": 2,
       "version_minor": 0
      },
      "text/plain": [
       "Evaluating Accuracy:   0%|          | 0/55 [00:00<?, ?it/s]"
      ]
     },
     "metadata": {},
     "output_type": "display_data"
    },
    {
     "name": "stdout",
     "output_type": "stream",
     "text": [
      "Accuracy after removing layer 17: 0.9197\n",
      "Sensitivity (Accuracy Drop): 0.0115\n",
      "--- Analyzing Layer 18 ---\n"
     ]
    },
    {
     "data": {
      "application/vnd.jupyter.widget-view+json": {
       "model_id": "6379189343a74413be3db1987d092283",
       "version_major": 2,
       "version_minor": 0
      },
      "text/plain": [
       "Evaluating Accuracy:   0%|          | 0/55 [00:00<?, ?it/s]"
      ]
     },
     "metadata": {},
     "output_type": "display_data"
    },
    {
     "name": "stdout",
     "output_type": "stream",
     "text": [
      "Accuracy after removing layer 18: 0.9174\n",
      "Sensitivity (Accuracy Drop): 0.0138\n",
      "--- Analyzing Layer 19 ---\n"
     ]
    },
    {
     "data": {
      "application/vnd.jupyter.widget-view+json": {
       "model_id": "90bade4eeb8641b582f16e69f3967525",
       "version_major": 2,
       "version_minor": 0
      },
      "text/plain": [
       "Evaluating Accuracy:   0%|          | 0/55 [00:00<?, ?it/s]"
      ]
     },
     "metadata": {},
     "output_type": "display_data"
    },
    {
     "name": "stdout",
     "output_type": "stream",
     "text": [
      "Accuracy after removing layer 19: 0.9163\n",
      "Sensitivity (Accuracy Drop): 0.0149\n",
      "--- Analyzing Layer 20 ---\n"
     ]
    },
    {
     "data": {
      "application/vnd.jupyter.widget-view+json": {
       "model_id": "f662ccdb46d44d9989822da36bbe3c6a",
       "version_major": 2,
       "version_minor": 0
      },
      "text/plain": [
       "Evaluating Accuracy:   0%|          | 0/55 [00:00<?, ?it/s]"
      ]
     },
     "metadata": {},
     "output_type": "display_data"
    },
    {
     "name": "stdout",
     "output_type": "stream",
     "text": [
      "Accuracy after removing layer 20: 0.9323\n",
      "Sensitivity (Accuracy Drop): -0.0011\n",
      "--- Analyzing Layer 21 ---\n"
     ]
    },
    {
     "data": {
      "application/vnd.jupyter.widget-view+json": {
       "model_id": "3fbc71d5556e483691a4a8f28e219a88",
       "version_major": 2,
       "version_minor": 0
      },
      "text/plain": [
       "Evaluating Accuracy:   0%|          | 0/55 [00:00<?, ?it/s]"
      ]
     },
     "metadata": {},
     "output_type": "display_data"
    },
    {
     "name": "stdout",
     "output_type": "stream",
     "text": [
      "Accuracy after removing layer 21: 0.9312\n",
      "Sensitivity (Accuracy Drop): 0.0000\n",
      "--- Analyzing Layer 22 ---\n"
     ]
    },
    {
     "data": {
      "application/vnd.jupyter.widget-view+json": {
       "model_id": "40c38ca67a7547058383b7877e8c7021",
       "version_major": 2,
       "version_minor": 0
      },
      "text/plain": [
       "Evaluating Accuracy:   0%|          | 0/55 [00:00<?, ?it/s]"
      ]
     },
     "metadata": {},
     "output_type": "display_data"
    },
    {
     "name": "stdout",
     "output_type": "stream",
     "text": [
      "Accuracy after removing layer 22: 0.9358\n",
      "Sensitivity (Accuracy Drop): -0.0046\n",
      "--- Analyzing Layer 23 ---\n"
     ]
    },
    {
     "data": {
      "application/vnd.jupyter.widget-view+json": {
       "model_id": "b2f8e7cdd9224d90a3e73bcb4dbffb15",
       "version_major": 2,
       "version_minor": 0
      },
      "text/plain": [
       "Evaluating Accuracy:   0%|          | 0/55 [00:00<?, ?it/s]"
      ]
     },
     "metadata": {},
     "output_type": "display_data"
    },
    {
     "name": "stdout",
     "output_type": "stream",
     "text": [
      "Accuracy after removing layer 23: 0.9289\n",
      "Sensitivity (Accuracy Drop): 0.0023\n",
      "\n",
      "--- Sensitivity Analysis Complete ---\n",
      "\n",
      "--- Layer Sensitivity Ranking (from least to most important) ---\n",
      "Layer 22: -0.0046\n",
      "Layer 20: -0.0011\n",
      "Layer 6: 0.0000\n",
      "Layer 7: 0.0000\n",
      "Layer 21: 0.0000\n",
      "Layer 1: 0.0011\n",
      "Layer 5: 0.0011\n",
      "Layer 4: 0.0023\n",
      "Layer 23: 0.0023\n",
      "Layer 8: 0.0046\n",
      "Layer 9: 0.0046\n",
      "Layer 2: 0.0057\n",
      "Layer 10: 0.0057\n",
      "Layer 11: 0.0069\n",
      "Layer 12: 0.0069\n",
      "Layer 3: 0.0080\n",
      "Layer 15: 0.0092\n",
      "Layer 13: 0.0103\n",
      "Layer 14: 0.0103\n",
      "Layer 16: 0.0103\n",
      "Layer 17: 0.0115\n",
      "Layer 18: 0.0138\n",
      "Layer 19: 0.0149\n",
      "Layer 0: 0.0516\n",
      "\n",
      "Chart saved as an editable SVG file: figure/large_bert_layer_sensitivity_analysis.svg\n"
     ]
    },
    {
     "data": {
      "image/png": "[encoded data removed]",
      "text/plain": [
       "<Figure size 1200x1000 with 1 Axes>"
      ]
     },
     "metadata": {},
     "output_type": "display_data"
    }
   ],
   "source": [
    "# analyze_pruning.py\n",
    "\n",
    "# =======================================================\n",
    "# Cell 1: Imports\n",
    "# =======================================================\n",
    "import torch\n",
    "from transformers import AutoTokenizer, AutoModelForSequenceClassification\n",
    "from datasets import load_dataset\n",
    "from torch.utils.data import DataLoader\n",
    "from tqdm.auto import tqdm\n",
    "import numpy as np\n",
    "import matplotlib.pyplot as plt\n",
    "import operator\n",
    "import os\n",
    "\n",
    "plt.rcParams['pdf.fonttype'] = 42\n",
    "plt.rcParams['ps.fonttype'] = 42\n",
    "print(\"Libraries imported successfully.\")\n",
    "\n",
    "\n",
    "# =======================================================\n",
    "# Cell 2: Configuration\n",
    "# =======================================================\n",
    "# --- 请修改这里的配置 ---\n",
    "# 指向你在第2步中微调好的 BERT-Large 模型的 checkpoint 路径\n",
    "# !!! 注意: 请根据你实际生成的 checkpoint 文件夹名称来修改 'checkpoint-xxxx' !!!\n",
    "MODEL_PATH = \"./bert-large-sst2-finetuned/checkpoint-300/\" # <--- 修改点 1\n",
    "# 用来加载分词器的基础模型名称，必须与你微调时使用的一致\n",
    "TOKENIZER_NAME = \"bert-large-uncased\" # <--- 修改点 2\n",
    "# -------------------------\n",
    "\n",
    "BATCH_SIZE = 16 # bert-large 较大，如果显存不足可以减小 batch size\n",
    "DEVICE = torch.device(\"cuda\" if torch.cuda.is_available() else \"cpu\")\n",
    "OUTPUT_FIGURE_DIR = \"./figure\" # 定义输出目录\n",
    "\n",
    "# 确保输出目录存在\n",
    "os.makedirs(OUTPUT_FIGURE_DIR, exist_ok=True)\n",
    "\n",
    "\n",
    "print(f\"Configuration:\")\n",
    "print(f\"  Model Path: {MODEL_PATH}\")\n",
    "print(f\"  Tokenizer: {TOKENIZER_NAME}\")\n",
    "print(f\"  Batch Size: {BATCH_SIZE}\")\n",
    "print(f\"  Using Device: {DEVICE}\")\n",
    "\n",
    "# =======================================================\n",
    "# Cell 3: Helper Functions (Corrected)\n",
    "# =======================================================\n",
    "def load_fp32_model_and_tokenizer(model_path, tokenizer_name, device):\n",
    "    \"\"\"\n",
    "    加载 FP32 模型和分词器。\n",
    "    这个函数专门用于加载标准的、未经量化的 Hugging Face 模型。\n",
    "    \"\"\"\n",
    "    print(f\"Loading tokenizer from '{tokenizer_name}'...\")\n",
    "    tokenizer = AutoTokenizer.from_pretrained(tokenizer_name)\n",
    "\n",
    "    print(f\"Loading FP32 model from '{model_path}'...\")\n",
    "    model = AutoModelForSequenceClassification.from_pretrained(model_path)\n",
    "    model.to(device)\n",
    "    model.eval() # 设置为评估模式\n",
    "\n",
    "    print(\"Model and tokenizer loaded.\")\n",
    "    return model, tokenizer\n",
    "\n",
    "def evaluate_accuracy(model, dataloader, device):\n",
    "    \"\"\"\n",
    "    在给定的数据集上评估模型的准确率。\n",
    "    \"\"\"\n",
    "    total_correct = 0\n",
    "    total_samples = 0\n",
    "\n",
    "    model.eval()\n",
    "    with torch.no_grad():\n",
    "        for batch in tqdm(dataloader, desc=\"Evaluating Accuracy\"):\n",
    "            # 将数据移动到模型所在的设备\n",
    "            batch = {k: v.to(device) for k, v in batch.items()}\n",
    "\n",
    "            # 模型推理\n",
    "            outputs = model(input_ids=batch['input_ids'], attention_mask=batch['attention_mask'])\n",
    "\n",
    "            # 获取预测结果\n",
    "            predictions = torch.argmax(outputs.logits, dim=-1)\n",
    "\n",
    "            labels = batch[\"label\"]\n",
    "\n",
    "            total_correct += (predictions == labels).sum().item()\n",
    "            total_samples += len(labels)\n",
    "\n",
    "    return total_correct / total_samples\n",
    "\n",
    "print(\"Helper functions defined: load_fp32_model_and_tokenizer, evaluate_accuracy\")\n",
    "\n",
    "\n",
    "# =======================================================\n",
    "# Cell 4: Data Preparation\n",
    "# =======================================================\n",
    "print(\"Preparing dataset...\")\n",
    "# 1. 加载原始数据集\n",
    "raw_datasets = load_dataset(\"glue\", \"sst2\")\n",
    "eval_dataset = raw_datasets[\"validation\"]\n",
    "\n",
    "# 2. 定义分词函数\n",
    "# 注意：这里我们使用一个临时的分词器实例，以避免和主分词器混淆\n",
    "tokenizer_for_map = AutoTokenizer.from_pretrained(TOKENIZER_NAME)\n",
    "def tokenize_function(examples):\n",
    "    return tokenizer_for_map(examples[\"sentence\"], padding=\"max_length\", truncation=True, max_length=128)\n",
    "\n",
    "# 3. 对数据集进行分词和格式化\n",
    "tokenized_eval_dataset = eval_dataset.map(tokenize_function, batched=True)\n",
    "tokenized_eval_dataset = tokenized_eval_dataset.remove_columns([\"sentence\", \"idx\"])\n",
    "tokenized_eval_dataset.set_format(\"torch\", columns=[\"input_ids\", \"attention_mask\", \"label\"])\n",
    "\n",
    "# 4. 创建 DataLoader\n",
    "eval_dataloader = DataLoader(tokenized_eval_dataset, batch_size=BATCH_SIZE)\n",
    "\n",
    "print(\"Dataset prepared and DataLoader created.\")\n",
    "\n",
    "\n",
    "# =======================================================\n",
    "# Cell 5: Main Ablation Study Workflow\n",
    "# =======================================================\n",
    "# --- 5.1 加载 Baseline 模型 ---\n",
    "model, tokenizer = load_fp32_model_and_tokenizer(MODEL_PATH, TOKENIZER_NAME, DEVICE)\n",
    "\n",
    "# --- 5.2 计算 Baseline 准确率 ---\n",
    "print(\"\\nCalculating baseline accuracy...\")\n",
    "baseline_accuracy = evaluate_accuracy(model, eval_dataloader, DEVICE)\n",
    "print(f\"\\nBaseline Model Accuracy: {baseline_accuracy:.4f}\")\n",
    "\n",
    "# --- 5.3 执行逐层消融实验 ---\n",
    "sensitivity_scores = {}\n",
    "num_layers = model.config.num_hidden_layers\n",
    "\n",
    "# 定义一个空的 forward 函数，用于“屏蔽”层\n",
    "def identity_forward(hidden_states, *args, **kwargs):\n",
    "    # BERT encoder layer 的输出是一个元组，通常只包含 hidden_states\n",
    "    # 我们返回一个元组以保持格式一致\n",
    "    return (hidden_states,)\n",
    "\n",
    "print(f\"\\nStarting ablation study for {num_layers} layers...\")\n",
    "for i in range(num_layers):\n",
    "    print(f\"--- Analyzing Layer {i} ---\")\n",
    "\n",
    "    # 保存原始层的 forward 方法\n",
    "    original_forward = model.bert.encoder.layer[i].forward\n",
    "\n",
    "    # 替换为 identity_forward 来“屏蔽”该层\n",
    "    model.bert.encoder.layer[i].forward = identity_forward\n",
    "\n",
    "    # 评估修改后模型的性能\n",
    "    acc_after_ablation = evaluate_accuracy(model, eval_dataloader, DEVICE)\n",
    "\n",
    "    # 计算敏感度（准确率下降值）\n",
    "    sensitivity = baseline_accuracy - acc_after_ablation\n",
    "    sensitivity_scores[f\"Layer {i}\"] = sensitivity\n",
    "    print(f\"Accuracy after removing layer {i}: {acc_after_ablation:.4f}\")\n",
    "    print(f\"Sensitivity (Accuracy Drop): {sensitivity:.4f}\")\n",
    "\n",
    "    # ！！！恢复原始的 forward 方法，确保下一轮分析的独立性！！！\n",
    "    model.bert.encoder.layer[i].forward = original_forward\n",
    "\n",
    "print(\"\\n--- Sensitivity Analysis Complete ---\")\n",
    "\n",
    "\n",
    "# =======================================================\n",
    "# Cell 6: Analyze and Visualize Results\n",
    "# =======================================================\n",
    "# 1. 对结果按敏感度（值越小越不重要）进行排序\n",
    "sorted_sensitivity = sorted(sensitivity_scores.items(), key=operator.itemgetter(1))\n",
    "\n",
    "print(\"\\n--- Layer Sensitivity Ranking (from least to most important) ---\")\n",
    "for layer_name, score in sorted_sensitivity:\n",
    "    print(f\"{layer_name}: {score:.4f}\")\n",
    "\n",
    "# 2. 准备数据进行可视化\n",
    "layers = [item[0] for item in sorted_sensitivity]\n",
    "scores = [item[1] for item in sorted_sensitivity]\n",
    "\n",
    "start_color = np.array([204, 229, 255]) / 255 \n",
    "end_color = np.array([1, 115, 178]) / 255  \n",
    "\n",
    "\n",
    "num_bars = len(layers)\n",
    "gradient_colors = [start_color + (end_color - start_color) * i / (num_bars - 1) for i in range(num_bars)]\n",
    "\n",
    "\n",
    "plt.figure(figsize=(12, 10)) \n",
    "\n",
    "bars = plt.barh(layers, scores, color=gradient_colors)\n",
    "\n",
    "plt.xlabel('Accuracy Drop (Higher is More Important)', fontsize=12)\n",
    "plt.ylabel('Transformer Layer', fontsize=12)\n",
    "plt.title('BERT_Large Layer Sensitivity Analysis on SST-2', fontsize=16)\n",
    "plt.gca().invert_yaxis()\n",
    "\n",
    "\n",
    "for bar in bars:\n",
    "    plt.text(bar.get_width() + (max(scores) * 0.01), \n",
    "             bar.get_y() + bar.get_height()/2,\n",
    "             f'{bar.get_width():.4f}',\n",
    "             va='center', ha='left')\n",
    "\n",
    "plt.grid(axis='x', linestyle='--', alpha=0.6)\n",
    "plt.xlim(right=max(scores) * 1.15) \n",
    "\n",
    "output_dir = 'figure'\n",
    "output_filename = 'large_bert_layer_sensitivity_analysis.svg'\n",
    "\n",
    "if not os.path.exists(output_dir):\n",
    "    os.makedirs(output_dir)\n",
    "\n",
    "plt.savefig(os.path.join(output_dir, output_filename), format='svg', bbox_inches='tight', transparent=True)\n",
    "print(f\"\\nChart saved as an editable SVG file: {os.path.join(output_dir, output_filename)}\")\n",
    "\n",
    "plt.show()"
   ]
  },
  {
   "cell_type": "code",
   "execution_count": null,
   "id": "fcf1e96d-5d85-419d-8e69-ed1031f5bc9e",
   "metadata": {},
   "outputs": [],
   "source": []
  }
 ],
 "metadata": {
  "kernelspec": {
   "display_name": "Python 3 (ipykernel)",
   "language": "python",
   "name": "python3"
  },
  "language_info": {
   "codemirror_mode": {
    "name": "ipython",
    "version": 3
   },
   "file_extension": ".py",
   "mimetype": "text/x-python",
   "name": "python",
   "nbconvert_exporter": "python",
   "pygments_lexer": "ipython3",
   "version": "3.12.7"
  }
 },
 "nbformat": 4,
 "nbformat_minor": 5
}
