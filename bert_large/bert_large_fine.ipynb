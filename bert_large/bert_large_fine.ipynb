{
 "cells": [
  {
   "cell_type": "code",
   "execution_count": 1,
   "id": "2793cd53-56c1-480a-99ee-c685c95b2933",
   "metadata": {},
   "outputs": [],
   "source": [
    "# finetune_bert_large.py\n",
    "\n",
    "import torch\n",
    "import numpy as np\n",
    "from datasets import load_dataset\n",
    "from transformers import (\n",
    "    AutoTokenizer,\n",
    "    AutoModelForSequenceClassification,\n",
    "    TrainingArguments,\n",
    "    Trainer,\n",
    ")\n",
    "import evaluate # Hugging Face 的评估库"
   ]
  },
  {
   "cell_type": "code",
   "execution_count": 2,
   "id": "159267af-1f17-499a-b644-57ef6f9feffe",
   "metadata": {},
   "outputs": [
    {
     "name": "stdout",
     "output_type": "stream",
     "text": [
      "Loading tokenizer for 'bert-large-uncased'...\n",
      "Loading dataset 'glue:sst2'...\n",
      "Tokenizing datasets...\n",
      "Loading model 'bert-large-uncased' for sequence classification...\n"
     ]
    },
    {
     "name": "stderr",
     "output_type": "stream",
     "text": [
      "Some weights of BertForSequenceClassification were not initialized from the model checkpoint at bert-large-uncased and are newly initialized: ['classifier.bias', 'classifier.weight']\n",
      "You should probably TRAIN this model on a down-stream task to be able to use it for predictions and inference.\n"
     ]
    }
   ],
   "source": [
    "# =======================================================\n",
    "# 1. 配置\n",
    "# =======================================================\n",
    "MODEL_NAME = \"bert-large-uncased\"\n",
    "DATASET_NAME = \"glue\"\n",
    "DATASET_CONFIG = \"sst2\"\n",
    "OUTPUT_DIR = \"./bert-large-sst2-finetuned\" # 模型保存的目录\n",
    "LOGGING_DIR = \"./logs\"\n",
    "\n",
    "# =======================================================\n",
    "# 2. 加载数据和分词器\n",
    "# =======================================================\n",
    "print(f\"Loading tokenizer for '{MODEL_NAME}'...\")\n",
    "tokenizer = AutoTokenizer.from_pretrained(MODEL_NAME)\n",
    "\n",
    "print(f\"Loading dataset '{DATASET_NAME}:{DATASET_CONFIG}'...\")\n",
    "raw_datasets = load_dataset(DATASET_NAME, DATASET_CONFIG)\n",
    "\n",
    "# =======================================================\n",
    "# 3. 数据预处理\n",
    "# =======================================================\n",
    "def tokenize_function(examples):\n",
    "    # 对句子进行分词，并进行填充和截断\n",
    "    return tokenizer(examples[\"sentence\"], padding=\"max_length\", truncation=True, max_length=128)\n",
    "\n",
    "print(\"Tokenizing datasets...\")\n",
    "tokenized_datasets = raw_datasets.map(tokenize_function, batched=True)\n",
    "\n",
    "# 移除不需要的列，并重命名 label 列以符合模型期望\n",
    "tokenized_datasets = tokenized_datasets.remove_columns([\"sentence\", \"idx\"])\n",
    "# tokenized_datasets = tokenized_datasets.rename_column(\"label\", \"labels\") # Trainer 默认需要 'labels'\n",
    "tokenized_datasets.set_format(\"torch\")\n",
    "\n",
    "# 从数据集中分离出训练集、验证集\n",
    "small_train_dataset = tokenized_datasets[\"train\"].shuffle(seed=42) #.select(range(10000)) # 可以先用一小部分数据快速测试\n",
    "small_eval_dataset = tokenized_datasets[\"validation\"].shuffle(seed=42) #.select(range(400))\n",
    "\n",
    "# =======================================================\n",
    "# 4. 加载模型和定义评估指标\n",
    "# =======================================================\n",
    "print(f\"Loading model '{MODEL_NAME}' for sequence classification...\")\n",
    "# num_labels=2 因为 SST-2 是一个二分类任务 (正面/负面)\n",
    "model = AutoModelForSequenceClassification.from_pretrained(MODEL_NAME, num_labels=2)"
   ]
  },
  {
   "cell_type": "code",
   "execution_count": 3,
   "id": "0e57d6f0-b28c-4b09-82a8-35d367fa153f",
   "metadata": {},
   "outputs": [
    {
     "name": "stdout",
     "output_type": "stream",
     "text": [
      "Setting up training arguments...\n"
     ]
    },
    {
     "name": "stderr",
     "output_type": "stream",
     "text": [
      "/tmp/ipykernel_2845/1828488833.py:30: FutureWarning: `tokenizer` is deprecated and will be removed in version 5.0.0 for `Trainer.__init__`. Use `processing_class` instead.\n",
      "  trainer = Trainer(\n",
      "\u001b[34m\u001b[1mwandb\u001b[0m: \u001b[33mWARNING\u001b[0m The `run_name` is currently set to the same value as `TrainingArguments.output_dir`. If this was not intended, please specify a different run name by setting the `TrainingArguments.run_name` parameter.\n",
      "\u001b[34m\u001b[1mwandb\u001b[0m: \u001b[32m\u001b[41mERROR\u001b[0m Failed to detect the name of this notebook. You can set it manually with the WANDB_NOTEBOOK_NAME environment variable to enable code saving.\n"
     ]
    },
    {
     "name": "stdout",
     "output_type": "stream",
     "text": [
      "Starting training...\n"
     ]
    },
    {
     "name": "stderr",
     "output_type": "stream",
     "text": [
      "\u001b[34m\u001b[1mwandb\u001b[0m: Currently logged in as: \u001b[33mmaniaamaeovo\u001b[0m (\u001b[33mmaniaamaeovo-mania\u001b[0m) to \u001b[32mhttps://api.wandb.ai\u001b[0m. Use \u001b[1m`wandb login --relogin`\u001b[0m to force relogin\n"
     ]
    },
    {
     "data": {
      "text/html": [],
      "text/plain": [
       "<IPython.core.display.HTML object>"
      ]
     },
     "metadata": {},
     "output_type": "display_data"
    },
    {
     "data": {
      "text/html": [
       "Tracking run with wandb version 0.21.4"
      ],
      "text/plain": [
       "<IPython.core.display.HTML object>"
      ]
     },
     "metadata": {},
     "output_type": "display_data"
    },
    {
     "data": {
      "text/html": [
       "Run data is saved locally in <code>/root/zscloud-tmp/demo/wandb/run-20250919_121441-038ywoer</code>"
      ],
      "text/plain": [
       "<IPython.core.display.HTML object>"
      ]
     },
     "metadata": {},
     "output_type": "display_data"
    },
    {
     "data": {
      "text/html": [
       "Syncing run <strong><a href='https://wandb.ai/maniaamaeovo-mania/huggingface/runs/038ywoer' target=\"_blank\">./bert-large-sst2-finetuned</a></strong> to <a href='https://wandb.ai/maniaamaeovo-mania/huggingface' target=\"_blank\">Weights & Biases</a> (<a href='https://wandb.me/developer-guide' target=\"_blank\">docs</a>)<br>"
      ],
      "text/plain": [
       "<IPython.core.display.HTML object>"
      ]
     },
     "metadata": {},
     "output_type": "display_data"
    },
    {
     "data": {
      "text/html": [
       " View project at <a href='https://wandb.ai/maniaamaeovo-mania/huggingface' target=\"_blank\">https://wandb.ai/maniaamaeovo-mania/huggingface</a>"
      ],
      "text/plain": [
       "<IPython.core.display.HTML object>"
      ]
     },
     "metadata": {},
     "output_type": "display_data"
    },
    {
     "data": {
      "text/html": [
       " View run at <a href='https://wandb.ai/maniaamaeovo-mania/huggingface/runs/038ywoer' target=\"_blank\">https://wandb.ai/maniaamaeovo-mania/huggingface/runs/038ywoer</a>"
      ],
      "text/plain": [
       "<IPython.core.display.HTML object>"
      ]
     },
     "metadata": {},
     "output_type": "display_data"
    },
    {
     "data": {
      "text/html": [
       "\n",
       "    <div>\n",
       "      \n",
       "      <progress value='527' max='527' style='width:300px; height:20px; vertical-align: middle;'></progress>\n",
       "      [527/527 02:49, Epoch 1/1]\n",
       "    </div>\n",
       "    <table border=\"1\" class=\"dataframe\">\n",
       "  <thead>\n",
       " <tr style=\"text-align: left;\">\n",
       "      <th>Step</th>\n",
       "      <th>Training Loss</th>\n",
       "      <th>Validation Loss</th>\n",
       "      <th>Accuracy</th>\n",
       "    </tr>\n",
       "  </thead>\n",
       "  <tbody>\n",
       "    <tr>\n",
       "      <td>50</td>\n",
       "      <td>No log</td>\n",
       "      <td>0.629704</td>\n",
       "      <td>0.708716</td>\n",
       "    </tr>\n",
       "    <tr>\n",
       "      <td>100</td>\n",
       "      <td>0.573200</td>\n",
       "      <td>0.300542</td>\n",
       "      <td>0.903670</td>\n",
       "    </tr>\n",
       "    <tr>\n",
       "      <td>150</td>\n",
       "      <td>0.573200</td>\n",
       "      <td>0.216218</td>\n",
       "      <td>0.923165</td>\n",
       "    </tr>\n",
       "    <tr>\n",
       "      <td>200</td>\n",
       "      <td>0.249700</td>\n",
       "      <td>0.212816</td>\n",
       "      <td>0.925459</td>\n",
       "    </tr>\n",
       "    <tr>\n",
       "      <td>250</td>\n",
       "      <td>0.249700</td>\n",
       "      <td>0.205768</td>\n",
       "      <td>0.918578</td>\n",
       "    </tr>\n",
       "    <tr>\n",
       "      <td>300</td>\n",
       "      <td>0.211800</td>\n",
       "      <td>0.187358</td>\n",
       "      <td>0.931193</td>\n",
       "    </tr>\n",
       "    <tr>\n",
       "      <td>350</td>\n",
       "      <td>0.211800</td>\n",
       "      <td>0.184492</td>\n",
       "      <td>0.936927</td>\n",
       "    </tr>\n",
       "    <tr>\n",
       "      <td>400</td>\n",
       "      <td>0.174300</td>\n",
       "      <td>0.226334</td>\n",
       "      <td>0.922018</td>\n",
       "    </tr>\n",
       "    <tr>\n",
       "      <td>450</td>\n",
       "      <td>0.174300</td>\n",
       "      <td>0.224527</td>\n",
       "      <td>0.910550</td>\n",
       "    </tr>\n",
       "    <tr>\n",
       "      <td>500</td>\n",
       "      <td>0.175300</td>\n",
       "      <td>0.237900</td>\n",
       "      <td>0.920872</td>\n",
       "    </tr>\n",
       "  </tbody>\n",
       "</table><p>"
      ],
      "text/plain": [
       "<IPython.core.display.HTML object>"
      ]
     },
     "metadata": {},
     "output_type": "display_data"
    },
    {
     "name": "stdout",
     "output_type": "stream",
     "text": [
      "Training complete.\n",
      "Best model saved to ./bert-large-sst2-finetuned\n"
     ]
    }
   ],
   "source": [
    "# 加载评估指标\n",
    "metric = evaluate.load(\"accuracy\")\n",
    "\n",
    "def compute_metrics(eval_pred):\n",
    "    logits, labels = eval_pred\n",
    "    predictions = np.argmax(logits, axis=-1)\n",
    "    return metric.compute(predictions=predictions, references=labels)\n",
    "\n",
    "# =======================================================\n",
    "# 5. 设置训练参数并开始训练\n",
    "# =======================================================\n",
    "print(\"Setting up training arguments...\")\n",
    "training_args = TrainingArguments(\n",
    "    output_dir=OUTPUT_DIR,\n",
    "    num_train_epochs=1,  # 对于大型模型和SST-2任务，1-3个epoch通常足够\n",
    "    per_device_train_batch_size=128, # 如果显存不足(OOM), 请减小这个值, e.g., 8\n",
    "    per_device_eval_batch_size=128,\n",
    "    warmup_steps=500,\n",
    "    weight_decay=0.01,\n",
    "    logging_dir=LOGGING_DIR,\n",
    "    logging_steps=100,\n",
    "    eval_strategy=\"steps\", # 每个 epoch 结束后进行一次评估\n",
    "    save_strategy=\"steps\",       # 每个 epoch 结束后保存一次模型\n",
    "    eval_steps=50,\n",
    "    save_steps=100,\n",
    "    load_best_model_at_end=True, # 训练结束后加载最佳模型\n",
    "    fp16=torch.cuda.is_available(), # 如果有GPU，开启fp16加速训练\n",
    ")\n",
    "\n",
    "trainer = Trainer(\n",
    "    model=model,\n",
    "    args=training_args,\n",
    "    train_dataset=small_train_dataset,\n",
    "    eval_dataset=small_eval_dataset,\n",
    "    compute_metrics=compute_metrics,\n",
    "    tokenizer=tokenizer,\n",
    ")\n",
    "\n",
    "print(\"Starting training...\")\n",
    "trainer.train()\n",
    "\n",
    "print(\"Training complete.\")\n",
    "print(f\"Best model saved to {training_args.output_dir}\")\n",
    "\n",
    "# 你也可以手动保存最终的模型\n",
    "# trainer.save_model(f\"{OUTPUT_DIR}/final_model\")"
   ]
  },
  {
   "cell_type": "code",
   "execution_count": null,
   "id": "936c422b-a547-44ab-b179-5538e2049400",
   "metadata": {},
   "outputs": [],
   "source": []
  }
 ],
 "metadata": {
  "kernelspec": {
   "display_name": "Python 3 (ipykernel)",
   "language": "python",
   "name": "python3"
  },
  "language_info": {
   "codemirror_mode": {
    "name": "ipython",
    "version": 3
   },
   "file_extension": ".py",
   "mimetype": "text/x-python",
   "name": "python",
   "nbconvert_exporter": "python",
   "pygments_lexer": "ipython3",
   "version": "3.12.7"
  }
 },
 "nbformat": 4,
 "nbformat_minor": 5
}
