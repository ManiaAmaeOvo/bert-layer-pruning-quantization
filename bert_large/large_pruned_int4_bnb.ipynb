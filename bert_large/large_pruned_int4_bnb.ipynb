{
 "cells": [
  {
   "cell_type": "code",
   "execution_count": 1,
   "id": "7540a31a-5363-453b-8f3f-f106bbab7202",
   "metadata": {},
   "outputs": [],
   "source": [
    "# quantize_bnb_int4.py\n",
    "\n",
    "import torch\n",
    "from transformers import AutoTokenizer, AutoModelForSequenceClassification, BitsAndBytesConfig\n",
    "import os"
   ]
  },
  {
   "cell_type": "code",
   "execution_count": 2,
   "id": "9a85e03c-ee2f-4a11-8e74-29a9996c544c",
   "metadata": {},
   "outputs": [
    {
     "name": "stdout",
     "output_type": "stream",
     "text": [
      "Input model (FP32): ./models/bert_pruned_16_layers_finetuned/best_model\n",
      "Output path for INT4 model: ./models/bert_pruned_16L_int4_bnb\n"
     ]
    }
   ],
   "source": [
    "# --- 1. 配置 ---\n",
    "# 输入模型：我们剪枝并微调好的16层FP32模型\n",
    "PRUNED_FP32_MODEL_PATH = \"./models/bert_pruned_16_layers_finetuned/best_model\"\n",
    "\n",
    "# 输出目录：保存INT4量化配置和FP16权重的新路径\n",
    "QUANTIZED_INT4_SAVE_PATH = \"./models/bert_pruned_16L_int4_bnb\"\n",
    "\n",
    "print(f\"Input model (FP32): {PRUNED_FP32_MODEL_PATH}\")\n",
    "print(f\"Output path for INT4 model: {QUANTIZED_INT4_SAVE_PATH}\")"
   ]
  },
  {
   "cell_type": "code",
   "execution_count": 3,
   "id": "9571f943-47e7-43b1-ae15-6706b7449986",
   "metadata": {},
   "outputs": [],
   "source": [
    "# --- 2. 定义INT4量化配置 ---\n",
    "# 这是BitsAndBytes库的核心配置\n",
    "quantization_config = BitsAndBytesConfig(\n",
    "    load_in_4bit=True,                   # 启用4-bit量化\n",
    "    bnb_4bit_quant_type=\"nf4\",           # 使用NF4数据类型，通常效果最好\n",
    "    bnb_4bit_compute_dtype=torch.bfloat16, # 在计算过程中使用bfloat16以保持精度和性能\n",
    "    bnb_4bit_use_double_quant=True,      # 开启二次量化以节省更多空间\n",
    ")"
   ]
  },
  {
   "cell_type": "code",
   "execution_count": 4,
   "id": "cf8f6194-b36d-4439-bcfa-66e06491d1ce",
   "metadata": {},
   "outputs": [
    {
     "name": "stdout",
     "output_type": "stream",
     "text": [
      "\n",
      "Loading model with INT4 quantization...\n",
      "Model loaded in INT4 on GPU.\n",
      "Saving model to ./models/bert_pruned_16L_int4_bnb...\n",
      "\n",
      "--- INT4 Model Saved Successfully! ---\n",
      "Note: The saved files are FP16 weights + a config file.\n",
      "The INT4 quantization is applied automatically when you load this model.\n"
     ]
    }
   ],
   "source": [
    "# --- 3. 加载、量化并保存模型 ---\n",
    "print(\"\\nLoading model with INT4 quantization...\")\n",
    "\n",
    "# 确保有可用的GPU\n",
    "if not torch.cuda.is_available():\n",
    "    raise RuntimeError(\"BitsAndBytes INT4 quantization requires a GPU!\")\n",
    "\n",
    "# 加载模型时直接应用量化配置\n",
    "# device_map=\"auto\" 会自动将模型分配到可用的GPU上\n",
    "model = AutoModelForSequenceClassification.from_pretrained(\n",
    "    PRUNED_FP32_MODEL_PATH,\n",
    "    quantization_config=quantization_config,\n",
    "    device_map=\"auto\",\n",
    ")\n",
    "\n",
    "# 加载分词器\n",
    "tokenizer = AutoTokenizer.from_pretrained(PRUNED_FP32_MODEL_PATH)\n",
    "\n",
    "print(\"Model loaded in INT4 on GPU.\")\n",
    "\n",
    "# 确保输出目录存在\n",
    "os.makedirs(QUANTIZED_INT4_SAVE_PATH, exist_ok=True)\n",
    "\n",
    "# 保存模型（这会保存FP16权重和量化配置文件）\n",
    "print(f\"Saving model to {QUANTIZED_INT4_SAVE_PATH}...\")\n",
    "model.save_pretrained(QUANTIZED_INT4_SAVE_PATH)\n",
    "tokenizer.save_pretrained(QUANTIZED_INT4_SAVE_PATH)\n",
    "\n",
    "print(\"\\n--- INT4 Model Saved Successfully! ---\")\n",
    "print(\"Note: The saved files are FP16 weights + a config file.\")\n",
    "print(\"The INT4 quantization is applied automatically when you load this model.\")"
   ]
  },
  {
   "cell_type": "code",
   "execution_count": null,
   "id": "9b9b60b3-3211-4be7-8f3d-20d64b2bf594",
   "metadata": {},
   "outputs": [],
   "source": []
  }
 ],
 "metadata": {
  "kernelspec": {
   "display_name": "Python 3 (ipykernel)",
   "language": "python",
   "name": "python3"
  },
  "language_info": {
   "codemirror_mode": {
    "name": "ipython",
    "version": 3
   },
   "file_extension": ".py",
   "mimetype": "text/x-python",
   "name": "python",
   "nbconvert_exporter": "python",
   "pygments_lexer": "ipython3",
   "version": "3.12.9"
  }
 },
 "nbformat": 4,
 "nbformat_minor": 5
}
