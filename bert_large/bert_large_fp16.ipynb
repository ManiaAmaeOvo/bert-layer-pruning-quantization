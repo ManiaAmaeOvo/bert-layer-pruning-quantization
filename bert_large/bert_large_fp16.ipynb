{
 "cells": [
  {
   "cell_type": "code",
   "execution_count": 1,
   "id": "314aaad9-5641-4593-837e-f0e7e178c555",
   "metadata": {},
   "outputs": [],
   "source": [
    "import torch\n",
    "from transformers import AutoTokenizer, AutoModelForSequenceClassification\n",
    "from datasets import load_dataset\n",
    "import evaluate\n",
    "from torch.utils.data import DataLoader\n",
    "from tqdm.auto import tqdm\n",
    "import time\n",
    "import numpy as np\n",
    "import os\n",
    "import pandas as pd\n",
    "import matplotlib.pyplot as plt"
   ]
  },
  {
   "cell_type": "code",
   "execution_count": 2,
   "id": "9e8be5ce-9477-480c-acc3-4131fdcb1a4d",
   "metadata": {},
   "outputs": [
    {
     "name": "stdout",
     "output_type": "stream",
     "text": [
      "Configuration set. Using GPU for conversion and evaluation.\n"
     ]
    }
   ],
   "source": [
    "# =======================================================\n",
    "# 步骤 1: 统一配置\n",
    "# =======================================================\n",
    "\n",
    "# --- 1. 配置 ---\n",
    "# --- 新增: Bert-Large Baseline 模型路径 ---\n",
    "BASELINE_FP32_LARGE_MODEL_PATH = \"./bert-large-sst2-finetuned/checkpoint-300/\"\n",
    "\n",
    "# 输入模型：你已经剪枝并微调好的16层FP32模型\n",
    "PRUNED_FP32_MODEL_PATH = \"./models/bert_pruned_16_layers_finetuned/best_model\"\n",
    "\n",
    "# 输出模型：我们将要创建并保存的FP16模型\n",
    "PRUNED_FP16_MODEL_SAVE_PATH = \"./models/bert_pruned_16L_fp16_gpu\"\n",
    "\n",
    "# 分词器名称\n",
    "TOKENIZER_NAME = \"bert-large-uncased\"\n",
    "\n",
    "TEST_SENTENCE = \"This movie is not bad at all, in fact it is surprisingly good!\"\n",
    "LATENCY_RUNS = 100\n",
    "EVAL_BATCH_SIZE = 32\n",
    "FIGURE_DIR = \"./figure\" # 图表保存目录\n",
    "\n",
    "# 确保GPU可用\n",
    "if not torch.cuda.is_available():\n",
    "    raise RuntimeError(\"This experiment requires a GPU!\")\n",
    "DEVICE = torch.device(\"cuda\")\n",
    "\n",
    "print(\"Configuration set. Using GPU for conversion and evaluation.\")\n",
    "os.makedirs(PRUNED_FP16_MODEL_SAVE_PATH, exist_ok=True)\n",
    "os.makedirs(FIGURE_DIR, exist_ok=True)"
   ]
  },
  {
   "cell_type": "code",
   "execution_count": 3,
   "id": "0cee7506-9b06-49ab-a470-b3d13f3cbaf1",
   "metadata": {},
   "outputs": [
    {
     "name": "stdout",
     "output_type": "stream",
     "text": [
      "Loading FP32 model from: ./models/bert_pruned_16_layers_finetuned/best_model\n",
      "Saving FP16 model to: ./models/bert_pruned_16L_fp16_gpu\n",
      "FP16 model conversion and saving complete.\n"
     ]
    }
   ],
   "source": [
    "# =======================================================\n",
    "# 步骤 2: FP16模型转换与保存 (逻辑不变)\n",
    "# =======================================================\n",
    "print(f\"Loading FP32 model from: {PRUNED_FP32_MODEL_PATH}\")\n",
    "model_fp16 = AutoModelForSequenceClassification.from_pretrained(\n",
    "    PRUNED_FP32_MODEL_PATH,\n",
    "    torch_dtype=torch.float16\n",
    ").to(DEVICE)\n",
    "\n",
    "# 加载对应的分词器用于保存\n",
    "tokenizer_to_save = AutoTokenizer.from_pretrained(PRUNED_FP32_MODEL_PATH)\n",
    "\n",
    "print(f\"Saving FP16 model to: {PRUNED_FP16_MODEL_SAVE_PATH}\")\n",
    "model_fp16.save_pretrained(PRUNED_FP16_MODEL_SAVE_PATH)\n",
    "tokenizer_to_save.save_pretrained(PRUNED_FP16_MODEL_SAVE_PATH)\n",
    "print(\"FP16 model conversion and saving complete.\")\n",
    "\n",
    "# 清理内存\n",
    "del model_fp16, tokenizer_to_save\n",
    "torch.cuda.empty_cache()"
   ]
  },
  {
   "cell_type": "code",
   "execution_count": 4,
   "id": "a41d6614-e935-47ad-bf39-cc66a8ee4b96",
   "metadata": {},
   "outputs": [],
   "source": [
    "# =======================================================\n",
    "# 步骤 3: 辅助函数 (逻辑不变)\n",
    "# =======================================================\n",
    "def get_model_size(path):\n",
    "    total_size = 0\n",
    "    for dirpath, _, filenames in os.walk(path):\n",
    "        for f in filenames:\n",
    "            fp = os.path.join(dirpath, f)\n",
    "            total_size += os.path.getsize(fp)\n",
    "    return total_size / (1024 * 1024)\n",
    "\n",
    "def measure_latency(model, tokenizer, device):\n",
    "    inputs = tokenizer(TEST_SENTENCE, return_tensors=\"pt\").to(device)\n",
    "    timings = []\n",
    "    with torch.no_grad():\n",
    "        for _ in range(20): _ = model(**inputs)\n",
    "        for _ in range(LATENCY_RUNS):\n",
    "            torch.cuda.synchronize()\n",
    "            start_time = time.perf_counter()\n",
    "            _ = model(**inputs)\n",
    "            torch.cuda.synchronize()\n",
    "            end_time = time.perf_counter()\n",
    "            timings.append(end_time - start_time)\n",
    "    return np.mean(timings) * 1000\n",
    "\n",
    "def evaluate_accuracy(model, tokenizer, device, eval_dataloader):\n",
    "    metric = evaluate.load(\"accuracy\")\n",
    "    model.eval()\n",
    "    for batch in tqdm(eval_dataloader, desc=f\"Evaluating Accuracy\"):\n",
    "        batch = {k: v.to(device) for k, v in batch.items() if k in ['input_ids', 'attention_mask', 'labels']}\n",
    "        with torch.no_grad():\n",
    "            outputs = model(input_ids=batch['input_ids'], attention_mask=batch['attention_mask'])\n",
    "        predictions = torch.argmax(outputs.logits, dim=-1)\n",
    "        metric.add_batch(predictions=predictions, references=batch[\"labels\"])\n",
    "    return metric.compute()[\"accuracy\"]"
   ]
  },
  {
   "cell_type": "code",
   "execution_count": 5,
   "id": "8a0229ef-3566-4faa-a8ce-59d61f770141",
   "metadata": {},
   "outputs": [
    {
     "name": "stdout",
     "output_type": "stream",
     "text": [
      "Preparing dataset for evaluation...\n"
     ]
    },
    {
     "data": {
      "application/vnd.jupyter.widget-view+json": {
       "model_id": "44f12e259f5f4c9bbe0674fa9fe1e823",
       "version_major": 2,
       "version_minor": 0
      },
      "text/plain": [
       "Map:   0%|          | 0/67349 [00:00<?, ? examples/s]"
      ]
     },
     "metadata": {},
     "output_type": "display_data"
    },
    {
     "data": {
      "application/vnd.jupyter.widget-view+json": {
       "model_id": "b7a40021949948a1bc3faba730414ca5",
       "version_major": 2,
       "version_minor": 0
      },
      "text/plain": [
       "Map:   0%|          | 0/872 [00:00<?, ? examples/s]"
      ]
     },
     "metadata": {},
     "output_type": "display_data"
    },
    {
     "data": {
      "application/vnd.jupyter.widget-view+json": {
       "model_id": "76f15fdf90d746899e4d7d7343ab6803",
       "version_major": 2,
       "version_minor": 0
      },
      "text/plain": [
       "Map:   0%|          | 0/1821 [00:00<?, ? examples/s]"
      ]
     },
     "metadata": {},
     "output_type": "display_data"
    },
    {
     "name": "stdout",
     "output_type": "stream",
     "text": [
      "Dataset ready.\n"
     ]
    }
   ],
   "source": [
    "# =======================================================\n",
    "# 步骤 4: 数据准备 (统一加载分词器)\n",
    "# =======================================================\n",
    "print(\"Preparing dataset for evaluation...\")\n",
    "# --- 修改点 1: 在这里统一加载分词器，供所有后续步骤使用 ---\n",
    "tokenizer = AutoTokenizer.from_pretrained(TOKENIZER_NAME)\n",
    "\n",
    "raw_datasets = load_dataset(\"glue\", \"sst2\")\n",
    "def tokenize_function(examples):\n",
    "    return tokenizer(examples[\"sentence\"], padding=\"max_length\", truncation=True, max_length=128)\n",
    "tokenized_datasets = raw_datasets.map(tokenize_function, batched=True)\n",
    "tokenized_datasets = tokenized_datasets.remove_columns(['sentence', 'idx'])\n",
    "tokenized_datasets = tokenized_datasets.rename_column(\"label\", \"labels\") # 确保列名为 'labels'\n",
    "tokenized_datasets.set_format('torch')\n",
    "eval_dataset = tokenized_datasets[\"validation\"]\n",
    "eval_dataloader = DataLoader(eval_dataset, batch_size=EVAL_BATCH_SIZE)\n",
    "print(\"Dataset ready.\")"
   ]
  },
  {
   "cell_type": "code",
   "execution_count": 6,
   "id": "ddeaf10a-999e-4c6c-85bd-264b444f1a7a",
   "metadata": {},
   "outputs": [
    {
     "name": "stdout",
     "output_type": "stream",
     "text": [
      "\n",
      "==================== EVALUATING: 1. FP32 Baseline (24L) ====================\n"
     ]
    },
    {
     "data": {
      "application/vnd.jupyter.widget-view+json": {
       "model_id": "d04d8061d16b48398391098d6d8d63ac",
       "version_major": 2,
       "version_minor": 0
      },
      "text/plain": [
       "Evaluating Accuracy:   0%|          | 0/28 [00:00<?, ?it/s]"
      ]
     },
     "metadata": {},
     "output_type": "display_data"
    },
    {
     "name": "stdout",
     "output_type": "stream",
     "text": [
      "\n",
      "==================== EVALUATING: 2. Pruned FP32 (16L) ====================\n"
     ]
    },
    {
     "data": {
      "application/vnd.jupyter.widget-view+json": {
       "model_id": "0ccffefd20a443b7ab84ddf46cd85db0",
       "version_major": 2,
       "version_minor": 0
      },
      "text/plain": [
       "Evaluating Accuracy:   0%|          | 0/28 [00:00<?, ?it/s]"
      ]
     },
     "metadata": {},
     "output_type": "display_data"
    },
    {
     "name": "stdout",
     "output_type": "stream",
     "text": [
      "\n",
      "==================== EVALUATING: 3. Pruned FP16 (16L, GPU-Only) ====================\n"
     ]
    },
    {
     "data": {
      "application/vnd.jupyter.widget-view+json": {
       "model_id": "f486ba8a67e94dca87885bfa9ade63ff",
       "version_major": 2,
       "version_minor": 0
      },
      "text/plain": [
       "Evaluating Accuracy:   0%|          | 0/28 [00:00<?, ?it/s]"
      ]
     },
     "metadata": {},
     "output_type": "display_data"
    },
    {
     "name": "stdout",
     "output_type": "stream",
     "text": [
      "\n",
      "========================= FINAL RESULTS =========================\n",
      "| Model                          |   Size (MB) |   Peak GPU Mem (MB) |   Latency (GPU, ms) |   Accuracy (GPU) |\n",
      "|:-------------------------------|------------:|--------------------:|--------------------:|-----------------:|\n",
      "| 1. FP32 Baseline (24L)         |     3836.7  |             1288.91 |                6.25 |           0.9312 |\n",
      "| 2. Pruned FP32 (16L)           |      895    |              904.51 |                4.19 |           0.9392 |\n",
      "| 3. Pruned FP16 (16L, GPU-Only) |      447.97 |              456.82 |                4.53 |           0.9392 |\n"
     ]
    }
   ],
   "source": [
    "# =======================================================\n",
    "# 步骤 5: 性能对比评估 (加入Baseline)\n",
    "# =======================================================\n",
    "results = []\n",
    "# --- 修改点 2: 更新对比列表，加入Baseline模型 ---\n",
    "# bert-large-uncased 原始为24层\n",
    "models_to_compare = [\n",
    "    {\"name\": \"1. FP32 Baseline (24L)\", \"path\": BASELINE_FP32_LARGE_MODEL_PATH, \"dtype\": torch.float32},\n",
    "    {\"name\": \"2. Pruned FP32 (16L)\", \"path\": PRUNED_FP32_MODEL_PATH, \"dtype\": torch.float32},\n",
    "    {\"name\": \"3. Pruned FP16 (16L, GPU-Only)\", \"path\": PRUNED_FP16_MODEL_SAVE_PATH, \"dtype\": torch.float16}\n",
    "]\n",
    "\n",
    "for config in models_to_compare:\n",
    "    print(f\"\\n{'='*20} EVALUATING: {config['name']} {'='*20}\")\n",
    "    current_results = {\"Model\": config['name']}\n",
    "    current_results[\"Size (MB)\"] = get_model_size(config['path'])\n",
    "    \n",
    "    model = AutoModelForSequenceClassification.from_pretrained(config['path'], torch_dtype=config['dtype']).to(DEVICE)\n",
    "    # --- 修改点 3: 移除循环内的分词器加载，使用全局的tokenizer ---\n",
    "    \n",
    "    torch.cuda.reset_peak_memory_stats(DEVICE)\n",
    "    inputs_for_mem = tokenizer(TEST_SENTENCE, return_tensors=\"pt\").to(DEVICE)\n",
    "    with torch.no_grad():\n",
    "        _ = model(**inputs_for_mem)\n",
    "    peak_mem_mb = torch.cuda.max_memory_allocated(DEVICE) / (1024 * 1024)\n",
    "    current_results[\"Peak GPU Mem (MB)\"] = peak_mem_mb\n",
    "    \n",
    "    current_results[\"Latency (GPU, ms)\"] = measure_latency(model, tokenizer, DEVICE)\n",
    "    current_results[\"Accuracy (GPU)\"] = evaluate_accuracy(model, tokenizer, DEVICE, eval_dataloader)\n",
    "    \n",
    "    results.append(current_results)\n",
    "    del model\n",
    "    torch.cuda.empty_cache()\n",
    "\n",
    "print(f\"\\n{'='*25} FINAL RESULTS {'='*25}\")\n",
    "df = pd.DataFrame(results)\n",
    "for col in [\"Size (MB)\", \"Peak GPU Mem (MB)\", \"Latency (GPU, ms)\"]:\n",
    "    df[col] = df[col].map('{:.2f}'.format)\n",
    "df[\"Accuracy (GPU)\"] = df[\"Accuracy (GPU)\"].map('{:.4f}'.format)\n",
    "print(df.to_markdown(index=False))"
   ]
  },
  {
   "cell_type": "code",
   "execution_count": 7,
   "id": "86f6fd07-da9c-4412-a97b-a053c22361c9",
   "metadata": {},
   "outputs": [
    {
     "name": "stdout",
     "output_type": "stream",
     "text": [
      "\n",
      "========================= BATCH LATENCY VS THROUGHPUT TEST =========================\n",
      "\n",
      "--- Testing Model: 1. FP32 Baseline (24L) ---\n",
      "  Batch Size:  1 | Latency: 6.10 ms\n",
      "  Batch Size:  2 | Latency: 6.30 ms\n",
      "  Batch Size:  4 | Latency: 6.46 ms\n",
      "  Batch Size:  8 | Latency: 6.64 ms\n",
      "  Batch Size: 16 | Latency: 10.61 ms\n",
      "  Batch Size: 32 | Latency: 13.52 ms\n",
      "\n",
      "--- Testing Model: 2. Pruned FP32 (16L) ---\n",
      "  Batch Size:  1 | Latency: 4.19 ms\n",
      "  Batch Size:  2 | Latency: 4.32 ms\n",
      "  Batch Size:  4 | Latency: 4.40 ms\n",
      "  Batch Size:  8 | Latency: 4.49 ms\n",
      "  Batch Size: 16 | Latency: 7.12 ms\n",
      "  Batch Size: 32 | Latency: 9.10 ms\n",
      "\n",
      "--- Testing Model: 3. Pruned FP16 (16L, GPU-Only) ---\n",
      "  Batch Size:  1 | Latency: 4.36 ms\n",
      "  Batch Size:  2 | Latency: 4.38 ms\n",
      "  Batch Size:  4 | Latency: 4.35 ms\n",
      "  Batch Size:  8 | Latency: 4.35 ms\n",
      "  Batch Size: 16 | Latency: 4.33 ms\n",
      "  Batch Size: 32 | Latency: 4.20 ms\n",
      "\n",
      "--- Latency Comparison Table ---\n",
      "| Model                          |   Batch Size |   Latency (ms) |\n",
      "|:-------------------------------|-------------:|---------------:|\n",
      "| 1. FP32 Baseline (24L)         |            1 |        6.09997 |\n",
      "| 1. FP32 Baseline (24L)         |            2 |        6.29592 |\n",
      "| 1. FP32 Baseline (24L)         |            4 |        6.45994 |\n",
      "| 1. FP32 Baseline (24L)         |            8 |        6.63935 |\n",
      "| 1. FP32 Baseline (24L)         |           16 |       10.6093  |\n",
      "| 1. FP32 Baseline (24L)         |           32 |       13.5195  |\n",
      "| 2. Pruned FP32 (16L)           |            1 |        4.1879  |\n",
      "| 2. Pruned FP32 (16L)           |            2 |        4.31583 |\n",
      "| 2. Pruned FP32 (16L)           |            4 |        4.39746 |\n",
      "| 2. Pruned FP32 (16L)           |            8 |        4.49454 |\n",
      "| 2. Pruned FP32 (16L)           |           16 |        7.11932 |\n",
      "| 2. Pruned FP32 (16L)           |           32 |        9.10309 |\n",
      "| 3. Pruned FP16 (16L, GPU-Only) |            1 |        4.35756 |\n",
      "| 3. Pruned FP16 (16L, GPU-Only) |            2 |        4.37624 |\n",
      "| 3. Pruned FP16 (16L, GPU-Only) |            4 |        4.35422 |\n",
      "| 3. Pruned FP16 (16L, GPU-Only) |            8 |        4.3539  |\n",
      "| 3. Pruned FP16 (16L, GPU-Only) |           16 |        4.33409 |\n",
      "| 3. Pruned FP16 (16L, GPU-Only) |           32 |        4.20208 |\n",
      "\n",
      "图表已保存为可编辑的SVG文件: ./figure/large_model_latency_comparison.svg\n"
     ]
    },
    {
     "data": {
      "image/png": "[encoded data removed]",
      "text/plain": [
       "<Figure size 1000x600 with 1 Axes>"
      ]
     },
     "metadata": {},
     "output_type": "display_data"
    }
   ],
   "source": [
    "# ==============================================================================\n",
    "# 步骤 6: 批量延迟测试与可视化 (已重构)\n",
    "# ==============================================================================\n",
    "print(f\"\\n{'='*25} BATCH LATENCY VS THROUGHPUT TEST {'='*25}\")\n",
    "\n",
    "BATCH_SIZES = [1, 2, 4, 8, 16, 32] # 对于Large模型，64可能导致OOM，可酌情调整\n",
    "WARMUP_RUNS = 20\n",
    "LATENCY_RUNS_BATCH = 100\n",
    "\n",
    "# --- 修改点 4: 定义包含绘图信息在内的三个模型配置，并应用指定配色方案 ---\n",
    "models_for_latency_test = [\n",
    "    {\n",
    "        \"name\": \"1. FP32 Baseline (24L)\",\n",
    "        \"path\": BASELINE_FP32_LARGE_MODEL_PATH,\n",
    "        \"dtype\": torch.float32,\n",
    "        \"color\": '#0173B2',\n",
    "        \"marker\": 'x'\n",
    "    },\n",
    "    {\n",
    "        \"name\": \"2. Pruned FP32 (16L)\",\n",
    "        \"path\": PRUNED_FP32_MODEL_PATH,\n",
    "        \"dtype\": torch.float32,\n",
    "        \"color\": '#CC78BC',\n",
    "        \"marker\": 'o'\n",
    "    },\n",
    "    {\n",
    "        \"name\": \"3. Pruned FP16 (16L, GPU-Only)\",\n",
    "        \"path\": PRUNED_FP16_MODEL_SAVE_PATH,\n",
    "        \"dtype\": torch.float16,\n",
    "        \"color\": '#D55E00',\n",
    "        \"marker\": 's'\n",
    "    }\n",
    "]\n",
    "\n",
    "latency_results = []\n",
    "test_sentences = [TEST_SENTENCE] * max(BATCH_SIZES)\n",
    "\n",
    "# --- 修改点 5: 重构测试循环，确保每次只加载一个模型，并释放缓存 ---\n",
    "for model_config in models_for_latency_test:\n",
    "    print(f\"\\n--- Testing Model: {model_config['name']} ---\")\n",
    "    \n",
    "    model = AutoModelForSequenceClassification.from_pretrained(\n",
    "        model_config['path'], \n",
    "        torch_dtype=model_config['dtype']\n",
    "    ).to(DEVICE).eval()\n",
    "\n",
    "    for bs in BATCH_SIZES:\n",
    "        inputs = tokenizer(test_sentences[:bs], return_tensors=\"pt\", padding=True).to(DEVICE)\n",
    "        \n",
    "        timings = []\n",
    "        with torch.no_grad():\n",
    "            for _ in range(WARMUP_RUNS): _ = model(**inputs)\n",
    "            for _ in range(LATENCY_RUNS_BATCH):\n",
    "                torch.cuda.synchronize()\n",
    "                start = time.perf_counter()\n",
    "                _ = model(**inputs)\n",
    "                torch.cuda.synchronize()\n",
    "                end = time.perf_counter()\n",
    "                timings.append(end - start)\n",
    "        \n",
    "        latency_ms = np.mean(timings) * 1000\n",
    "        print(f\"  Batch Size: {bs:2d} | Latency: {latency_ms:.2f} ms\")\n",
    "        \n",
    "        latency_results.append({\n",
    "            \"Model\": model_config['name'],\n",
    "            \"Batch Size\": bs,\n",
    "            \"Latency (ms)\": latency_ms\n",
    "        })\n",
    "\n",
    "    del model\n",
    "    torch.cuda.empty_cache()\n",
    "\n",
    "# --- 准备可视化数据 ---\n",
    "df_latency = pd.DataFrame(latency_results)\n",
    "print(\"\\n--- Latency Comparison Table ---\")\n",
    "print(df_latency.to_markdown(index=False))\n",
    "\n",
    "# --- 修改点 6: 循环绘图，动态应用配置 ---\n",
    "plt.figure(figsize=(10, 6))\n",
    "\n",
    "for model_config in models_for_latency_test:\n",
    "    model_name = model_config['name']\n",
    "    subset_df = df_latency[df_latency[\"Model\"] == model_name]\n",
    "    plt.plot(\n",
    "        subset_df[\"Batch Size\"], \n",
    "        subset_df[\"Latency (ms)\"], \n",
    "        marker=model_config['marker'], \n",
    "        label=model_name, \n",
    "        color=model_config['color'], \n",
    "        linewidth=2\n",
    "    )\n",
    "\n",
    "# 更新图表元素\n",
    "plt.xlabel(\"Batch Size (Log Scale)\", fontsize=12)\n",
    "plt.ylabel(\"Latency per Batch (ms)\", fontsize=12)\n",
    "plt.title(\"BERT-Large Model Latency vs. Batch Size Comparison\", fontsize=16)\n",
    "plt.legend(fontsize=11)\n",
    "plt.grid(True, linestyle='--', alpha=0.6)\n",
    "plt.xscale('log', base=2)\n",
    "plt.xticks(BATCH_SIZES, BATCH_SIZES)\n",
    "\n",
    "# 保存图表\n",
    "output_filename = 'large_model_latency_comparison.svg'\n",
    "plt.savefig(os.path.join(FIGURE_DIR, output_filename), format='svg', bbox_inches='tight', transparent=True)\n",
    "print(f\"\\n图表已保存为可编辑的SVG文件: {os.path.join(FIGURE_DIR, output_filename)}\")\n",
    "\n",
    "# 显示图表\n",
    "plt.show()"
   ]
  },
  {
   "cell_type": "code",
   "execution_count": null,
   "id": "0c02ba06-ee6f-4844-a9af-7240b2b37f9d",
   "metadata": {},
   "outputs": [],
   "source": []
  }
 ],
 "metadata": {
  "kernelspec": {
   "display_name": "Python 3 (ipykernel)",
   "language": "python",
   "name": "python3"
  },
  "language_info": {
   "codemirror_mode": {
    "name": "ipython",
    "version": 3
   },
   "file_extension": ".py",
   "mimetype": "text/x-python",
   "name": "python",
   "nbconvert_exporter": "python",
   "pygments_lexer": "ipython3",
   "version": "3.12.9"
  }
 },
 "nbformat": 4,
 "nbformat_minor": 5
}
